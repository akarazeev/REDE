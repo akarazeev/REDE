{
 "cells": [
  {
   "cell_type": "markdown",
   "metadata": {},
   "source": [
    "**File name**: main.ipynb<br>\n",
    "**Authors**: Anton Karazeev &lt;[anton.karazeev@gmail.com](mailto:anton.karazeev@gmail.com)&gt;, Anton Lukashchuk &lt;[academik116@gmail.com](mailto:academik116@gmail.com)&gt;<br>\n",
    "This file is part of REDE project (https://github.com/akarazeev/REDE)"
   ]
  },
  {
   "cell_type": "code",
   "execution_count": 4,
   "metadata": {
    "collapsed": true
   },
   "outputs": [],
   "source": [
    "import torch\n",
    "import torchvision\n",
    "import torchvision.transforms as transforms"
   ]
  },
  {
   "cell_type": "code",
   "execution_count": 5,
   "metadata": {},
   "outputs": [
    {
     "name": "stdout",
     "output_type": "stream",
     "text": [
      "The autoreload extension is already loaded. To reload it, use:\n",
      "  %reload_ext autoreload\n"
     ]
    }
   ],
   "source": [
    "%load_ext autoreload\n",
    "%autoreload 2\n",
    "\n",
    "from utils.dataset import REDE"
   ]
  },
  {
   "cell_type": "code",
   "execution_count": 6,
   "metadata": {},
   "outputs": [
    {
     "name": "stdout",
     "output_type": "stream",
     "text": [
      "Downloading https://github.com/akarazeev/REDE/raw/master/data/rede/raw/2904-5-parameters.pkl\n",
      "Downloading https://github.com/akarazeev/REDE/raw/master/data/rede/raw/2904-62-111-images.pkl\n",
      "Downloading https://github.com/akarazeev/REDE/raw/master/data/rede/raw/2904-frequencies_modes.pkl\n",
      "Processing...\n",
      "Done!\n"
     ]
    },
    {
     "data": {
      "text/plain": [
       "Dataset REDE\n",
       "    Number of datapoints: 2323\n",
       "    Split: train (test_size: 0.2)\n",
       "    Root Location: data/rede\n",
       "    Transforms (if any): <torchvision.transforms.ToTensor object at 0x10df44a90>"
      ]
     },
     "execution_count": 6,
     "metadata": {},
     "output_type": "execute_result"
    }
   ],
   "source": [
    "train_dataset = REDE('data/rede', train=True, transform=torchvision.transforms.ToTensor(),\n",
    "                     download=True, test_size=0.2)\n",
    "train_dataset"
   ]
  },
  {
   "cell_type": "code",
   "execution_count": 7,
   "metadata": {},
   "outputs": [
    {
     "data": {
      "text/plain": [
       "Dataset REDE\n",
       "    Number of datapoints: 581\n",
       "    Split: test (test_size: 0.2)\n",
       "    Root Location: data/rede\n",
       "    Transforms (if any): <torchvision.transforms.ToTensor object at 0x10df5ff28>"
      ]
     },
     "execution_count": 7,
     "metadata": {},
     "output_type": "execute_result"
    }
   ],
   "source": [
    "test_dataset = REDE('data/rede', train=False, transform=torchvision.transforms.ToTensor(),\n",
    "                   download=True, test_size=0.2, test_indices=train_dataset.test_indices)\n",
    "test_dataset"
   ]
  },
  {
   "cell_type": "code",
   "execution_count": 8,
   "metadata": {
    "collapsed": true
   },
   "outputs": [],
   "source": [
    "BATCH = 10\n",
    "train_loader = torch.utils.data.DataLoader(train_dataset, batch_size=BATCH)\n",
    "test_loader = torch.utils.data.DataLoader(test_dataset, batch_size=BATCH)"
   ]
  },
  {
   "cell_type": "code",
   "execution_count": 9,
   "metadata": {},
   "outputs": [
    {
     "data": {
      "image/png": "[encoded data removed]",
      "text/plain": [
       "<matplotlib.figure.Figure at 0x10e2adfd0>"
      ]
     },
     "metadata": {},
     "output_type": "display_data"
    }
   ],
   "source": [
    "import numpy as np\n",
    "import matplotlib.pyplot as plt\n",
    "%matplotlib inline\n",
    "\n",
    "# Function to show an image.\n",
    "def imshow(img):\n",
    "    npimg = img.numpy()\n",
    "    plt.imshow(np.transpose(npimg, (1, 2, 0)))\n",
    "\n",
    "dataiter = iter(train_loader)\n",
    "images, parameters = dataiter.next()\n",
    "\n",
    "# Show images.\n",
    "imshow(torchvision.utils.make_grid(images))"
   ]
  },
  {
   "cell_type": "code",
   "execution_count": 10,
   "metadata": {},
   "outputs": [
    {
     "data": {
      "text/plain": [
       "\n",
       "1.00000e-05 *\n",
       "  0.0400  0.1500  0.0850  2.0000  0.0880\n",
       "  0.0350  0.1550  0.0700  1.8000  0.1000\n",
       "  0.0300  0.1450  0.0800  1.8000  0.0840\n",
       "  0.0250  0.1450  0.0800  2.0000  0.0960\n",
       "  0.0250  0.1500  0.0750  2.0000  0.0920\n",
       "  0.0350  0.1450  0.0800  2.1000  0.0840\n",
       "  0.0250  0.1500  0.0800  2.0000  0.0960\n",
       "  0.0350  0.1450  0.0750  1.9000  0.0880\n",
       "  0.0300  0.1500  0.0750  2.4000  0.0800\n",
       "  0.0250  0.1550  0.0850  1.8000  0.0920\n",
       "[torch.FloatTensor of size 10x5]"
      ]
     },
     "execution_count": 10,
     "metadata": {},
     "output_type": "execute_result"
    }
   ],
   "source": [
    "# Corresponding parameters of simulated models -\n",
    "# (gap, width1, height, radius1, width2).\n",
    "parameters"
   ]
  },
  {
   "cell_type": "code",
   "execution_count": 11,
   "metadata": {
    "collapsed": true
   },
   "outputs": [],
   "source": [
    "from torch.autograd import Variable\n",
    "import torch.optim as optim\n",
    "import torch.nn as nn\n",
    "\n",
    "class Net(nn.Module):\n",
    "    def __init__(self):\n",
    "        super(Net, self).__init__()\n",
    "        self.encoder = nn.Sequential(\n",
    "            nn.Conv2d(1, 3, 5, stride=2),\n",
    "            nn.MaxPool2d(5, 1),\n",
    "            nn.Conv2d(3, 5, 3, stride=1),\n",
    "            nn.MaxPool2d(3, 1),\n",
    "            nn.ReLU(True),\n",
    "            nn.Conv2d(5, 2, 3, stride=1),\n",
    "            nn.MaxPool2d(2, 2)\n",
    "        )\n",
    "        self.head = nn.Linear(396, 5)\n",
    "\n",
    "    def forward(self, x):\n",
    "        x = self.encoder(x)\n",
    "        return self.head(x.view(x.size(0), -1))\n",
    "\n",
    "criterion = nn.MSELoss()"
   ]
  },
  {
   "cell_type": "markdown",
   "metadata": {},
   "source": [
    "# Train"
   ]
  },
  {
   "cell_type": "code",
   "execution_count": 12,
   "metadata": {
    "collapsed": true
   },
   "outputs": [],
   "source": [
    "def test_net(net):\n",
    "    \"\"\"Function helps to calculate loss on test dataset.\"\"\"\n",
    "    test_loss = 0\n",
    "    for data in test_loader:\n",
    "        \n",
    "        inputs, labels = data\n",
    "        labels = labels * 1e7\n",
    "\n",
    "        inputs, labels = Variable(inputs), Variable(labels)\n",
    "\n",
    "        outputs = net(inputs)\n",
    "        loss = criterion(outputs, labels)\n",
    "\n",
    "        test_loss += loss.data[0]\n",
    "    return test_loss"
   ]
  },
  {
   "cell_type": "markdown",
   "metadata": {},
   "source": [
    "# Training loop"
   ]
  },
  {
   "cell_type": "code",
   "execution_count": 13,
   "metadata": {
    "scrolled": false
   },
   "outputs": [
    {
     "name": "stdout",
     "output_type": "stream",
     "text": [
      "[1,    30] loss: 893.221\n",
      "[1,    60] loss: 892.250\n",
      "[1,    90] loss: 885.687\n",
      "[1,   120] loss: 882.640\n",
      "[1,   150] loss: 889.854\n",
      "[1,   180] loss: 851.159\n",
      "[1,   210] loss: 817.803\n",
      "[2,    30] loss: 737.177\n",
      "[2,    60] loss: 667.876\n",
      "[2,    90] loss: 576.134\n",
      "[2,   120] loss: 472.879\n",
      "[2,   150] loss: 363.928\n",
      "[2,   180] loss: 239.244\n",
      "[2,   210] loss: 142.912\n",
      "[2] Test loss: 63.159\n",
      "LR: 0.0001\n",
      "[3,    30] loss: 38.046\n",
      "[3,    60] loss: 18.626\n",
      "[3,    90] loss: 11.356\n",
      "[3,   120] loss: 9.556\n",
      "[3,   150] loss: 7.793\n",
      "[3,   180] loss: 7.827\n",
      "[3,   210] loss: 8.046\n",
      "[4,    30] loss: 7.052\n",
      "[4,    60] loss: 8.028\n",
      "[4,    90] loss: 8.728\n",
      "[4,   120] loss: 8.787\n",
      "[4,   150] loss: 7.544\n",
      "[4,   180] loss: 7.732\n",
      "[4,   210] loss: 7.909\n",
      "[4] Test loss: 7.911\n",
      "LR: 0.0001\n",
      "[5,    30] loss: 6.943\n",
      "[5,    60] loss: 7.905\n",
      "[5,    90] loss: 8.605\n",
      "[5,   120] loss: 8.680\n",
      "[5,   150] loss: 7.460\n",
      "[5,   180] loss: 7.651\n",
      "[5,   210] loss: 7.820\n",
      "[6,    30] loss: 6.869\n",
      "[6,    60] loss: 7.838\n",
      "[6,    90] loss: 8.529\n",
      "[6,   120] loss: 8.613\n",
      "[6,   150] loss: 7.397\n",
      "[6,   180] loss: 7.596\n",
      "[6,   210] loss: 7.744\n",
      "[6] Test loss: 7.793\n",
      "LR: 5e-05\n",
      "[7,    30] loss: 6.804\n",
      "[7,    60] loss: 7.770\n",
      "[7,    90] loss: 8.450\n",
      "[7,   120] loss: 8.541\n",
      "[7,   150] loss: 7.333\n",
      "[7,   180] loss: 7.541\n",
      "[7,   210] loss: 7.666\n",
      "[8,    30] loss: 6.738\n",
      "[8,    60] loss: 7.700\n",
      "[8,    90] loss: 8.370\n",
      "[8,   120] loss: 8.468\n",
      "[8,   150] loss: 7.269\n",
      "[8,   180] loss: 7.487\n",
      "[8,   210] loss: 7.585\n",
      "[8] Test loss: 7.655\n",
      "LR: 5e-05\n",
      "[9,    30] loss: 6.682\n",
      "[9,    60] loss: 7.630\n",
      "[9,    90] loss: 8.300\n",
      "[9,   120] loss: 8.403\n",
      "[9,   150] loss: 7.227\n",
      "[9,   180] loss: 7.440\n",
      "[9,   210] loss: 7.532\n",
      "[10,    30] loss: 6.639\n",
      "[10,    60] loss: 7.594\n",
      "[10,    90] loss: 8.257\n",
      "[10,   120] loss: 8.366\n",
      "[10,   150] loss: 7.196\n",
      "[10,   180] loss: 7.412\n",
      "[10,   210] loss: 7.489\n",
      "[10] Test loss: 7.597\n",
      "LR: 2.5e-05\n",
      "Finished Training\n",
      "CPU times: user 34.8 s, sys: 5.14 s, total: 40 s\n",
      "Wall time: 37.7 s\n"
     ]
    }
   ],
   "source": [
    "%%time\n",
    "\n",
    "EPOCH = 10  # Total number of epochs to train.\n",
    "LR = 0.0001  # Initial learning rate.\n",
    "\n",
    "net = Net()\n",
    "optimizer = optim.Adam(net.parameters(), LR)\n",
    "\n",
    "print_each = 30  # Print training loss every `print_each` iteration.\n",
    "test_each = 2    # Print testing loss every `test_each` epoch.\n",
    "reduce_lr = 4    # Reduce `LR` by 2 every `reduce_lr` epoch.\n",
    "\n",
    "curtimestep = 0\n",
    "test_steps = []\n",
    "test_losses = []\n",
    "train_steps = []\n",
    "train_losses = []\n",
    "\n",
    "for epoch in range(EPOCH):  # Loop over the dataset multiple times.\n",
    "    running_loss = 0.0\n",
    "    for i, data in enumerate(train_loader, 0):\n",
    "        for param_group in optimizer.param_groups:\n",
    "            param_group['lr'] = LR\n",
    "        \n",
    "        # Get the inputs.\n",
    "        inputs, parameters = data\n",
    "        parameters = parameters * 1e7\n",
    "\n",
    "        # Wrap them in Variable.\n",
    "        inputs, parameters = Variable(inputs), Variable(parameters)\n",
    "\n",
    "        # Zero the parameter gradients.\n",
    "        optimizer.zero_grad()\n",
    "\n",
    "        # Forward -> backward -> optimize.\n",
    "        outputs = net(inputs)\n",
    "        loss = criterion(outputs, parameters)\n",
    "        loss.backward()\n",
    "        optimizer.step()\n",
    "        \n",
    "        # Add loss per element.\n",
    "        running_loss += loss.data[0] / len(parameters)\n",
    "        \n",
    "        curtimestep += 1\n",
    "        \n",
    "        # Print statistics.\n",
    "        if i % print_each == print_each - 1:\n",
    "            loss_per_element = running_loss / print_each\n",
    "            print('[%d, %5d] loss: %.3f' % (epoch + 1, i + 1, loss_per_element))\n",
    "            \n",
    "            train_losses.append(loss_per_element)\n",
    "            train_steps.append(curtimestep)\n",
    "            running_loss = 0.0\n",
    "\n",
    "    # Calculate loss on test dataset.\n",
    "    if epoch % test_each == test_each - 1:\n",
    "        test_loss = test_net(net)\n",
    "        test_loss /= len(test_dataset)\n",
    "        print('[%d] Test loss: %.3f' % (epoch + 1, test_loss))\n",
    "        print('LR: {}'.format(LR))\n",
    "        \n",
    "        test_losses.append(test_loss)\n",
    "        test_steps.append(curtimestep)\n",
    "    \n",
    "    # Reduce LR by 2 every `reduce_lr` epoch.\n",
    "    if epoch % reduce_lr == reduce_lr - 1:\n",
    "        LR /= 2.\n",
    "\n",
    "print('Finished Training')"
   ]
  },
  {
   "cell_type": "code",
   "execution_count": 14,
   "metadata": {},
   "outputs": [
    {
     "data": {
      "image/png": "[encoded data removed]",
      "text/plain": [
       "<matplotlib.figure.Figure at 0x10fe87208>"
      ]
     },
     "metadata": {},
     "output_type": "display_data"
    }
   ],
   "source": [
    "plt.plot(train_steps, train_losses, label='Train Loss')\n",
    "plt.plot(test_steps, test_losses, label='Test Loss')\n",
    "plt.xlabel('Timesteps')\n",
    "plt.ylabel('Loss per element')\n",
    "plt.legend()\n",
    "plt.show()"
   ]
  },
  {
   "cell_type": "markdown",
   "metadata": {},
   "source": [
    "# Test"
   ]
  },
  {
   "cell_type": "code",
   "execution_count": 15,
   "metadata": {},
   "outputs": [
    {
     "data": {
      "image/png": "[encoded data removed]",
      "text/plain": [
       "<matplotlib.figure.Figure at 0x10eeb27b8>"
      ]
     },
     "metadata": {},
     "output_type": "display_data"
    }
   ],
   "source": [
    "# Get some random testing images.\n",
    "dataiter = iter(test_loader)\n",
    "images, parameters = dataiter.next()\n",
    "\n",
    "# Print images.\n",
    "imshow(torchvision.utils.make_grid(images))"
   ]
  },
  {
   "cell_type": "code",
   "execution_count": 16,
   "metadata": {},
   "outputs": [
    {
     "data": {
      "text/plain": [
       "\n",
       "   3.0000   15.0000    8.0000  180.0000   10.0000\n",
       "   4.0000   15.5000    7.5000  200.0000    9.6000\n",
       "   3.5000   15.5000    7.5000  220.0000   10.0000\n",
       "   2.5000   14.5000    8.0000  240.0000    9.2000\n",
       "   4.0000   15.5000    8.0000  200.0000    9.6000\n",
       "   4.0000   15.0000    8.0000  220.0000    8.4000\n",
       "   4.0000   14.5000    8.5000  190.0000    9.6000\n",
       "   3.0000   14.5000    7.5000  220.0000    8.4000\n",
       "   3.5000   15.5000    7.0000  180.0000    8.4000\n",
       "   3.0000   14.5000    8.5000  210.0000    9.2000\n",
       "[torch.FloatTensor of size 10x5]"
      ]
     },
     "execution_count": 16,
     "metadata": {},
     "output_type": "execute_result"
    }
   ],
   "source": [
    "parameters * 1e7"
   ]
  },
  {
   "cell_type": "code",
   "execution_count": 17,
   "metadata": {},
   "outputs": [
    {
     "data": {
      "text/plain": [
       "Variable containing:\n",
       "   3.4388   14.7403    7.8929  199.3336   10.2643\n",
       "   3.6808   14.8384    8.0350  205.2168    9.7051\n",
       "   3.5863   14.9165    7.9583  202.4897    9.7128\n",
       "   2.8246   14.8506    7.3698  233.6573    8.4192\n",
       "   3.8730   14.9021    8.2437  206.3441    9.9175\n",
       "   4.0964   15.3312    7.9127  214.7819    8.9574\n",
       "   3.6040   14.7491    8.1898  203.8960    9.6889\n",
       "   3.1884   14.8638    7.5445  221.7162    8.6519\n",
       "   3.3074   14.5182    7.4347  184.9650    8.2445\n",
       "   3.6689   15.2470    7.9955  209.1516    9.2313\n",
       "[torch.FloatTensor of size 10x5]"
      ]
     },
     "execution_count": 17,
     "metadata": {},
     "output_type": "execute_result"
    }
   ],
   "source": [
    "inputs = Variable(images)\n",
    "outputs = net(inputs)\n",
    "outputs"
   ]
  }
 ],
 "metadata": {
  "kernelspec": {
   "display_name": "Python 3",
   "language": "python",
   "name": "python3"
  },
  "language_info": {
   "codemirror_mode": {
    "name": "ipython",
    "version": 3
   },
   "file_extension": ".py",
   "mimetype": "text/x-python",
   "name": "python",
   "nbconvert_exporter": "python",
   "pygments_lexer": "ipython3",
   "version": "3.6.4"
  }
 },
 "nbformat": 4,
 "nbformat_minor": 2
}
