{
 "cells": [
  {
   "cell_type": "markdown",
   "metadata": {},
   "source": [
    "**File name**: main.ipynb<br>\n",
    "**Author**: Anton Karazeev &lt;[anton.karazeev@gmail.com](mailto:anton.karazeev@gmail.com)&gt;<br>\n",
    "This file is part of REDE project (https://github.com/akarazeev/REDE)"
   ]
  },
  {
   "cell_type": "code",
   "execution_count": 1,
   "metadata": {
    "collapsed": true
   },
   "outputs": [],
   "source": [
    "import torch\n",
    "import torchvision\n",
    "import torchvision.transforms as transforms"
   ]
  },
  {
   "cell_type": "code",
   "execution_count": 2,
   "metadata": {
    "collapsed": true
   },
   "outputs": [],
   "source": [
    "%load_ext autoreload\n",
    "%autoreload 2\n",
    "\n",
    "from utils.dataset import REDE"
   ]
  },
  {
   "cell_type": "code",
   "execution_count": 4,
   "metadata": {},
   "outputs": [
    {
     "name": "stdout",
     "output_type": "stream",
     "text": [
      "Downloading https://github.com/akarazeev/REDE/raw/master/data/rede/raw/1056-5-parameters.pkl\n",
      "Downloading https://github.com/akarazeev/REDE/raw/master/data/rede/raw/1056-62-111-images.pkl\n",
      "Downloading https://github.com/akarazeev/REDE/raw/master/data/rede/raw/1056-x-frequencies_modes.pkl\n",
      "Processing...\n",
      "Done!\n"
     ]
    },
    {
     "data": {
      "text/plain": [
       "Dataset REDE\n",
       "    Number of datapoints: 844\n",
       "    Split: train (test_size: 0.2)\n",
       "    Root Location: data/rede\n",
       "    Transforms (if any): <torchvision.transforms.ToTensor object at 0x10e485400>"
      ]
     },
     "execution_count": 4,
     "metadata": {},
     "output_type": "execute_result"
    }
   ],
   "source": [
    "train_dataset = REDE('data/rede', train=True, transform=torchvision.transforms.ToTensor(),\n",
    "                     download=True, test_size=0.2)\n",
    "train_dataset"
   ]
  },
  {
   "cell_type": "code",
   "execution_count": 5,
   "metadata": {},
   "outputs": [
    {
     "data": {
      "text/plain": [
       "Dataset REDE\n",
       "    Number of datapoints: 212\n",
       "    Split: test (test_size: 0.2)\n",
       "    Root Location: data/rede\n",
       "    Transforms (if any): <torchvision.transforms.ToTensor object at 0x1103fea58>"
      ]
     },
     "execution_count": 5,
     "metadata": {},
     "output_type": "execute_result"
    }
   ],
   "source": [
    "test_dataset = REDE('data/rede', train=False, transform=torchvision.transforms.ToTensor(),\n",
    "                   download=True, test_size=0.2, test_indices=train_dataset.test_indices)\n",
    "test_dataset"
   ]
  },
  {
   "cell_type": "code",
   "execution_count": 6,
   "metadata": {
    "collapsed": true
   },
   "outputs": [],
   "source": [
    "BATCH = 10\n",
    "train_loader = torch.utils.data.DataLoader(train_dataset, batch_size=BATCH)\n",
    "test_loader = torch.utils.data.DataLoader(test_dataset, batch_size=BATCH)"
   ]
  },
  {
   "cell_type": "code",
   "execution_count": 7,
   "metadata": {},
   "outputs": [
    {
     "data": {
      "image/png": "[encoded data removed]",
      "text/plain": [
       "<matplotlib.figure.Figure at 0x113276eb8>"
      ]
     },
     "metadata": {},
     "output_type": "display_data"
    }
   ],
   "source": [
    "import numpy as np\n",
    "import matplotlib.pyplot as plt\n",
    "%matplotlib inline\n",
    "\n",
    "# Function to show an image.\n",
    "def imshow(img):\n",
    "    npimg = img.numpy()\n",
    "    plt.imshow(np.transpose(npimg, (1, 2, 0)))\n",
    "\n",
    "dataiter = iter(train_loader)\n",
    "images, parameters = dataiter.next()\n",
    "\n",
    "# Show images.\n",
    "imshow(torchvision.utils.make_grid(images))"
   ]
  },
  {
   "cell_type": "code",
   "execution_count": 8,
   "metadata": {},
   "outputs": [
    {
     "data": {
      "text/plain": [
       "\n",
       "1.00000e-05 *\n",
       "  0.0400  0.1550  0.0700  2.0000  0.1000\n",
       "  0.0250  0.1450  0.0800  2.2000  0.1000\n",
       "  0.0300  0.1450  0.0800  1.8000  0.0880\n",
       "  0.0250  0.1450  0.0750  1.8000  0.0800\n",
       "  0.0300  0.1550  0.0700  1.8000  0.0880\n",
       "  0.0400  0.1450  0.0700  2.0000  0.0920\n",
       "  0.0350  0.1550  0.0750  1.8000  0.0840\n",
       "  0.0250  0.1500  0.0700  2.2000  0.0920\n",
       "  0.0350  0.1500  0.0800  2.0000  0.0960\n",
       "  0.0250  0.1550  0.0850  2.0000  0.0920\n",
       "[torch.FloatTensor of size 10x5]"
      ]
     },
     "execution_count": 8,
     "metadata": {},
     "output_type": "execute_result"
    }
   ],
   "source": [
    "# Corresponding parameters of simulated models -\n",
    "# (gap, width1, height, radius1, width2).\n",
    "parameters"
   ]
  },
  {
   "cell_type": "code",
   "execution_count": 9,
   "metadata": {
    "collapsed": true
   },
   "outputs": [],
   "source": [
    "from torch.autograd import Variable\n",
    "import torch.optim as optim\n",
    "import torch.nn as nn\n",
    "\n",
    "class Net(nn.Module):\n",
    "    def __init__(self):\n",
    "        super(Net, self).__init__()\n",
    "        self.encoder = nn.Sequential(\n",
    "            nn.Conv2d(1, 3, 5, stride=2),\n",
    "            nn.MaxPool2d(5, 1),\n",
    "            nn.Conv2d(3, 5, 3, stride=1),\n",
    "            nn.MaxPool2d(3, 1),\n",
    "            nn.ReLU(True),\n",
    "            nn.Conv2d(5, 2, 3, stride=1),\n",
    "            nn.MaxPool2d(2, 2)\n",
    "        )\n",
    "        self.head = nn.Linear(396, 5)\n",
    "\n",
    "    def forward(self, x):\n",
    "        x = self.encoder(x)\n",
    "        return self.head(x.view(x.size(0), -1))\n",
    "\n",
    "criterion = nn.MSELoss()"
   ]
  },
  {
   "cell_type": "markdown",
   "metadata": {},
   "source": [
    "# Train"
   ]
  },
  {
   "cell_type": "code",
   "execution_count": 10,
   "metadata": {
    "collapsed": true
   },
   "outputs": [],
   "source": [
    "def test_net(net):\n",
    "    \"\"\"Function helps to calculate loss on test dataset.\"\"\"\n",
    "    test_loss = 0\n",
    "    for data in test_loader:\n",
    "        \n",
    "        inputs, labels = data\n",
    "        labels = labels * 1e7\n",
    "\n",
    "        inputs, labels = Variable(inputs), Variable(labels)\n",
    "\n",
    "        outputs = net(inputs)\n",
    "        loss = criterion(outputs, labels)\n",
    "\n",
    "        test_loss += loss.data[0]\n",
    "    return test_loss"
   ]
  },
  {
   "cell_type": "markdown",
   "metadata": {},
   "source": [
    "# Training loop"
   ]
  },
  {
   "cell_type": "code",
   "execution_count": 11,
   "metadata": {
    "scrolled": false
   },
   "outputs": [
    {
     "name": "stdout",
     "output_type": "stream",
     "text": [
      "[1,    30] loss: 899.350\n",
      "[1,    60] loss: 893.071\n",
      "[2,    30] loss: 879.784\n",
      "[2,    60] loss: 856.224\n",
      "[2] Test loss: 861.693\n",
      "LR: 0.0001\n",
      "[3,    30] loss: 783.209\n",
      "[3,    60] loss: 709.453\n",
      "[4,    30] loss: 510.782\n",
      "[4,    60] loss: 365.087\n",
      "[4] Test loss: 191.473\n",
      "LR: 0.0001\n",
      "[5,    30] loss: 146.987\n",
      "[5,    60] loss: 97.366\n",
      "[6,    30] loss: 41.407\n",
      "[6,    60] loss: 24.547\n",
      "[6] Test loss: 16.336\n",
      "LR: 5e-05\n",
      "[7,    30] loss: 10.906\n",
      "[7,    60] loss: 8.322\n",
      "[8,    30] loss: 6.577\n",
      "[8,    60] loss: 6.582\n",
      "[8] Test loss: 7.780\n",
      "LR: 5e-05\n",
      "[9,    30] loss: 6.208\n",
      "[9,    60] loss: 6.465\n",
      "[10,    30] loss: 6.179\n",
      "[10,    60] loss: 6.450\n",
      "[10] Test loss: 7.654\n",
      "LR: 2.5e-05\n",
      "Finished Training\n",
      "CPU times: user 11.3 s, sys: 1.85 s, total: 13.2 s\n",
      "Wall time: 12.4 s\n"
     ]
    }
   ],
   "source": [
    "%%time\n",
    "\n",
    "EPOCH = 10  # Total number of epochs to train.\n",
    "LR = 0.0001  # Initial learning rate.\n",
    "\n",
    "net = Net()\n",
    "optimizer = optim.Adam(net.parameters(), LR)\n",
    "\n",
    "print_each = 30  # Print training loss every `print_each` iteration.\n",
    "test_each = 2    # Print testing loss every `test_each` epoch.\n",
    "reduce_lr = 4    # Reduce `LR` by 2 every `reduce_lr` epoch.\n",
    "\n",
    "curtimestep = 0\n",
    "test_steps = []\n",
    "test_losses = []\n",
    "train_steps = []\n",
    "train_losses = []\n",
    "\n",
    "for epoch in range(EPOCH):  # Loop over the dataset multiple times.\n",
    "    running_loss = 0.0\n",
    "    for i, data in enumerate(train_loader, 0):\n",
    "        for param_group in optimizer.param_groups:\n",
    "            param_group['lr'] = LR\n",
    "        \n",
    "        # Get the inputs.\n",
    "        inputs, parameters = data\n",
    "        parameters = parameters * 1e7\n",
    "\n",
    "        # Wrap them in Variable.\n",
    "        inputs, parameters = Variable(inputs), Variable(parameters)\n",
    "\n",
    "        # Zero the parameter gradients.\n",
    "        optimizer.zero_grad()\n",
    "\n",
    "        # Forward -> backward -> optimize.\n",
    "        outputs = net(inputs)\n",
    "        loss = criterion(outputs, parameters)\n",
    "        loss.backward()\n",
    "        optimizer.step()\n",
    "        \n",
    "        # Add loss per element.\n",
    "        running_loss += loss.data[0] / len(parameters)\n",
    "        \n",
    "        curtimestep += 1\n",
    "        \n",
    "        # Print statistics.\n",
    "        if i % print_each == print_each - 1:\n",
    "            loss_per_element = running_loss / print_each\n",
    "            print('[%d, %5d] loss: %.3f' % (epoch + 1, i + 1, loss_per_element))\n",
    "            \n",
    "            train_losses.append(loss_per_element)\n",
    "            train_steps.append(curtimestep)\n",
    "            running_loss = 0.0\n",
    "\n",
    "    # Calculate loss on test dataset.\n",
    "    if epoch % test_each == test_each - 1:\n",
    "        test_loss = test_net(net)\n",
    "        test_loss /= len(test_dataset)\n",
    "        print('[%d] Test loss: %.3f' % (epoch + 1, test_loss))\n",
    "        print('LR: {}'.format(LR))\n",
    "        \n",
    "        test_losses.append(test_loss)\n",
    "        test_steps.append(curtimestep)\n",
    "    \n",
    "    # Reduce LR by 2 every `reduce_lr` epoch.\n",
    "    if epoch % reduce_lr == reduce_lr - 1:\n",
    "        LR /= 2.\n",
    "\n",
    "print('Finished Training')"
   ]
  },
  {
   "cell_type": "code",
   "execution_count": 12,
   "metadata": {},
   "outputs": [
    {
     "data": {
      "image/png": "[encoded data removed]",
      "text/plain": [
       "<matplotlib.figure.Figure at 0x1140deba8>"
      ]
     },
     "metadata": {},
     "output_type": "display_data"
    }
   ],
   "source": [
    "plt.plot(train_steps, train_losses, label='Train Loss')\n",
    "plt.plot(test_steps, test_losses, label='Test Loss')\n",
    "plt.xlabel('Timesteps')\n",
    "plt.ylabel('Loss per element')\n",
    "plt.legend()\n",
    "plt.show()"
   ]
  },
  {
   "cell_type": "markdown",
   "metadata": {},
   "source": [
    "# Test"
   ]
  },
  {
   "cell_type": "code",
   "execution_count": 13,
   "metadata": {},
   "outputs": [
    {
     "data": {
      "image/png": "[encoded data removed]",
      "text/plain": [
       "<matplotlib.figure.Figure at 0x1140dedd8>"
      ]
     },
     "metadata": {},
     "output_type": "display_data"
    }
   ],
   "source": [
    "# Get some random testing images.\n",
    "dataiter = iter(test_loader)\n",
    "images, parameters = dataiter.next()\n",
    "\n",
    "# Print images.\n",
    "imshow(torchvision.utils.make_grid(images))"
   ]
  },
  {
   "cell_type": "code",
   "execution_count": 14,
   "metadata": {},
   "outputs": [
    {
     "data": {
      "text/plain": [
       "\n",
       "   3.0000   15.5000    8.0000  220.0000    9.2000\n",
       "   3.5000   15.5000    8.0000  220.0000    8.8000\n",
       "   3.5000   14.5000    8.0000  220.0000    9.6000\n",
       "   3.0000   15.5000    8.0000  180.0000    9.2000\n",
       "   4.0000   14.5000    8.5000  200.0000    8.8000\n",
       "   4.0000   15.5000    8.5000  240.0000   10.0000\n",
       "   2.5000   14.5000    8.5000  240.0000    9.6000\n",
       "   3.0000   14.5000    7.0000  200.0000    9.6000\n",
       "   3.0000   15.0000    7.5000  200.0000    8.4000\n",
       "   3.0000   15.0000    7.0000  180.0000    9.6000\n",
       "[torch.FloatTensor of size 10x5]"
      ]
     },
     "execution_count": 14,
     "metadata": {},
     "output_type": "execute_result"
    }
   ],
   "source": [
    "parameters * 1e7"
   ]
  },
  {
   "cell_type": "code",
   "execution_count": 15,
   "metadata": {},
   "outputs": [
    {
     "data": {
      "text/plain": [
       "Variable containing:\n",
       "   3.2230   15.2295    7.7005  213.5466    9.5421\n",
       "   3.6962   14.6711    7.3447  209.5394    9.3525\n",
       "   3.7539   15.8736    8.7043  212.1949    9.5428\n",
       "   3.2661   14.8534    8.0714  202.9558   10.0160\n",
       "   3.5282   15.2143    8.3075  208.7225    9.0747\n",
       "   3.3863   13.4080    7.4405  209.3291    8.7210\n",
       "   2.7576   15.1251    7.5060  208.7018    9.8261\n",
       "   2.4706   15.2606    6.4612  202.4299    9.0073\n",
       "   3.0881   15.0105    7.4890  217.4919    8.2075\n",
       "   2.5417   14.8951    7.3022  193.9247    8.5083\n",
       "[torch.FloatTensor of size 10x5]"
      ]
     },
     "execution_count": 15,
     "metadata": {},
     "output_type": "execute_result"
    }
   ],
   "source": [
    "inputs = Variable(images)\n",
    "outputs = net(inputs)\n",
    "outputs"
   ]
  }
 ],
 "metadata": {
  "kernelspec": {
   "display_name": "Python 3",
   "language": "python",
   "name": "python3"
  },
  "language_info": {
   "codemirror_mode": {
    "name": "ipython",
    "version": 3
   },
   "file_extension": ".py",
   "mimetype": "text/x-python",
   "name": "python",
   "nbconvert_exporter": "python",
   "pygments_lexer": "ipython3",
   "version": "3.6.4"
  }
 },
 "nbformat": 4,
 "nbformat_minor": 2
}
