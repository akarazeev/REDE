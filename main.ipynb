{
 "cells": [
  {
   "cell_type": "markdown",
   "metadata": {},
   "source": [
    "**File name**: main.ipynb<br>\n",
    "**Authors**: Anton Karazeev &lt;[anton.karazeev@gmail.com](mailto:anton.karazeev@gmail.com)&gt;, Anton Lukashchuk &lt;[academik116@gmail.com](mailto:academik116@gmail.com)&gt;<br>\n",
    "This file is part of REDE project (https://github.com/akarazeev/REDE)"
   ]
  },
  {
   "cell_type": "code",
   "execution_count": 7,
   "metadata": {
    "collapsed": true
   },
   "outputs": [],
   "source": [
    "import torch\n",
    "import torchvision\n",
    "import torchvision.transforms as transforms"
   ]
  },
  {
   "cell_type": "code",
   "execution_count": 8,
   "metadata": {},
   "outputs": [
    {
     "name": "stdout",
     "output_type": "stream",
     "text": [
      "The autoreload extension is already loaded. To reload it, use:\n",
      "  %reload_ext autoreload\n"
     ]
    }
   ],
   "source": [
    "%load_ext autoreload\n",
    "%autoreload 2\n",
    "\n",
    "from utils.dataset import REDE"
   ]
  },
  {
   "cell_type": "code",
   "execution_count": 9,
   "metadata": {},
   "outputs": [
    {
     "name": "stdout",
     "output_type": "stream",
     "text": [
      "Downloading https://github.com/akarazeev/REDE/raw/master/data/rede/raw/1848-5-parameters.pkl\n",
      "Downloading https://github.com/akarazeev/REDE/raw/master/data/rede/raw/1848-62-111-images.pkl\n",
      "Downloading https://github.com/akarazeev/REDE/raw/master/data/rede/raw/1848-frequencies_modes.pkl\n",
      "Processing...\n",
      "Done!\n"
     ]
    },
    {
     "data": {
      "text/plain": [
       "Dataset REDE\n",
       "    Number of datapoints: 1478\n",
       "    Split: train (test_size: 0.2)\n",
       "    Root Location: data/rede\n",
       "    Transforms (if any): <torchvision.transforms.ToTensor object at 0x1099c5e10>"
      ]
     },
     "execution_count": 9,
     "metadata": {},
     "output_type": "execute_result"
    }
   ],
   "source": [
    "train_dataset = REDE('data/rede', train=True, transform=torchvision.transforms.ToTensor(),\n",
    "                     download=True, test_size=0.2)\n",
    "train_dataset"
   ]
  },
  {
   "cell_type": "code",
   "execution_count": 10,
   "metadata": {},
   "outputs": [
    {
     "data": {
      "text/plain": [
       "Dataset REDE\n",
       "    Number of datapoints: 370\n",
       "    Split: test (test_size: 0.2)\n",
       "    Root Location: data/rede\n",
       "    Transforms (if any): <torchvision.transforms.ToTensor object at 0x10b680a58>"
      ]
     },
     "execution_count": 10,
     "metadata": {},
     "output_type": "execute_result"
    }
   ],
   "source": [
    "test_dataset = REDE('data/rede', train=False, transform=torchvision.transforms.ToTensor(),\n",
    "                   download=True, test_size=0.2, test_indices=train_dataset.test_indices)\n",
    "test_dataset"
   ]
  },
  {
   "cell_type": "code",
   "execution_count": 11,
   "metadata": {
    "collapsed": true
   },
   "outputs": [],
   "source": [
    "BATCH = 10\n",
    "train_loader = torch.utils.data.DataLoader(train_dataset, batch_size=BATCH)\n",
    "test_loader = torch.utils.data.DataLoader(test_dataset, batch_size=BATCH)"
   ]
  },
  {
   "cell_type": "code",
   "execution_count": 12,
   "metadata": {},
   "outputs": [
    {
     "data": {
      "image/png": "[encoded data removed]",
      "text/plain": [
       "<matplotlib.figure.Figure at 0x109801080>"
      ]
     },
     "metadata": {},
     "output_type": "display_data"
    }
   ],
   "source": [
    "import numpy as np\n",
    "import matplotlib.pyplot as plt\n",
    "%matplotlib inline\n",
    "\n",
    "# Function to show an image.\n",
    "def imshow(img):\n",
    "    npimg = img.numpy()\n",
    "    plt.imshow(np.transpose(npimg, (1, 2, 0)))\n",
    "\n",
    "dataiter = iter(train_loader)\n",
    "images, parameters = dataiter.next()\n",
    "\n",
    "# Show images.\n",
    "imshow(torchvision.utils.make_grid(images))"
   ]
  },
  {
   "cell_type": "code",
   "execution_count": 13,
   "metadata": {},
   "outputs": [
    {
     "data": {
      "text/plain": [
       "\n",
       "1.00000e-05 *\n",
       "  0.0400  0.1550  0.0800  2.4000  0.0960\n",
       "  0.0300  0.1550  0.0750  2.2000  0.0960\n",
       "  0.0300  0.1450  0.0800  2.3000  0.0920\n",
       "  0.0350  0.1450  0.0700  1.8000  0.0960\n",
       "  0.0250  0.1500  0.0700  2.4000  0.0800\n",
       "  0.0300  0.1550  0.0850  2.0000  0.0960\n",
       "  0.0400  0.1550  0.0750  2.2000  0.0800\n",
       "  0.0250  0.1550  0.0700  2.4000  0.0920\n",
       "  0.0400  0.1450  0.0750  2.0000  0.0960\n",
       "  0.0400  0.1550  0.0750  1.8000  0.0920\n",
       "[torch.FloatTensor of size 10x5]"
      ]
     },
     "execution_count": 13,
     "metadata": {},
     "output_type": "execute_result"
    }
   ],
   "source": [
    "# Corresponding parameters of simulated models -\n",
    "# (gap, width1, height, radius1, width2).\n",
    "parameters"
   ]
  },
  {
   "cell_type": "code",
   "execution_count": 14,
   "metadata": {
    "collapsed": true
   },
   "outputs": [],
   "source": [
    "from torch.autograd import Variable\n",
    "import torch.optim as optim\n",
    "import torch.nn as nn\n",
    "\n",
    "class Net(nn.Module):\n",
    "    def __init__(self):\n",
    "        super(Net, self).__init__()\n",
    "        self.encoder = nn.Sequential(\n",
    "            nn.Conv2d(1, 3, 5, stride=2),\n",
    "            nn.MaxPool2d(5, 1),\n",
    "            nn.Conv2d(3, 5, 3, stride=1),\n",
    "            nn.MaxPool2d(3, 1),\n",
    "            nn.ReLU(True),\n",
    "            nn.Conv2d(5, 2, 3, stride=1),\n",
    "            nn.MaxPool2d(2, 2)\n",
    "        )\n",
    "        self.head = nn.Linear(396, 5)\n",
    "\n",
    "    def forward(self, x):\n",
    "        x = self.encoder(x)\n",
    "        return self.head(x.view(x.size(0), -1))\n",
    "\n",
    "criterion = nn.MSELoss()"
   ]
  },
  {
   "cell_type": "markdown",
   "metadata": {},
   "source": [
    "# Train"
   ]
  },
  {
   "cell_type": "code",
   "execution_count": 15,
   "metadata": {
    "collapsed": true
   },
   "outputs": [],
   "source": [
    "def test_net(net):\n",
    "    \"\"\"Function helps to calculate loss on test dataset.\"\"\"\n",
    "    test_loss = 0\n",
    "    for data in test_loader:\n",
    "        \n",
    "        inputs, labels = data\n",
    "        labels = labels * 1e7\n",
    "\n",
    "        inputs, labels = Variable(inputs), Variable(labels)\n",
    "\n",
    "        outputs = net(inputs)\n",
    "        loss = criterion(outputs, labels)\n",
    "\n",
    "        test_loss += loss.data[0]\n",
    "    return test_loss"
   ]
  },
  {
   "cell_type": "markdown",
   "metadata": {},
   "source": [
    "# Training loop"
   ]
  },
  {
   "cell_type": "code",
   "execution_count": 16,
   "metadata": {
    "scrolled": false
   },
   "outputs": [
    {
     "name": "stdout",
     "output_type": "stream",
     "text": [
      "[1,    30] loss: 892.943\n",
      "[1,    60] loss: 907.639\n",
      "[1,    90] loss: 898.684\n",
      "[1,   120] loss: 900.220\n",
      "[2,    30] loss: 852.693\n",
      "[2,    60] loss: 840.837\n",
      "[2,    90] loss: 794.376\n",
      "[2,   120] loss: 743.243\n",
      "[2] Test loss: 596.033\n",
      "LR: 0.0001\n",
      "[3,    30] loss: 555.026\n",
      "[3,    60] loss: 445.326\n",
      "[3,    90] loss: 307.447\n",
      "[3,   120] loss: 182.556\n",
      "[4,    30] loss: 36.213\n",
      "[4,    60] loss: 17.143\n",
      "[4,    90] loss: 11.459\n",
      "[4,   120] loss: 9.654\n",
      "[4] Test loss: 10.788\n",
      "LR: 0.0001\n",
      "[5,    30] loss: 10.943\n",
      "[5,    60] loss: 10.057\n",
      "[5,    90] loss: 10.493\n",
      "[5,   120] loss: 9.491\n",
      "[6,    30] loss: 10.899\n",
      "[6,    60] loss: 9.982\n",
      "[6,    90] loss: 10.443\n",
      "[6,   120] loss: 9.433\n",
      "[6] Test loss: 10.744\n",
      "LR: 5e-05\n",
      "[7,    30] loss: 10.839\n",
      "[7,    60] loss: 9.927\n",
      "[7,    90] loss: 10.397\n",
      "[7,   120] loss: 9.375\n",
      "[8,    30] loss: 10.777\n",
      "[8,    60] loss: 9.871\n",
      "[8,    90] loss: 10.351\n",
      "[8,   120] loss: 9.316\n",
      "[8] Test loss: 10.635\n",
      "LR: 5e-05\n",
      "[9,    30] loss: 10.710\n",
      "[9,    60] loss: 9.818\n",
      "[9,    90] loss: 10.323\n",
      "[9,   120] loss: 9.279\n",
      "[10,    30] loss: 10.685\n",
      "[10,    60] loss: 9.774\n",
      "[10,    90] loss: 10.295\n",
      "[10,   120] loss: 9.245\n",
      "[10] Test loss: 10.617\n",
      "LR: 2.5e-05\n",
      "Finished Training\n",
      "CPU times: user 19.3 s, sys: 3.23 s, total: 22.5 s\n",
      "Wall time: 21 s\n"
     ]
    }
   ],
   "source": [
    "%%time\n",
    "\n",
    "EPOCH = 10  # Total number of epochs to train.\n",
    "LR = 0.0001  # Initial learning rate.\n",
    "\n",
    "net = Net()\n",
    "optimizer = optim.Adam(net.parameters(), LR)\n",
    "\n",
    "print_each = 30  # Print training loss every `print_each` iteration.\n",
    "test_each = 2    # Print testing loss every `test_each` epoch.\n",
    "reduce_lr = 4    # Reduce `LR` by 2 every `reduce_lr` epoch.\n",
    "\n",
    "curtimestep = 0\n",
    "test_steps = []\n",
    "test_losses = []\n",
    "train_steps = []\n",
    "train_losses = []\n",
    "\n",
    "for epoch in range(EPOCH):  # Loop over the dataset multiple times.\n",
    "    running_loss = 0.0\n",
    "    for i, data in enumerate(train_loader, 0):\n",
    "        for param_group in optimizer.param_groups:\n",
    "            param_group['lr'] = LR\n",
    "        \n",
    "        # Get the inputs.\n",
    "        inputs, parameters = data\n",
    "        parameters = parameters * 1e7\n",
    "\n",
    "        # Wrap them in Variable.\n",
    "        inputs, parameters = Variable(inputs), Variable(parameters)\n",
    "\n",
    "        # Zero the parameter gradients.\n",
    "        optimizer.zero_grad()\n",
    "\n",
    "        # Forward -> backward -> optimize.\n",
    "        outputs = net(inputs)\n",
    "        loss = criterion(outputs, parameters)\n",
    "        loss.backward()\n",
    "        optimizer.step()\n",
    "        \n",
    "        # Add loss per element.\n",
    "        running_loss += loss.data[0] / len(parameters)\n",
    "        \n",
    "        curtimestep += 1\n",
    "        \n",
    "        # Print statistics.\n",
    "        if i % print_each == print_each - 1:\n",
    "            loss_per_element = running_loss / print_each\n",
    "            print('[%d, %5d] loss: %.3f' % (epoch + 1, i + 1, loss_per_element))\n",
    "            \n",
    "            train_losses.append(loss_per_element)\n",
    "            train_steps.append(curtimestep)\n",
    "            running_loss = 0.0\n",
    "\n",
    "    # Calculate loss on test dataset.\n",
    "    if epoch % test_each == test_each - 1:\n",
    "        test_loss = test_net(net)\n",
    "        test_loss /= len(test_dataset)\n",
    "        print('[%d] Test loss: %.3f' % (epoch + 1, test_loss))\n",
    "        print('LR: {}'.format(LR))\n",
    "        \n",
    "        test_losses.append(test_loss)\n",
    "        test_steps.append(curtimestep)\n",
    "    \n",
    "    # Reduce LR by 2 every `reduce_lr` epoch.\n",
    "    if epoch % reduce_lr == reduce_lr - 1:\n",
    "        LR /= 2.\n",
    "\n",
    "print('Finished Training')"
   ]
  },
  {
   "cell_type": "code",
   "execution_count": 17,
   "metadata": {},
   "outputs": [
    {
     "data": {
      "image/png": "[encoded data removed]",
      "text/plain": [
       "<matplotlib.figure.Figure at 0x10e4ee160>"
      ]
     },
     "metadata": {},
     "output_type": "display_data"
    }
   ],
   "source": [
    "plt.plot(train_steps, train_losses, label='Train Loss')\n",
    "plt.plot(test_steps, test_losses, label='Test Loss')\n",
    "plt.xlabel('Timesteps')\n",
    "plt.ylabel('Loss per element')\n",
    "plt.legend()\n",
    "plt.show()"
   ]
  },
  {
   "cell_type": "markdown",
   "metadata": {},
   "source": [
    "# Test"
   ]
  },
  {
   "cell_type": "code",
   "execution_count": 18,
   "metadata": {},
   "outputs": [
    {
     "data": {
      "image/png": "[encoded data removed]",
      "text/plain": [
       "<matplotlib.figure.Figure at 0x10b8c1b70>"
      ]
     },
     "metadata": {},
     "output_type": "display_data"
    }
   ],
   "source": [
    "# Get some random testing images.\n",
    "dataiter = iter(test_loader)\n",
    "images, parameters = dataiter.next()\n",
    "\n",
    "# Print images.\n",
    "imshow(torchvision.utils.make_grid(images))"
   ]
  },
  {
   "cell_type": "code",
   "execution_count": 19,
   "metadata": {},
   "outputs": [
    {
     "data": {
      "text/plain": [
       "\n",
       "   2.5000   15.5000    8.5000  180.0000    9.6000\n",
       "   2.5000   14.5000    7.5000  240.0000    8.0000\n",
       "   4.0000   15.0000    7.5000  200.0000    8.0000\n",
       "   3.5000   15.0000    7.5000  180.0000    9.6000\n",
       "   2.5000   15.5000    7.5000  200.0000    8.4000\n",
       "   3.5000   14.5000    7.0000  210.0000    8.4000\n",
       "   3.0000   14.5000    7.0000  240.0000    8.0000\n",
       "   3.5000   15.0000    8.0000  180.0000    8.4000\n",
       "   3.5000   15.0000    8.0000  180.0000    8.0000\n",
       "   3.0000   14.5000    7.5000  200.0000    8.4000\n",
       "[torch.FloatTensor of size 10x5]"
      ]
     },
     "execution_count": 19,
     "metadata": {},
     "output_type": "execute_result"
    }
   ],
   "source": [
    "parameters * 1e7"
   ]
  },
  {
   "cell_type": "code",
   "execution_count": 20,
   "metadata": {},
   "outputs": [
    {
     "data": {
      "text/plain": [
       "Variable containing:\n",
       "   3.1878   14.8130    7.7425  213.8460    9.6695\n",
       "   2.8913   14.3568    7.6488  198.5177    8.3187\n",
       "   3.2177   14.6830    7.4555  204.6153    8.1965\n",
       "   3.3047   14.8176    7.6961  212.8840    9.5835\n",
       "   2.8923   14.7750    7.5932  205.4570    8.8629\n",
       "   3.1564   14.5487    7.4780  206.6520    8.5491\n",
       "   3.0166   15.0243    7.3524  210.3667    8.9454\n",
       "   3.2426   14.5079    7.6490  207.6126    8.5079\n",
       "   3.3398   14.5313    7.7125  208.2065    8.3498\n",
       "   3.1131   14.6619    7.4911  207.7990    8.6078\n",
       "[torch.FloatTensor of size 10x5]"
      ]
     },
     "execution_count": 20,
     "metadata": {},
     "output_type": "execute_result"
    }
   ],
   "source": [
    "inputs = Variable(images)\n",
    "outputs = net(inputs)\n",
    "outputs"
   ]
  }
 ],
 "metadata": {
  "kernelspec": {
   "display_name": "Python 3",
   "language": "python",
   "name": "python3"
  },
  "language_info": {
   "codemirror_mode": {
    "name": "ipython",
    "version": 3
   },
   "file_extension": ".py",
   "mimetype": "text/x-python",
   "name": "python",
   "nbconvert_exporter": "python",
   "pygments_lexer": "ipython3",
   "version": "3.6.4"
  }
 },
 "nbformat": 4,
 "nbformat_minor": 2
}
