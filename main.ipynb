{
 "cells": [
  {
   "cell_type": "markdown",
   "metadata": {},
   "source": [
    "**File name**: main.ipynb<br>\n",
    "**Author**: Anton Karazeev &lt;[anton.karazeev@gmail.com](mailto:anton.karazeev@gmail.com)&gt;<br>\n",
    "This file is part of REDE project (https://github.com/akarazeev/REDE)"
   ]
  },
  {
   "cell_type": "code",
   "execution_count": 5,
   "metadata": {},
   "outputs": [
    {
     "name": "stdout",
     "output_type": "stream",
     "text": [
      "Downloading https://github.com/akarazeev/REDE/raw/master/data/rede/raw/1056-5-parameters.pkl\n",
      "Downloading https://github.com/akarazeev/REDE/raw/master/data/rede/raw/1056-62-111-images.pkl\n",
      "Downloading https://github.com/akarazeev/REDE/raw/master/data/rede/raw/1056-x-frequencies_modes.pkl\n",
      "Processing...\n",
      "Done!\n"
     ]
    },
    {
     "data": {
      "text/plain": [
       "Dataset REDE\n",
       "    Number of datapoints: 844\n",
       "    Split: train (test_size: 0.2)\n",
       "    Root Location: data/rede\n",
       "    Transforms (if any): <torchvision.transforms.ToTensor object at 0x10bd92f98>"
      ]
     },
     "execution_count": 5,
     "metadata": {},
     "output_type": "execute_result"
    }
   ],
   "source": [
    "from utils.dataset import REDE\n",
    "import torch\n",
    "import torchvision\n",
    "import torchvision.transforms as transforms\n",
    "\n",
    "train_dataset = REDE('data/rede', train=True, transform=torchvision.transforms.ToTensor(),\n",
    "                     download=True, test_size=0.2)\n",
    "train_dataset"
   ]
  },
  {
   "cell_type": "code",
   "execution_count": 7,
   "metadata": {},
   "outputs": [
    {
     "data": {
      "text/plain": [
       "Dataset REDE\n",
       "    Number of datapoints: 212\n",
       "    Split: test (test_size: 0.2)\n",
       "    Root Location: data/rede\n",
       "    Transforms (if any): <torchvision.transforms.ToTensor object at 0x10bdbf278>"
      ]
     },
     "execution_count": 7,
     "metadata": {},
     "output_type": "execute_result"
    }
   ],
   "source": [
    "test_dataset = REDE('data/rede', train=False, transform=torchvision.transforms.ToTensor(),\n",
    "                   download=True, test_size=0.2, test_indices=train_dataset.test_indices)\n",
    "test_dataset"
   ]
  },
  {
   "cell_type": "code",
   "execution_count": 8,
   "metadata": {
    "collapsed": true
   },
   "outputs": [],
   "source": [
    "BATCH = 4\n",
    "train_loader = torch.utils.data.DataLoader(train_dataset, batch_size=BATCH)\n",
    "test_loader = torch.utils.data.DataLoader(test_dataset, batch_size=BATCH)"
   ]
  },
  {
   "cell_type": "code",
   "execution_count": 9,
   "metadata": {},
   "outputs": [
    {
     "data": {
      "image/png": "[encoded data removed]",
      "text/plain": [
       "<matplotlib.figure.Figure at 0x10f2d9eb8>"
      ]
     },
     "metadata": {},
     "output_type": "display_data"
    }
   ],
   "source": [
    "import numpy as np\n",
    "import matplotlib.pyplot as plt\n",
    "%matplotlib inline\n",
    "\n",
    "# Function to show an image.\n",
    "def imshow(img):\n",
    "    npimg = img.numpy()\n",
    "    plt.imshow(np.transpose(npimg, (1, 2, 0)))\n",
    "\n",
    "dataiter = iter(train_loader)\n",
    "images, parameters = dataiter.next()\n",
    "\n",
    "# Show images.\n",
    "imshow(torchvision.utils.make_grid(images))"
   ]
  },
  {
   "cell_type": "code",
   "execution_count": 12,
   "metadata": {},
   "outputs": [
    {
     "data": {
      "text/plain": [
       "\n",
       "1.00000e-05 *\n",
       "  0.0250  0.1550  0.0850  2.2000  0.0880\n",
       "  0.0300  0.1450  0.0700  2.0000  0.0920\n",
       "  0.0250  0.1550  0.0700  2.2000  0.0920\n",
       "  0.0350  0.1500  0.0750  2.0000  0.1000\n",
       "[torch.FloatTensor of size 4x5]"
      ]
     },
     "execution_count": 12,
     "metadata": {},
     "output_type": "execute_result"
    }
   ],
   "source": [
    "# Corresponding parameters of simulated models -\n",
    "# (gap, width1, height, radius1, width2).\n",
    "parameters"
   ]
  },
  {
   "cell_type": "code",
   "execution_count": 29,
   "metadata": {
    "collapsed": true
   },
   "outputs": [],
   "source": [
    "from torch.autograd import Variable\n",
    "import torch.optim as optim\n",
    "import torch.nn as nn\n",
    "\n",
    "class Net(nn.Module):\n",
    "    def __init__(self):\n",
    "        super(Net, self).__init__()\n",
    "        self.encoder = nn.Sequential(\n",
    "            nn.Conv2d(1, 3, 5, stride=2),\n",
    "            nn.MaxPool2d(5, 1),\n",
    "            nn.Conv2d(3, 5, 3, stride=1),\n",
    "            nn.MaxPool2d(3, 1),\n",
    "            nn.ReLU(True),\n",
    "            nn.Conv2d(5, 2, 3, stride=1),\n",
    "            nn.MaxPool2d(2, 2)\n",
    "        )\n",
    "        self.head = nn.Linear(396, 5)\n",
    "\n",
    "    def forward(self, x):\n",
    "        x = self.encoder(x)\n",
    "        return self.head(x.view(x.size(0), -1))\n",
    "\n",
    "criterion = nn.MSELoss()"
   ]
  },
  {
   "cell_type": "markdown",
   "metadata": {},
   "source": [
    "# Train"
   ]
  },
  {
   "cell_type": "code",
   "execution_count": 37,
   "metadata": {
    "collapsed": true
   },
   "outputs": [],
   "source": [
    "def test_net(net):\n",
    "    \"\"\"Function helps to calculate loss on test dataset.\"\"\"\n",
    "    test_loss = 0\n",
    "    for data in test_loader:\n",
    "        \n",
    "        inputs, labels = data\n",
    "        labels = labels * 1e7\n",
    "\n",
    "        inputs, labels = Variable(inputs), Variable(labels)\n",
    "\n",
    "        outputs = net(inputs)\n",
    "        loss = criterion(outputs, labels)\n",
    "\n",
    "        test_loss += loss.data[0]\n",
    "    return test_loss"
   ]
  },
  {
   "cell_type": "markdown",
   "metadata": {},
   "source": [
    "# Training loop"
   ]
  },
  {
   "cell_type": "code",
   "execution_count": 38,
   "metadata": {
    "scrolled": false
   },
   "outputs": [
    {
     "name": "stdout",
     "output_type": "stream",
     "text": [
      "[1,    30] loss: 2205.679\n",
      "[1,    60] loss: 2294.299\n",
      "[1,    90] loss: 2186.191\n",
      "[1,   120] loss: 2161.448\n",
      "[1,   150] loss: 2124.054\n",
      "[1,   180] loss: 2172.487\n",
      "[1,   210] loss: 2164.698\n",
      "[2,    30] loss: 2078.252\n",
      "[2,    60] loss: 2134.116\n",
      "[2,    90] loss: 1997.347\n",
      "[2,   120] loss: 1935.850\n",
      "[2,   150] loss: 1859.211\n",
      "[2,   180] loss: 1856.325\n",
      "[2,   210] loss: 1793.573\n",
      "[2] Test loss: 1793.184\n",
      "LR: 0.0001\n",
      "[3,    30] loss: 1651.252\n",
      "[3,    60] loss: 1624.230\n",
      "[3,    90] loss: 1429.816\n",
      "[3,   120] loss: 1287.408\n",
      "[3,   150] loss: 1133.310\n",
      "[3,   180] loss: 1030.424\n",
      "[3,   210] loss: 880.162\n",
      "[4,    30] loss: 677.078\n",
      "[4,    60] loss: 545.823\n",
      "[4,    90] loss: 352.874\n",
      "[4,   120] loss: 202.054\n",
      "[4,   150] loss: 89.113\n",
      "[4,   180] loss: 35.487\n",
      "[4,   210] loss: 15.039\n",
      "[4] Test loss: 17.244\n",
      "LR: 0.0001\n",
      "[5,    30] loss: 17.868\n",
      "[5,    60] loss: 15.447\n",
      "[5,    90] loss: 19.597\n",
      "[5,   120] loss: 15.636\n",
      "[5,   150] loss: 15.386\n",
      "[5,   180] loss: 19.159\n",
      "[5,   210] loss: 14.678\n",
      "[6,    30] loss: 17.641\n",
      "[6,    60] loss: 15.260\n",
      "[6,    90] loss: 19.489\n",
      "[6,   120] loss: 15.465\n",
      "[6,   150] loss: 15.239\n",
      "[6,   180] loss: 19.000\n",
      "[6,   210] loss: 14.501\n",
      "[6] Test loss: 17.027\n",
      "LR: 5e-05\n",
      "[7,    30] loss: 17.440\n",
      "[7,    60] loss: 15.112\n",
      "[7,    90] loss: 19.386\n",
      "[7,   120] loss: 15.302\n",
      "[7,   150] loss: 15.103\n",
      "[7,   180] loss: 18.851\n",
      "[7,   210] loss: 14.314\n",
      "[8,    30] loss: 17.253\n",
      "[8,    60] loss: 14.953\n",
      "[8,    90] loss: 19.292\n",
      "[8,   120] loss: 15.136\n",
      "[8,   150] loss: 14.972\n",
      "[8,   180] loss: 18.704\n",
      "[8,   210] loss: 14.130\n",
      "[8] Test loss: 16.735\n",
      "LR: 5e-05\n",
      "[9,    30] loss: 16.930\n",
      "[9,    60] loss: 14.770\n",
      "[9,    90] loss: 19.138\n",
      "[9,   120] loss: 15.074\n",
      "[9,   150] loss: 14.834\n",
      "[9,   180] loss: 18.559\n",
      "[9,   210] loss: 14.045\n",
      "[10,    30] loss: 16.845\n",
      "[10,    60] loss: 14.709\n",
      "[10,    90] loss: 19.089\n",
      "[10,   120] loss: 14.994\n",
      "[10,   150] loss: 14.769\n",
      "[10,   180] loss: 18.494\n",
      "[10,   210] loss: 13.978\n",
      "[10] Test loss: 16.632\n",
      "LR: 2.5e-05\n",
      "Finished Training\n",
      "CPU times: user 14.7 s, sys: 1.9 s, total: 16.6 s\n",
      "Wall time: 15.8 s\n"
     ]
    }
   ],
   "source": [
    "%%time\n",
    "\n",
    "net = Net()\n",
    "\n",
    "print_each = 30  # Print training loss every `print_each` iteration.\n",
    "test_each = 2    # Print testing loss every `test_each` epoch.\n",
    "reduce_lr = 4    # Reduce `LR` by 2 every `reduce_lr` epoch.\n",
    "\n",
    "EPOCH = 10  # Total number of epochs to train.\n",
    "LR = 0.0001  # Initial learning rate.\n",
    "\n",
    "curtimestep = 0\n",
    "test_steps = []\n",
    "test_losses = []\n",
    "train_steps = []\n",
    "train_losses = []\n",
    "\n",
    "for epoch in range(EPOCH):  # Loop over the dataset multiple times.\n",
    "    running_loss = 0.0\n",
    "    for i, data in enumerate(train_loader, 0):\n",
    "        # Get the inputs.\n",
    "        inputs, parameters = data\n",
    "        \n",
    "        parameters = parameters * 1e7\n",
    "\n",
    "        # Wrap them in Variable.\n",
    "        inputs, parameters = Variable(inputs), Variable(parameters)\n",
    "\n",
    "        # Zero the parameter gradients.\n",
    "        optimizer = optim.Adam(net.parameters(), LR)\n",
    "        optimizer.zero_grad()\n",
    "\n",
    "        # Forward -> backward -> optimize.\n",
    "        outputs = net(inputs)\n",
    "        loss = criterion(outputs, parameters)\n",
    "        loss.backward()\n",
    "        optimizer.step()\n",
    "        \n",
    "        # Add loss per element.\n",
    "        running_loss += loss.data[0] / len(parameters)\n",
    "        \n",
    "        curtimestep += 1\n",
    "        \n",
    "        # Print statistics.\n",
    "        if i % print_each == print_each - 1:\n",
    "            loss_per_element = running_loss / print_each\n",
    "            print('[%d, %5d] loss: %.3f' % (epoch + 1, i + 1, loss_per_element))\n",
    "            \n",
    "            train_losses.append(loss_per_element)\n",
    "            train_steps.append(curtimestep)\n",
    "            running_loss = 0.0\n",
    "\n",
    "    # Calculate loss on test dataset.\n",
    "    if epoch % test_each == test_each - 1:\n",
    "        test_loss = test_net(net)\n",
    "        test_loss /= len(test_dataset)\n",
    "        print('[%d] Test loss: %.3f' % (epoch + 1, test_loss))\n",
    "        print('LR: {}'.format(LR))\n",
    "        \n",
    "        test_losses.append(test_loss)\n",
    "        test_steps.append(curtimestep)\n",
    "    \n",
    "    # Reduce LR by 2 every `reduce_lr` epoch.\n",
    "    if epoch % reduce_lr == reduce_lr - 1:\n",
    "        LR /= 2.\n",
    "\n",
    "print('Finished Training')"
   ]
  },
  {
   "cell_type": "code",
   "execution_count": 41,
   "metadata": {},
   "outputs": [
    {
     "data": {
      "image/png": "[encoded data removed]",
      "text/plain": [
       "<matplotlib.figure.Figure at 0x11051c780>"
      ]
     },
     "metadata": {},
     "output_type": "display_data"
    }
   ],
   "source": [
    "plt.plot(train_steps, train_losses, label='Train Loss')\n",
    "plt.plot(test_steps, test_losses, label='Test Loss')\n",
    "plt.xlabel('Timesteps')\n",
    "plt.ylabel('Loss per element')\n",
    "plt.legend()\n",
    "plt.show()"
   ]
  },
  {
   "cell_type": "markdown",
   "metadata": {},
   "source": [
    "# Test"
   ]
  },
  {
   "cell_type": "code",
   "execution_count": 42,
   "metadata": {},
   "outputs": [
    {
     "data": {
      "image/png": "[encoded data removed]",
      "text/plain": [
       "<matplotlib.figure.Figure at 0x110538208>"
      ]
     },
     "metadata": {},
     "output_type": "display_data"
    }
   ],
   "source": [
    "# Get some random testing images.\n",
    "dataiter = iter(test_loader)\n",
    "images, parameters = dataiter.next()\n",
    "\n",
    "# Print images.\n",
    "imshow(torchvision.utils.make_grid(images))"
   ]
  },
  {
   "cell_type": "code",
   "execution_count": 43,
   "metadata": {},
   "outputs": [
    {
     "data": {
      "text/plain": [
       "\n",
       "   3.5000   15.5000    8.5000  220.0000    9.2000\n",
       "   3.0000   15.5000    7.5000  240.0000   10.0000\n",
       "   3.0000   15.5000    7.0000  240.0000    8.0000\n",
       "   2.5000   15.5000    7.5000  240.0000    9.6000\n",
       "[torch.FloatTensor of size 4x5]"
      ]
     },
     "execution_count": 43,
     "metadata": {},
     "output_type": "execute_result"
    }
   ],
   "source": [
    "parameters * 1e7"
   ]
  },
  {
   "cell_type": "code",
   "execution_count": 44,
   "metadata": {},
   "outputs": [
    {
     "data": {
      "text/plain": [
       "Variable containing:\n",
       "   3.9566   15.1894    8.1326  211.9069    9.0514\n",
       "   3.4216   14.8317    7.4336  206.3587    9.5657\n",
       "   2.9810   15.3199    7.9382  242.0101    8.8167\n",
       "   2.8810   14.9824    7.1995  211.1158    9.2424\n",
       "[torch.FloatTensor of size 4x5]"
      ]
     },
     "execution_count": 44,
     "metadata": {},
     "output_type": "execute_result"
    }
   ],
   "source": [
    "inputs = Variable(images)\n",
    "outputs = net(inputs)\n",
    "outputs"
   ]
  }
 ],
 "metadata": {
  "kernelspec": {
   "display_name": "Python 3",
   "language": "python",
   "name": "python3"
  },
  "language_info": {
   "codemirror_mode": {
    "name": "ipython",
    "version": 3
   },
   "file_extension": ".py",
   "mimetype": "text/x-python",
   "name": "python",
   "nbconvert_exporter": "python",
   "pygments_lexer": "ipython3",
   "version": "3.6.4"
  }
 },
 "nbformat": 4,
 "nbformat_minor": 2
}
