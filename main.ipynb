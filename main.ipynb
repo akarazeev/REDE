{
 "cells": [
  {
   "cell_type": "markdown",
   "metadata": {},
   "source": [
    "**File name**: main.ipynb<br>\n",
    "**Author**: Anton Karazeev &lt;[anton.karazeev@gmail.com](mailto:anton.karazeev@gmail.com)&gt;<br>\n",
    "This file is part of REDE project (https://github.com/akarazeev/REDE)"
   ]
  },
  {
   "cell_type": "code",
   "execution_count": 60,
   "metadata": {},
   "outputs": [
    {
     "data": {
      "text/plain": [
       "Dataset REDE\n",
       "    Number of datapoints: 844\n",
       "    Split: train (test_size: 0.2)\n",
       "    Root Location: data/rede\n",
       "    Transforms (if any): <torchvision.transforms.ToTensor object at 0x114fcbd30>"
      ]
     },
     "execution_count": 60,
     "metadata": {},
     "output_type": "execute_result"
    }
   ],
   "source": [
    "from utils.dataset import REDE\n",
    "import torch\n",
    "import torchvision\n",
    "import torchvision.transforms as transforms\n",
    "\n",
    "train_dataset = REDE('data/rede', train=True, transform=torchvision.transforms.ToTensor(),\n",
    "                     download=True, test_size=0.2)\n",
    "train_dataset"
   ]
  },
  {
   "cell_type": "code",
   "execution_count": 61,
   "metadata": {},
   "outputs": [
    {
     "data": {
      "text/plain": [
       "Dataset REDE\n",
       "    Number of datapoints: 212\n",
       "    Split: test (test_size: 0.2)\n",
       "    Root Location: data/rede\n",
       "    Transforms (if any): <torchvision.transforms.ToTensor object at 0x115223470>"
      ]
     },
     "execution_count": 61,
     "metadata": {},
     "output_type": "execute_result"
    }
   ],
   "source": [
    "test_dataset = REDE('data/rede', train=False, transform=torchvision.transforms.ToTensor(),\n",
    "                   download=True, test_size=0.2, test_indices=train_dataset.test_indices)\n",
    "test_dataset"
   ]
  },
  {
   "cell_type": "code",
   "execution_count": 62,
   "metadata": {
    "collapsed": true
   },
   "outputs": [],
   "source": [
    "BATCH = 4\n",
    "train_loader = torch.utils.data.DataLoader(train_dataset, batch_size=BATCH)\n",
    "test_loader = torch.utils.data.DataLoader(test_dataset, batch_size=BATCH)"
   ]
  },
  {
   "cell_type": "code",
   "execution_count": 63,
   "metadata": {},
   "outputs": [
    {
     "data": {
      "image/png": "[encoded data removed]",
      "text/plain": [
       "<matplotlib.figure.Figure at 0x111b3d320>"
      ]
     },
     "metadata": {},
     "output_type": "display_data"
    }
   ],
   "source": [
    "import numpy as np\n",
    "import matplotlib.pyplot as plt\n",
    "%matplotlib inline\n",
    "\n",
    "# Function to show an image.\n",
    "def imshow(img):\n",
    "    npimg = img.numpy()\n",
    "    plt.imshow(np.transpose(npimg, (1, 2, 0)))\n",
    "\n",
    "dataiter = iter(train_loader)\n",
    "images, parameters = dataiter.next()\n",
    "\n",
    "# Show images.\n",
    "imshow(torchvision.utils.make_grid(images))"
   ]
  },
  {
   "cell_type": "code",
   "execution_count": 64,
   "metadata": {},
   "outputs": [
    {
     "data": {
      "text/plain": [
       "\n",
       "1.00000e-05 *\n",
       "  0.0300  0.1450  0.0750  2.4000  0.0880\n",
       "  0.0350  0.1450  0.0750  2.0000  0.0840\n",
       "  0.0300  0.1550  0.0850  2.4000  0.0920\n",
       "  0.0350  0.1500  0.0700  2.2000  0.0920\n",
       "[torch.FloatTensor of size 4x5]"
      ]
     },
     "execution_count": 64,
     "metadata": {},
     "output_type": "execute_result"
    }
   ],
   "source": [
    "# Corresponding parameters of simulated models -\n",
    "# (gap, width1, height, radius1, width2).\n",
    "parameters"
   ]
  },
  {
   "cell_type": "code",
   "execution_count": 65,
   "metadata": {
    "collapsed": true
   },
   "outputs": [],
   "source": [
    "from torch.autograd import Variable\n",
    "import torch.optim as optim\n",
    "import torch.nn as nn\n",
    "\n",
    "class Net(nn.Module):\n",
    "    def __init__(self):\n",
    "        super(Net, self).__init__()\n",
    "        self.encoder = nn.Sequential(\n",
    "            nn.Conv2d(1, 3, 5, stride=2),\n",
    "            nn.MaxPool2d(5, 1),\n",
    "            nn.Conv2d(3, 5, 3, stride=1),\n",
    "            nn.MaxPool2d(3, 1),\n",
    "            nn.ReLU(True),\n",
    "            nn.Conv2d(5, 2, 3, stride=1),\n",
    "            nn.MaxPool2d(2, 2)\n",
    "        )\n",
    "        self.head = nn.Linear(396, 5)\n",
    "\n",
    "    def forward(self, x):\n",
    "        x = self.encoder(x)\n",
    "        return self.head(x.view(x.size(0), -1))\n",
    "\n",
    "criterion = nn.MSELoss()"
   ]
  },
  {
   "cell_type": "markdown",
   "metadata": {},
   "source": [
    "# Train"
   ]
  },
  {
   "cell_type": "code",
   "execution_count": 66,
   "metadata": {
    "collapsed": true
   },
   "outputs": [],
   "source": [
    "def test_net(net):\n",
    "    \"\"\"Function helps to calculate loss on test dataset.\"\"\"\n",
    "    test_loss = 0\n",
    "    for data in test_loader:\n",
    "        \n",
    "        inputs, labels = data\n",
    "        labels = labels * 1e7\n",
    "\n",
    "        inputs, labels = Variable(inputs), Variable(labels)\n",
    "\n",
    "        outputs = net(inputs)\n",
    "        loss = criterion(outputs, labels)\n",
    "\n",
    "        test_loss += loss.data[0]\n",
    "    return test_loss"
   ]
  },
  {
   "cell_type": "markdown",
   "metadata": {},
   "source": [
    "# Training loop"
   ]
  },
  {
   "cell_type": "code",
   "execution_count": 67,
   "metadata": {
    "scrolled": false
   },
   "outputs": [
    {
     "name": "stdout",
     "output_type": "stream",
     "text": [
      "[1,    30] loss: 2184.472\n",
      "[1,    60] loss: 2245.866\n",
      "[1,    90] loss: 2299.113\n",
      "[1,   120] loss: 2163.322\n",
      "[1,   150] loss: 2107.625\n",
      "[1,   180] loss: 2090.385\n",
      "[1,   210] loss: 2079.091\n",
      "[2,    30] loss: 1865.889\n",
      "[2,    60] loss: 1772.638\n",
      "[2,    90] loss: 1614.071\n",
      "[2,   120] loss: 1258.339\n",
      "[2,   150] loss: 925.053\n",
      "[2,   180] loss: 620.285\n",
      "[2,   210] loss: 367.823\n",
      "[2] Test loss: 222.664\n",
      "LR: 0.0001\n",
      "[3,    30] loss: 126.305\n",
      "[3,    60] loss: 51.488\n",
      "[3,    90] loss: 28.105\n",
      "[3,   120] loss: 18.441\n",
      "[3,   150] loss: 16.536\n",
      "[3,   180] loss: 14.027\n",
      "[3,   210] loss: 20.823\n",
      "[4,    30] loss: 13.185\n",
      "[4,    60] loss: 16.981\n",
      "[4,    90] loss: 19.006\n",
      "[4,   120] loss: 18.033\n",
      "[4,   150] loss: 16.558\n",
      "[4,   180] loss: 13.921\n",
      "[4,   210] loss: 20.734\n",
      "[4] Test loss: 17.053\n",
      "LR: 0.0001\n",
      "[5,    30] loss: 13.175\n",
      "[5,    60] loss: 16.854\n",
      "[5,    90] loss: 18.924\n",
      "[5,   120] loss: 17.873\n",
      "[5,   150] loss: 16.454\n",
      "[5,   180] loss: 13.855\n",
      "[5,   210] loss: 20.540\n",
      "[6,    30] loss: 12.960\n",
      "[6,    60] loss: 16.825\n",
      "[6,    90] loss: 18.896\n",
      "[6,   120] loss: 17.816\n",
      "[6,   150] loss: 16.387\n",
      "[6,   180] loss: 13.792\n",
      "[6,   210] loss: 20.507\n",
      "[6] Test loss: 16.942\n",
      "LR: 5e-05\n",
      "[7,    30] loss: 12.901\n",
      "[7,    60] loss: 16.786\n",
      "[7,    90] loss: 18.813\n",
      "[7,   120] loss: 17.757\n",
      "[7,   150] loss: 16.316\n",
      "[7,   180] loss: 13.724\n",
      "[7,   210] loss: 20.464\n",
      "[8,    30] loss: 12.838\n",
      "[8,    60] loss: 16.743\n",
      "[8,    90] loss: 18.721\n",
      "[8,   120] loss: 17.695\n",
      "[8,   150] loss: 16.233\n",
      "[8,   180] loss: 13.653\n",
      "[8,   210] loss: 20.412\n",
      "[8] Test loss: 16.801\n",
      "LR: 5e-05\n",
      "[9,    30] loss: 12.829\n",
      "[9,    60] loss: 16.662\n",
      "[9,    90] loss: 18.640\n",
      "[9,   120] loss: 17.601\n",
      "[9,   150] loss: 16.105\n",
      "[9,   180] loss: 13.617\n",
      "[9,   210] loss: 20.230\n",
      "[10,    30] loss: 12.694\n",
      "[10,    60] loss: 16.638\n",
      "[10,    90] loss: 18.641\n",
      "[10,   120] loss: 17.560\n",
      "[10,   150] loss: 16.056\n",
      "[10,   180] loss: 13.573\n",
      "[10,   210] loss: 20.203\n",
      "[10] Test loss: 16.737\n",
      "LR: 2.5e-05\n",
      "Finished Training\n",
      "CPU times: user 14.8 s, sys: 2.48 s, total: 17.3 s\n",
      "Wall time: 16.2 s\n"
     ]
    }
   ],
   "source": [
    "%%time\n",
    "\n",
    "EPOCH = 10  # Total number of epochs to train.\n",
    "LR = 0.0001  # Initial learning rate.\n",
    "\n",
    "net = Net()\n",
    "optimizer = optim.Adam(net.parameters(), LR)\n",
    "\n",
    "print_each = 30  # Print training loss every `print_each` iteration.\n",
    "test_each = 2    # Print testing loss every `test_each` epoch.\n",
    "reduce_lr = 4    # Reduce `LR` by 2 every `reduce_lr` epoch.\n",
    "\n",
    "curtimestep = 0\n",
    "test_steps = []\n",
    "test_losses = []\n",
    "train_steps = []\n",
    "train_losses = []\n",
    "\n",
    "for epoch in range(EPOCH):  # Loop over the dataset multiple times.\n",
    "    running_loss = 0.0\n",
    "    for i, data in enumerate(train_loader, 0):\n",
    "        for param_group in optimizer.param_groups:\n",
    "            param_group['lr'] = LR\n",
    "        \n",
    "        # Get the inputs.\n",
    "        inputs, parameters = data\n",
    "        parameters = parameters * 1e7\n",
    "\n",
    "        # Wrap them in Variable.\n",
    "        inputs, parameters = Variable(inputs), Variable(parameters)\n",
    "\n",
    "        # Zero the parameter gradients.\n",
    "        optimizer.zero_grad()\n",
    "\n",
    "        # Forward -> backward -> optimize.\n",
    "        outputs = net(inputs)\n",
    "        loss = criterion(outputs, parameters)\n",
    "        loss.backward()\n",
    "        optimizer.step()\n",
    "        \n",
    "        # Add loss per element.\n",
    "        running_loss += loss.data[0] / len(parameters)\n",
    "        \n",
    "        curtimestep += 1\n",
    "        \n",
    "        # Print statistics.\n",
    "        if i % print_each == print_each - 1:\n",
    "            loss_per_element = running_loss / print_each\n",
    "            print('[%d, %5d] loss: %.3f' % (epoch + 1, i + 1, loss_per_element))\n",
    "            \n",
    "            train_losses.append(loss_per_element)\n",
    "            train_steps.append(curtimestep)\n",
    "            running_loss = 0.0\n",
    "\n",
    "    # Calculate loss on test dataset.\n",
    "    if epoch % test_each == test_each - 1:\n",
    "        test_loss = test_net(net)\n",
    "        test_loss /= len(test_dataset)\n",
    "        print('[%d] Test loss: %.3f' % (epoch + 1, test_loss))\n",
    "        print('LR: {}'.format(LR))\n",
    "        \n",
    "        test_losses.append(test_loss)\n",
    "        test_steps.append(curtimestep)\n",
    "    \n",
    "    # Reduce LR by 2 every `reduce_lr` epoch.\n",
    "    if epoch % reduce_lr == reduce_lr - 1:\n",
    "        LR /= 2.\n",
    "\n",
    "print('Finished Training')"
   ]
  },
  {
   "cell_type": "code",
   "execution_count": 68,
   "metadata": {},
   "outputs": [
    {
     "data": {
      "image/png": "[encoded data removed]",
      "text/plain": [
       "<matplotlib.figure.Figure at 0x1152a9438>"
      ]
     },
     "metadata": {},
     "output_type": "display_data"
    }
   ],
   "source": [
    "plt.plot(train_steps, train_losses, label='Train Loss')\n",
    "plt.plot(test_steps, test_losses, label='Test Loss')\n",
    "plt.xlabel('Timesteps')\n",
    "plt.ylabel('Loss per element')\n",
    "plt.legend()\n",
    "plt.show()"
   ]
  },
  {
   "cell_type": "markdown",
   "metadata": {},
   "source": [
    "# Test"
   ]
  },
  {
   "cell_type": "code",
   "execution_count": 69,
   "metadata": {},
   "outputs": [
    {
     "data": {
      "image/png": "[encoded data removed]",
      "text/plain": [
       "<matplotlib.figure.Figure at 0x1133465c0>"
      ]
     },
     "metadata": {},
     "output_type": "display_data"
    }
   ],
   "source": [
    "# Get some random testing images.\n",
    "dataiter = iter(test_loader)\n",
    "images, parameters = dataiter.next()\n",
    "\n",
    "# Print images.\n",
    "imshow(torchvision.utils.make_grid(images))"
   ]
  },
  {
   "cell_type": "code",
   "execution_count": 70,
   "metadata": {},
   "outputs": [
    {
     "data": {
      "text/plain": [
       "\n",
       "   3.5000   14.5000    7.5000  220.0000    9.6000\n",
       "   3.5000   14.5000    7.0000  220.0000    8.4000\n",
       "   2.5000   15.5000    8.5000  180.0000    9.6000\n",
       "   3.5000   14.5000    7.0000  240.0000    8.0000\n",
       "[torch.FloatTensor of size 4x5]"
      ]
     },
     "execution_count": 70,
     "metadata": {},
     "output_type": "execute_result"
    }
   ],
   "source": [
    "parameters * 1e7"
   ]
  },
  {
   "cell_type": "code",
   "execution_count": 71,
   "metadata": {},
   "outputs": [
    {
     "data": {
      "text/plain": [
       "Variable containing:\n",
       "   3.0860   15.1973    7.9948  203.0638    9.0448\n",
       "   3.1034   14.2126    7.1254  216.7515    8.1921\n",
       "   3.1021   15.1499    7.9927  205.5840    9.5847\n",
       "   2.9889   14.5334    7.3835  232.8750    7.6512\n",
       "[torch.FloatTensor of size 4x5]"
      ]
     },
     "execution_count": 71,
     "metadata": {},
     "output_type": "execute_result"
    }
   ],
   "source": [
    "inputs = Variable(images)\n",
    "outputs = net(inputs)\n",
    "outputs"
   ]
  }
 ],
 "metadata": {
  "kernelspec": {
   "display_name": "Python 3",
   "language": "python",
   "name": "python3"
  },
  "language_info": {
   "codemirror_mode": {
    "name": "ipython",
    "version": 3
   },
   "file_extension": ".py",
   "mimetype": "text/x-python",
   "name": "python",
   "nbconvert_exporter": "python",
   "pygments_lexer": "ipython3",
   "version": "3.6.4"
  }
 },
 "nbformat": 4,
 "nbformat_minor": 2
}
