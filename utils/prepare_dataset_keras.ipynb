{
 "cells": [
  {
   "cell_type": "markdown",
   "metadata": {},
   "source": [
    "**File name**: prepare_dataset.ipynb<br>\n",
    "**Authors**: Anton Karazeev &lt;[anton.karazeev@gmail.com](mailto:anton.karazeev@gmail.com)&gt;, Anton Lukashchuk &lt;[academik116@gmail.com](mailto:academik116@gmail.com)&gt;\n",
    "\n",
    "This file is part of REDE project (https://github.com/akarazeev/REDE)\n",
    "\n",
    "**Description**: content of this file was used to build a dataset called REDE - Reverse Engineering in Dispersion Engineering. Files from utils/matlab_data/ were used as raw data. These data contain information about system's simulations with given set of parameters."
   ]
  },
  {
   "cell_type": "code",
   "execution_count": 6,
   "metadata": {},
   "outputs": [],
   "source": [
    "import pandas as pd\n",
    "import numpy as np\n",
    "import matplotlib.pyplot as plt\n",
    "from scipy import interpolate\n",
    "import os\n",
    "import tqdm\n",
    "import pickle\n",
    "import scipy.io as spio"
   ]
  },
  {
   "cell_type": "code",
   "execution_count": 7,
   "metadata": {},
   "outputs": [
    {
     "name": "stdout",
     "output_type": "stream",
     "text": [
      "The autoreload extension is already loaded. To reload it, use:\n",
      "  %reload_ext autoreload\n"
     ]
    }
   ],
   "source": [
    "%load_ext autoreload\n",
    "%autoreload 2\n",
    "\n",
    "from prepare_dataset_keras import preproc"
   ]
  },
  {
   "cell_type": "code",
   "execution_count": 8,
   "metadata": {},
   "outputs": [],
   "source": [
    "def df_by_filepath(filepath):\n",
    "    # Load data.\n",
    "    mat = spio.loadmat(filepath, squeeze_me=True)\n",
    "\n",
    "    struct = mat['str']\n",
    "    header = ['id']\n",
    "    header.extend(struct[0][1].dtype.names)\n",
    "    header\n",
    "\n",
    "    # Create DataFrame.\n",
    "    dataset = []\n",
    "\n",
    "    for i in range(len(struct)):\n",
    "        tmp = [int(struct[i][0])]\n",
    "        tmp.extend([float(struct[i][1][name]) for name in header[1:]])\n",
    "        dataset.append(tmp)\n",
    "\n",
    "    df_data = pd.DataFrame(data=dataset, columns=header)\n",
    "    return df_data, struct"
   ]
  },
  {
   "cell_type": "code",
   "execution_count": 9,
   "metadata": {},
   "outputs": [
    {
     "data": {
      "text/html": [
       "<div>\n",
       "<style scoped>\n",
       "    .dataframe tbody tr th:only-of-type {\n",
       "        vertical-align: middle;\n",
       "    }\n",
       "\n",
       "    .dataframe tbody tr th {\n",
       "        vertical-align: top;\n",
       "    }\n",
       "\n",
       "    .dataframe thead th {\n",
       "        text-align: right;\n",
       "    }\n",
       "</style>\n",
       "<table border=\"1\" class=\"dataframe\">\n",
       "  <thead>\n",
       "    <tr style=\"text-align: right;\">\n",
       "      <th></th>\n",
       "      <th>id</th>\n",
       "      <th>gap</th>\n",
       "      <th>width1</th>\n",
       "      <th>height</th>\n",
       "      <th>radius1</th>\n",
       "      <th>width2</th>\n",
       "    </tr>\n",
       "  </thead>\n",
       "  <tbody>\n",
       "    <tr>\n",
       "      <th>1000</th>\n",
       "      <td>1227</td>\n",
       "      <td>4.000000e-07</td>\n",
       "      <td>0.000002</td>\n",
       "      <td>7.500000e-07</td>\n",
       "      <td>0.000020</td>\n",
       "      <td>8.800000e-07</td>\n",
       "    </tr>\n",
       "    <tr>\n",
       "      <th>1001</th>\n",
       "      <td>1228</td>\n",
       "      <td>4.000000e-07</td>\n",
       "      <td>0.000002</td>\n",
       "      <td>7.500000e-07</td>\n",
       "      <td>0.000020</td>\n",
       "      <td>9.200000e-07</td>\n",
       "    </tr>\n",
       "    <tr>\n",
       "      <th>1002</th>\n",
       "      <td>1229</td>\n",
       "      <td>4.000000e-07</td>\n",
       "      <td>0.000002</td>\n",
       "      <td>7.500000e-07</td>\n",
       "      <td>0.000020</td>\n",
       "      <td>9.600000e-07</td>\n",
       "    </tr>\n",
       "    <tr>\n",
       "      <th>1003</th>\n",
       "      <td>1230</td>\n",
       "      <td>4.000000e-07</td>\n",
       "      <td>0.000002</td>\n",
       "      <td>7.500000e-07</td>\n",
       "      <td>0.000020</td>\n",
       "      <td>1.000000e-06</td>\n",
       "    </tr>\n",
       "    <tr>\n",
       "      <th>1004</th>\n",
       "      <td>1231</td>\n",
       "      <td>4.000000e-07</td>\n",
       "      <td>0.000002</td>\n",
       "      <td>7.500000e-07</td>\n",
       "      <td>0.000022</td>\n",
       "      <td>8.000000e-07</td>\n",
       "    </tr>\n",
       "    <tr>\n",
       "      <th>1005</th>\n",
       "      <td>1232</td>\n",
       "      <td>4.000000e-07</td>\n",
       "      <td>0.000002</td>\n",
       "      <td>7.500000e-07</td>\n",
       "      <td>0.000022</td>\n",
       "      <td>8.400000e-07</td>\n",
       "    </tr>\n",
       "    <tr>\n",
       "      <th>1006</th>\n",
       "      <td>1233</td>\n",
       "      <td>4.000000e-07</td>\n",
       "      <td>0.000002</td>\n",
       "      <td>7.500000e-07</td>\n",
       "      <td>0.000022</td>\n",
       "      <td>8.800000e-07</td>\n",
       "    </tr>\n",
       "    <tr>\n",
       "      <th>1007</th>\n",
       "      <td>1234</td>\n",
       "      <td>4.000000e-07</td>\n",
       "      <td>0.000002</td>\n",
       "      <td>7.500000e-07</td>\n",
       "      <td>0.000022</td>\n",
       "      <td>9.200000e-07</td>\n",
       "    </tr>\n",
       "    <tr>\n",
       "      <th>1008</th>\n",
       "      <td>1235</td>\n",
       "      <td>4.000000e-07</td>\n",
       "      <td>0.000002</td>\n",
       "      <td>7.500000e-07</td>\n",
       "      <td>0.000022</td>\n",
       "      <td>9.600000e-07</td>\n",
       "    </tr>\n",
       "    <tr>\n",
       "      <th>1009</th>\n",
       "      <td>1236</td>\n",
       "      <td>4.000000e-07</td>\n",
       "      <td>0.000002</td>\n",
       "      <td>7.500000e-07</td>\n",
       "      <td>0.000022</td>\n",
       "      <td>1.000000e-06</td>\n",
       "    </tr>\n",
       "  </tbody>\n",
       "</table>\n",
       "</div>"
      ],
      "text/plain": [
       "        id           gap    width1        height   radius1        width2\n",
       "1000  1227  4.000000e-07  0.000002  7.500000e-07  0.000020  8.800000e-07\n",
       "1001  1228  4.000000e-07  0.000002  7.500000e-07  0.000020  9.200000e-07\n",
       "1002  1229  4.000000e-07  0.000002  7.500000e-07  0.000020  9.600000e-07\n",
       "1003  1230  4.000000e-07  0.000002  7.500000e-07  0.000020  1.000000e-06\n",
       "1004  1231  4.000000e-07  0.000002  7.500000e-07  0.000022  8.000000e-07\n",
       "1005  1232  4.000000e-07  0.000002  7.500000e-07  0.000022  8.400000e-07\n",
       "1006  1233  4.000000e-07  0.000002  7.500000e-07  0.000022  8.800000e-07\n",
       "1007  1234  4.000000e-07  0.000002  7.500000e-07  0.000022  9.200000e-07\n",
       "1008  1235  4.000000e-07  0.000002  7.500000e-07  0.000022  9.600000e-07\n",
       "1009  1236  4.000000e-07  0.000002  7.500000e-07  0.000022  1.000000e-06"
      ]
     },
     "execution_count": 9,
     "metadata": {},
     "output_type": "execute_result"
    }
   ],
   "source": [
    "df_data, struct = df_by_filepath('matlab_data/keras_set1_1848+15-18+part_23-26.mat')\n",
    "df_data[1000:1010]"
   ]
  },
  {
   "cell_type": "code",
   "execution_count": 10,
   "metadata": {},
   "outputs": [
    {
     "name": "stderr",
     "output_type": "stream",
     "text": [
      "  0%|                                                                                           | 0/10 [00:00<?, ?it/s]C:\\Users\\lukashch\\AppData\\Local\\Continuum\\anaconda3\\lib\\site-packages\\ipykernel_launcher.py:38: DeprecationWarning: The binary mode of fromstring is deprecated, as it behaves surprisingly on unicode inputs. Use frombuffer instead\n",
      "100%|██████████████████████████████████████████████████████████████████████████████████| 10/10 [00:01<00:00,  7.14it/s]\n"
     ]
    }
   ],
   "source": [
    "# Generate dataset.\n",
    "Disp = []\n",
    "parameters_list = []\n",
    "images = []\n",
    "\n",
    "for filepath in ['matlab_data/keras_set1_1848+15-18+part_23-26.mat']:\n",
    "    df_data, struct = df_by_filepath(filepath)\n",
    "\n",
    "#     for i in tqdm.tqdm(range(len(struct))):\n",
    "    for i in tqdm.tqdm(range(10)):\n",
    "        # Parameters.\n",
    "        sample_id = int(struct[i][0])\n",
    "        parameters = df_data[df_data['id'] == sample_id].values[0][1:]\n",
    "        ## get rid off bad samples with small radius\n",
    "        if parameters[3]<17e-6:\n",
    "            continue\n",
    "        parameters_list.append(parameters)\n",
    "\n",
    "        # Frequencies and modes.\n",
    "        freqs, modes = struct[i][2][:, 0].real, struct[i][2][:, 2].real\n",
    "#         frequencies_modes_list.append((freqs, modes))\n",
    "\n",
    "        # Images.\n",
    "        omega_total, delta_omega_total, freq_grid, Dint = preproc(freqs, modes)\n",
    "        # Frequencies and modes write to the array to save them\n",
    "#         freqs, modes = struct[i][2][:, 0].real, struct[i][2][:, 2].real\n",
    "        Disp.append((freq_grid, Dint))\n",
    "        \n",
    "        fig = plt.figure(figsize=(2, 1))\n",
    "        fig.add_subplot(111)\n",
    "        plt.xlim((150, 400))\n",
    "        plt.ylim((-500, 500))\n",
    "        plt.axis('off')\n",
    "        img = plt.scatter(omega_total * 1e-12, delta_omega_total * 1e-9, s=0.01)\n",
    "        fig.canvas.draw()\n",
    "\n",
    "        # Images -> arrays -> black and white.\n",
    "        data = np.fromstring(fig.canvas.tostring_rgb(), dtype=np.uint8, sep='')\n",
    "        data = data.reshape(fig.canvas.get_width_height()[::-1] + (3,))\n",
    "        data = data[5:-5, 20:-13, 0]\n",
    "        data = (data < 200) * 255\n",
    "        data = data.astype('uint8')\n",
    "        images.append(data)\n",
    "        plt.close()"
   ]
  },
  {
   "cell_type": "code",
   "execution_count": 51,
   "metadata": {},
   "outputs": [
    {
     "data": {
      "text/plain": [
       "5070"
      ]
     },
     "execution_count": 51,
     "metadata": {},
     "output_type": "execute_result"
    }
   ],
   "source": [
    "len(images)"
   ]
  },
  {
   "cell_type": "code",
   "execution_count": 56,
   "metadata": {},
   "outputs": [
    {
     "data": {
      "text/plain": [
       "array([4847, 3073,  346, 1706, 3268, 4485, 3885, 4607, 4734, 3770])"
      ]
     },
     "execution_count": 56,
     "metadata": {},
     "output_type": "execute_result"
    }
   ],
   "source": [
    "a = np.random.randint(1,len(images),10)\n",
    "a"
   ]
  },
  {
   "cell_type": "code",
   "execution_count": 57,
   "metadata": {
    "scrolled": false
   },
   "outputs": [
    {
     "data": {
      "image/png": "[encoded data removed]",
      "text/plain": [
       "<matplotlib.figure.Figure at 0x2bc0a66ebe0>"
      ]
     },
     "metadata": {},
     "output_type": "display_data"
    },
    {
     "data": {
      "image/png": "[encoded data removed]",
      "text/plain": [
       "<matplotlib.figure.Figure at 0x2bc129d3ac8>"
      ]
     },
     "metadata": {},
     "output_type": "display_data"
    },
    {
     "data": {
      "image/png": "[encoded data removed]",
      "text/plain": [
       "<matplotlib.figure.Figure at 0x2bc0d48bf28>"
      ]
     },
     "metadata": {},
     "output_type": "display_data"
    },
    {
     "data": {
      "image/png": "[encoded data removed]",
      "text/plain": [
       "<matplotlib.figure.Figure at 0x2bc0d3714a8>"
      ]
     },
     "metadata": {},
     "output_type": "display_data"
    },
    {
     "data": {
      "image/png": "[encoded data removed]",
      "text/plain": [
       "<matplotlib.figure.Figure at 0x2bc0a66e400>"
      ]
     },
     "metadata": {},
     "output_type": "display_data"
    },
    {
     "data": {
      "image/png": "[encoded data removed]",
      "text/plain": [
       "<matplotlib.figure.Figure at 0x2bc08fce470>"
      ]
     },
     "metadata": {},
     "output_type": "display_data"
    },
    {
     "data": {
      "image/png": "[encoded data removed]",
      "text/plain": [
       "<matplotlib.figure.Figure at 0x2bc049bef60>"
      ]
     },
     "metadata": {},
     "output_type": "display_data"
    },
    {
     "data": {
      "image/png": "[encoded data removed]",
      "text/plain": [
       "<matplotlib.figure.Figure at 0x2bc04928cf8>"
      ]
     },
     "metadata": {},
     "output_type": "display_data"
    },
    {
     "data": {
      "image/png": "[encoded data removed]",
      "text/plain": [
       "<matplotlib.figure.Figure at 0x2bc048370f0>"
      ]
     },
     "metadata": {},
     "output_type": "display_data"
    },
    {
     "data": {
      "image/png": "[encoded data removed]",
      "text/plain": [
       "<matplotlib.figure.Figure at 0x2bbfe938278>"
      ]
     },
     "metadata": {},
     "output_type": "display_data"
    }
   ],
   "source": [
    "# for i in range(172, 180):\n",
    "for i in a:\n",
    "    plt.imshow(images[i])\n",
    "    plt.show()"
   ]
  },
  {
   "cell_type": "code",
   "execution_count": 53,
   "metadata": {},
   "outputs": [],
   "source": [
    "# Convert to np.array.\n",
    "images = np.array(images)\n",
    "Disp = np.array(Disp)\n",
    "parameters_list = np.array(parameters_list)\n",
    "\n",
    "with open('C:/Users/lukashch/Documents/GitHub/REDE/data/rede/raw/{}-5-parameters.pkl'.format(len(images)), 'wb') as f:\n",
    "    pickle.dump(parameters_list, f)\n",
    "\n",
    "with open('C:/Users/lukashch/Documents/GitHub/REDE/data/rede/raw/{}-frequencies_modes.pkl'.format(len(images)), 'wb') as f:\n",
    "    pickle.dump(Disp, f)\n",
    "\n",
    "with open('C:/Users/lukashch/Documents/GitHub/REDE/data/rede/raw/{}-62-111-images.pkl'.format(len(images)), 'wb') as f:\n",
    "    pickle.dump(images, f)"
   ]
  },
  {
   "cell_type": "code",
   "execution_count": 12,
   "metadata": {},
   "outputs": [
    {
     "data": {
      "image/png": "[encoded data removed]",
      "text/plain": [
       "<matplotlib.figure.Figure at 0x14dd403fbe0>"
      ]
     },
     "metadata": {},
     "output_type": "display_data"
    }
   ],
   "source": [
    "x, y = Disp[1]\n",
    "\n",
    "plt.figure(figsize=(10,5))\n",
    "plt.scatter(x, y)  # Plot each 300 data point.\n",
    "plt.xlabel(\"Frequency (THz)\")\n",
    "plt.ylabel(\"Mode deviation (GHz)\")\n",
    "plt.title(\"Modal spectral deviation in SiN resonator\")\n",
    "plt.show()"
   ]
  },
  {
   "cell_type": "code",
   "execution_count": null,
   "metadata": {},
   "outputs": [],
   "source": []
  }
 ],
 "metadata": {
  "kernelspec": {
   "display_name": "Python 3",
   "language": "python",
   "name": "python3"
  },
  "language_info": {
   "codemirror_mode": {
    "name": "ipython",
    "version": 3
   },
   "file_extension": ".py",
   "mimetype": "text/x-python",
   "name": "python",
   "nbconvert_exporter": "python",
   "pygments_lexer": "ipython3",
   "version": "3.6.4"
  }
 },
 "nbformat": 4,
 "nbformat_minor": 2
}
