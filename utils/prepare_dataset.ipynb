{
 "cells": [
  {
   "cell_type": "code",
   "execution_count": 1,
   "metadata": {
    "collapsed": true
   },
   "outputs": [],
   "source": [
    "# File name: prepare_dataset.ipynb\n",
    "# Authors: Anton Karazeev <anton.karazeev@gmail.com>, Anton Lukashchuk <academik116@gmail.com>\n",
    "#\n",
    "# This file is part of REDE project (https://github.com/akarazeev/REDE)\n",
    "#\n",
    "# Description: content of this file was used to build a dataset\n",
    "# callsed REDE - Reverse Engineering in Dispersion Engineering.\n",
    "# Files from utils/matlab_data/ were used as raw data. These data\n",
    "# contain information about system's simulations with given set of\n",
    "# parameters."
   ]
  },
  {
   "cell_type": "code",
   "execution_count": 6,
   "metadata": {
    "collapsed": true
   },
   "outputs": [],
   "source": [
    "import pandas as pd\n",
    "import numpy as np\n",
    "import matplotlib.pyplot as plt\n",
    "from scipy import interpolate\n",
    "import os\n",
    "import tqdm\n",
    "import pickle\n",
    "import scipy.io as spio\n",
    "\n",
    "\n",
    "def preproc(freqs, modes):\n",
    "    c = 2.99792458e8\n",
    "    T0 = 282e12\n",
    "    N = 20000\n",
    "\n",
    "    # Corrected here // AL 20.03\n",
    "    m1 = round(min(modes))\n",
    "    m2 = round(max(modes))\n",
    "    m_int = np.arange(m1, m2+1)\n",
    "    tck = interpolate.CubicSpline(modes, freqs)\n",
    "    omega_int = tck(m_int)\n",
    "    #####\n",
    "    \n",
    "    modes_total = np.linspace(min(modes), max(modes), N)\n",
    "    omega_total = tck(modes_total)\n",
    "\n",
    "    h = (max(modes) - min(modes)) / (N - 1)\n",
    "\n",
    "    D1_total = np.diff(omega_total) / h\n",
    "    D2_total = np.diff(D1_total) / h\n",
    "\n",
    "    modes_total = modes_total[:-1]\n",
    "    omega_total = omega_total[:-1]\n",
    "\n",
    "    # Corrected here // AL 20.03\n",
    "    ind_int = np.argmin(abs(T0 - omega_int))\n",
    "    ind = np.argmin(abs(modes_total - m_int[ind_int]))\n",
    "    #####\n",
    "\n",
    "    w0 = omega_total[ind]\n",
    "    m0 = modes_total[ind]\n",
    "    D1 = D1_total[ind]\n",
    "  \n",
    "    omega_grid = w0 + (D1 * (modes_total - m0))\n",
    "\n",
    "    delta = (omega_total - omega_grid) % D1\n",
    "    delta_omega_total = delta - (np.sign(delta - (D1 / 2)) * D1 * (abs(delta) > (D1 / 2)))\n",
    "    lambda_grid = c / omega_total\n",
    "    \n",
    "    # Get rid off data when Dint is more than 200GHz \n",
    "    a = ((omega_total<282e12) & (abs(delta_omega_total) > 200e9))\n",
    "    \n",
    "    if omega_total[a].shape[0] != 0:\n",
    "        get_rid_ind = np.argmin(abs(max(omega_total[a]) - omega_total) )\n",
    "        omega_total = omega_total[get_rid_ind+1:]\n",
    "        delta_omega_total = delta_omega_total[get_rid_ind+1:]\n",
    "    #####\n",
    "            \n",
    "    return omega_total, delta_omega_total, D1_total, D2_total"
   ]
  },
  {
   "cell_type": "code",
   "execution_count": 7,
   "metadata": {
    "collapsed": true
   },
   "outputs": [],
   "source": [
    "def df_by_filepath(filepath):\n",
    "    # Load data.\n",
    "    mat = spio.loadmat(filepath, squeeze_me=True)\n",
    "\n",
    "    struct = mat['str']\n",
    "    header = ['id']\n",
    "    header.extend(struct[0][1].dtype.names)\n",
    "    header\n",
    "\n",
    "    # Create DataFrame.\n",
    "    dataset = []\n",
    "\n",
    "    for i in range(len(struct)):\n",
    "        tmp = [int(struct[i][0])]\n",
    "        tmp.extend([float(struct[i][1][name]) for name in header[1:]])\n",
    "        dataset.append(tmp)\n",
    "\n",
    "    df_data = pd.DataFrame(data=dataset, columns=header)\n",
    "    return df_data, struct"
   ]
  },
  {
   "cell_type": "code",
   "execution_count": 8,
   "metadata": {},
   "outputs": [
    {
     "data": {
      "text/html": [
       "<div>\n",
       "<table border=\"1\" class=\"dataframe\">\n",
       "  <thead>\n",
       "    <tr style=\"text-align: right;\">\n",
       "      <th></th>\n",
       "      <th>id</th>\n",
       "      <th>gap</th>\n",
       "      <th>width1</th>\n",
       "      <th>height</th>\n",
       "      <th>radius1</th>\n",
       "      <th>width2</th>\n",
       "    </tr>\n",
       "  </thead>\n",
       "  <tbody>\n",
       "    <tr>\n",
       "      <th>0</th>\n",
       "      <td>1</td>\n",
       "      <td>2.500000e-07</td>\n",
       "      <td>0.000001</td>\n",
       "      <td>7.000000e-07</td>\n",
       "      <td>0.000018</td>\n",
       "      <td>8.000000e-07</td>\n",
       "    </tr>\n",
       "    <tr>\n",
       "      <th>1</th>\n",
       "      <td>2</td>\n",
       "      <td>2.500000e-07</td>\n",
       "      <td>0.000001</td>\n",
       "      <td>7.000000e-07</td>\n",
       "      <td>0.000018</td>\n",
       "      <td>8.400000e-07</td>\n",
       "    </tr>\n",
       "    <tr>\n",
       "      <th>2</th>\n",
       "      <td>3</td>\n",
       "      <td>2.500000e-07</td>\n",
       "      <td>0.000001</td>\n",
       "      <td>7.000000e-07</td>\n",
       "      <td>0.000018</td>\n",
       "      <td>8.800000e-07</td>\n",
       "    </tr>\n",
       "    <tr>\n",
       "      <th>3</th>\n",
       "      <td>4</td>\n",
       "      <td>2.500000e-07</td>\n",
       "      <td>0.000001</td>\n",
       "      <td>7.000000e-07</td>\n",
       "      <td>0.000018</td>\n",
       "      <td>9.200000e-07</td>\n",
       "    </tr>\n",
       "    <tr>\n",
       "      <th>4</th>\n",
       "      <td>5</td>\n",
       "      <td>2.500000e-07</td>\n",
       "      <td>0.000001</td>\n",
       "      <td>7.000000e-07</td>\n",
       "      <td>0.000018</td>\n",
       "      <td>9.600000e-07</td>\n",
       "    </tr>\n",
       "  </tbody>\n",
       "</table>\n",
       "</div>"
      ],
      "text/plain": [
       "   id           gap    width1        height   radius1        width2\n",
       "0   1  2.500000e-07  0.000001  7.000000e-07  0.000018  8.000000e-07\n",
       "1   2  2.500000e-07  0.000001  7.000000e-07  0.000018  8.400000e-07\n",
       "2   3  2.500000e-07  0.000001  7.000000e-07  0.000018  8.800000e-07\n",
       "3   4  2.500000e-07  0.000001  7.000000e-07  0.000018  9.200000e-07\n",
       "4   5  2.500000e-07  0.000001  7.000000e-07  0.000018  9.600000e-07"
      ]
     },
     "execution_count": 8,
     "metadata": {},
     "output_type": "execute_result"
    }
   ],
   "source": [
    "df_data, struct = df_by_filepath('matlab_data/set_1848_elements.mat')\n",
    "df_data.head()"
   ]
  },
  {
   "cell_type": "code",
   "execution_count": 12,
   "metadata": {},
   "outputs": [
    {
     "name": "stderr",
     "output_type": "stream",
     "text": [
      "100%|██████████| 1848/1848 [03:14<00:00,  9.52it/s]\n"
     ]
    }
   ],
   "source": [
    "# Generate dataset.\n",
    "frequencies_modes_list = []\n",
    "parameters_list = []\n",
    "images = []\n",
    "\n",
    "for filepath in ['matlab_data/set_1848_elements.mat']:\n",
    "    df_data, struct = df_by_filepath(filepath)\n",
    "\n",
    "    for i in tqdm.tqdm(range(len(struct))):\n",
    "        # Parameters.\n",
    "        sample_id = int(struct[i][0])\n",
    "        parameters = df_data[df_data['id'] == sample_id].values[0][1:]\n",
    "        parameters_list.append(parameters)\n",
    "\n",
    "        # Frequencies and modes.\n",
    "        freqs, modes = struct[i][2][:, 0].real, struct[i][2][:, 2].real\n",
    "        frequencies_modes_list.append((freqs, modes))\n",
    "\n",
    "        # Images.\n",
    "        omega_total, delta_omega_total, D1_total, D2_total = preproc(freqs, modes)\n",
    "        fig = plt.figure(figsize=(2, 1))\n",
    "        fig.add_subplot(111)\n",
    "        plt.xlim((130, 430))\n",
    "        plt.ylim((-500, 500))\n",
    "        plt.axis('off')\n",
    "        img = plt.scatter(omega_total * 1e-12, delta_omega_total * 1e-9, s=0.01)\n",
    "        fig.canvas.draw()\n",
    "\n",
    "        # Images -> arrays -> black and white.\n",
    "        data = np.fromstring(fig.canvas.tostring_rgb(), dtype=np.uint8, sep='')\n",
    "        data = data.reshape(fig.canvas.get_width_height()[::-1] + (3,))\n",
    "        data = data[5:-5, 20:-13, 0]\n",
    "        data = (data < 200) * 255\n",
    "        data = data.astype('uint8')\n",
    "        images.append(data)\n",
    "        plt.close()"
   ]
  },
  {
   "cell_type": "code",
   "execution_count": 13,
   "metadata": {
    "scrolled": false
   },
   "outputs": [
    {
     "data": {
      "image/png": "[encoded data removed]",
      "text/plain": [
       "<matplotlib.figure.Figure at 0x10e8f8710>"
      ]
     },
     "metadata": {},
     "output_type": "display_data"
    },
    {
     "data": {
      "image/png": "[encoded data removed]",
      "text/plain": [
       "<matplotlib.figure.Figure at 0x10ec12f98>"
      ]
     },
     "metadata": {},
     "output_type": "display_data"
    },
    {
     "data": {
      "image/png": "[encoded data removed]",
      "text/plain": [
       "<matplotlib.figure.Figure at 0x10ed8ea90>"
      ]
     },
     "metadata": {},
     "output_type": "display_data"
    },
    {
     "data": {
      "image/png": "[encoded data removed]",
      "text/plain": [
       "<matplotlib.figure.Figure at 0x10e8f36a0>"
      ]
     },
     "metadata": {},
     "output_type": "display_data"
    },
    {
     "data": {
      "image/png": "[encoded data removed]",
      "text/plain": [
       "<matplotlib.figure.Figure at 0x10ebbbfd0>"
      ]
     },
     "metadata": {},
     "output_type": "display_data"
    },
    {
     "data": {
      "image/png": "[encoded data removed]",
      "text/plain": [
       "<matplotlib.figure.Figure at 0x109c78320>"
      ]
     },
     "metadata": {},
     "output_type": "display_data"
    },
    {
     "data": {
      "image/png": "[encoded data removed]",
      "text/plain": [
       "<matplotlib.figure.Figure at 0x10f9ef898>"
      ]
     },
     "metadata": {},
     "output_type": "display_data"
    },
    {
     "data": {
      "image/png": "[encoded data removed]",
      "text/plain": [
       "<matplotlib.figure.Figure at 0x108d4c278>"
      ]
     },
     "metadata": {},
     "output_type": "display_data"
    }
   ],
   "source": [
    "for i in range(172, 180):\n",
    "    plt.imshow(images[i])\n",
    "    plt.show()"
   ]
  },
  {
   "cell_type": "code",
   "execution_count": 14,
   "metadata": {
    "collapsed": true
   },
   "outputs": [],
   "source": [
    "# Convert to np.array.\n",
    "images = np.array(images)\n",
    "frequencies_modes_list = np.array(frequencies_modes_list)\n",
    "parameters_list = np.array(parameters_list)\n",
    "\n",
    "with open('dataset/{}-5-parameters.pkl'.format(len(images)), 'wb') as f:\n",
    "    pickle.dump(parameters_list, f)\n",
    "\n",
    "with open('dataset/{}-frequencies_modes.pkl'.format(len(images)), 'wb') as f:\n",
    "    pickle.dump(frequencies_modes_list, f)\n",
    "\n",
    "with open('dataset/{}-62-111-images.pkl'.format(len(images)), 'wb') as f:\n",
    "    pickle.dump(images, f)"
   ]
  }
 ],
 "metadata": {
  "kernelspec": {
   "display_name": "Python 3",
   "language": "python",
   "name": "python3"
  },
  "language_info": {
   "codemirror_mode": {
    "name": "ipython",
    "version": 3
   },
   "file_extension": ".py",
   "mimetype": "text/x-python",
   "name": "python",
   "nbconvert_exporter": "python",
   "pygments_lexer": "ipython3",
   "version": "3.6.4"
  }
 },
 "nbformat": 4,
 "nbformat_minor": 2
}
