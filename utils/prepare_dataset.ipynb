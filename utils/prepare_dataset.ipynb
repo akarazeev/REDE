{
 "cells": [
  {
   "cell_type": "markdown",
   "metadata": {},
   "source": [
    "**File name**: prepare_dataset.ipynb<br>\n",
    "**Authors**: Anton Karazeev &lt;[anton.karazeev@gmail.com](mailto:anton.karazeev@gmail.com)&gt;, Anton Lukashchuk &lt;[academik116@gmail.com](mailto:academik116@gmail.com)&gt;\n",
    "\n",
    "This file is part of REDE project (https://github.com/akarazeev/REDE)\n",
    "\n",
    "**Description**: content of this file was used to build a dataset called REDE - Reverse Engineering in Dispersion Engineering. Files from utils/matlab_data/ were used as raw data. These data contain information about system's simulations with given set of parameters."
   ]
  },
  {
   "cell_type": "code",
   "execution_count": 1,
   "metadata": {
    "collapsed": true
   },
   "outputs": [],
   "source": [
    "import pandas as pd\n",
    "import numpy as np\n",
    "import matplotlib.pyplot as plt\n",
    "from scipy import interpolate\n",
    "import os\n",
    "import tqdm\n",
    "import pickle\n",
    "import scipy.io as spio"
   ]
  },
  {
   "cell_type": "code",
   "execution_count": 2,
   "metadata": {
    "collapsed": true
   },
   "outputs": [],
   "source": [
    "%load_ext autoreload\n",
    "%autoreload 2\n",
    "\n",
    "from prepare_dataset import preproc"
   ]
  },
  {
   "cell_type": "code",
   "execution_count": 3,
   "metadata": {
    "collapsed": true
   },
   "outputs": [],
   "source": [
    "def df_by_filepath(filepath):\n",
    "    # Load data.\n",
    "    mat = spio.loadmat(filepath, squeeze_me=True)\n",
    "\n",
    "    struct = mat['str']\n",
    "    header = ['id']\n",
    "    header.extend(struct[0][1].dtype.names)\n",
    "    header\n",
    "\n",
    "    # Create DataFrame.\n",
    "    dataset = []\n",
    "\n",
    "    for i in range(len(struct)):\n",
    "        tmp = [int(struct[i][0])]\n",
    "        tmp.extend([float(struct[i][1][name]) for name in header[1:]])\n",
    "        dataset.append(tmp)\n",
    "\n",
    "    df_data = pd.DataFrame(data=dataset, columns=header)\n",
    "    return df_data, struct"
   ]
  },
  {
   "cell_type": "code",
   "execution_count": 4,
   "metadata": {},
   "outputs": [
    {
     "data": {
      "text/html": [
       "<div>\n",
       "<table border=\"1\" class=\"dataframe\">\n",
       "  <thead>\n",
       "    <tr style=\"text-align: right;\">\n",
       "      <th></th>\n",
       "      <th>id</th>\n",
       "      <th>gap</th>\n",
       "      <th>width1</th>\n",
       "      <th>height</th>\n",
       "      <th>radius1</th>\n",
       "      <th>width2</th>\n",
       "    </tr>\n",
       "  </thead>\n",
       "  <tbody>\n",
       "    <tr>\n",
       "      <th>0</th>\n",
       "      <td>1</td>\n",
       "      <td>2.500000e-07</td>\n",
       "      <td>0.000001</td>\n",
       "      <td>7.000000e-07</td>\n",
       "      <td>0.000018</td>\n",
       "      <td>8.000000e-07</td>\n",
       "    </tr>\n",
       "    <tr>\n",
       "      <th>1</th>\n",
       "      <td>2</td>\n",
       "      <td>2.500000e-07</td>\n",
       "      <td>0.000001</td>\n",
       "      <td>7.000000e-07</td>\n",
       "      <td>0.000018</td>\n",
       "      <td>8.400000e-07</td>\n",
       "    </tr>\n",
       "    <tr>\n",
       "      <th>2</th>\n",
       "      <td>3</td>\n",
       "      <td>2.500000e-07</td>\n",
       "      <td>0.000001</td>\n",
       "      <td>7.000000e-07</td>\n",
       "      <td>0.000018</td>\n",
       "      <td>8.800000e-07</td>\n",
       "    </tr>\n",
       "    <tr>\n",
       "      <th>3</th>\n",
       "      <td>4</td>\n",
       "      <td>2.500000e-07</td>\n",
       "      <td>0.000001</td>\n",
       "      <td>7.000000e-07</td>\n",
       "      <td>0.000018</td>\n",
       "      <td>9.200000e-07</td>\n",
       "    </tr>\n",
       "    <tr>\n",
       "      <th>4</th>\n",
       "      <td>5</td>\n",
       "      <td>2.500000e-07</td>\n",
       "      <td>0.000001</td>\n",
       "      <td>7.000000e-07</td>\n",
       "      <td>0.000018</td>\n",
       "      <td>9.600000e-07</td>\n",
       "    </tr>\n",
       "  </tbody>\n",
       "</table>\n",
       "</div>"
      ],
      "text/plain": [
       "   id           gap    width1        height   radius1        width2\n",
       "0   1  2.500000e-07  0.000001  7.000000e-07  0.000018  8.000000e-07\n",
       "1   2  2.500000e-07  0.000001  7.000000e-07  0.000018  8.400000e-07\n",
       "2   3  2.500000e-07  0.000001  7.000000e-07  0.000018  8.800000e-07\n",
       "3   4  2.500000e-07  0.000001  7.000000e-07  0.000018  9.200000e-07\n",
       "4   5  2.500000e-07  0.000001  7.000000e-07  0.000018  9.600000e-07"
      ]
     },
     "execution_count": 4,
     "metadata": {},
     "output_type": "execute_result"
    }
   ],
   "source": [
    "df_data, struct = df_by_filepath('matlab_data/set_1848_elements.mat')\n",
    "df_data.head()"
   ]
  },
  {
   "cell_type": "code",
   "execution_count": 9,
   "metadata": {},
   "outputs": [
    {
     "name": "stderr",
     "output_type": "stream",
     "text": [
      "100%|██████████| 10/10 [00:00<00:00, 10.78it/s]\n"
     ]
    }
   ],
   "source": [
    "# Generate dataset.\n",
    "frequencies_modes_list = []\n",
    "parameters_list = []\n",
    "images = []\n",
    "\n",
    "for filepath in ['matlab_data/set_1848_elements.mat']:\n",
    "    df_data, struct = df_by_filepath(filepath)\n",
    "\n",
    "#     for i in tqdm.tqdm(range(len(struct))):\n",
    "    for i in tqdm.tqdm(range(1000,1010)):\n",
    "        # Parameters.\n",
    "        sample_id = int(struct[i][0])\n",
    "        parameters = df_data[df_data['id'] == sample_id].values[0][1:]\n",
    "        parameters_list.append(parameters)\n",
    "\n",
    "        # Frequencies and modes.\n",
    "        freqs, modes = struct[i][2][:, 0].real, struct[i][2][:, 2].real\n",
    "        frequencies_modes_list.append((freqs, modes))\n",
    "\n",
    "        # Images.\n",
    "        omega_total, delta_omega_total, D1_total, D2_total = preproc(freqs, modes)\n",
    "        fig = plt.figure(figsize=(2, 1))\n",
    "        fig.add_subplot(111)\n",
    "        plt.xlim((130, 430))\n",
    "        plt.ylim((-500, 500))\n",
    "        plt.axis('off')\n",
    "        img = plt.scatter(omega_total * 1e-12, delta_omega_total * 1e-9, s=0.01)\n",
    "        fig.canvas.draw()\n",
    "\n",
    "        # Images -> arrays -> black and white.\n",
    "        data = np.fromstring(fig.canvas.tostring_rgb(), dtype=np.uint8, sep='')\n",
    "        data = data.reshape(fig.canvas.get_width_height()[::-1] + (3,))\n",
    "        data = data[5:-5, 20:-13, 0]\n",
    "        data = (data < 200) * 255\n",
    "        data = data.astype('uint8')\n",
    "        images.append(data)\n",
    "        plt.close()"
   ]
  },
  {
   "cell_type": "code",
   "execution_count": 10,
   "metadata": {
    "scrolled": false
   },
   "outputs": [
    {
     "data": {
      "image/png": "[encoded data removed]",
      "text/plain": [
       "<matplotlib.figure.Figure at 0x110d71cf8>"
      ]
     },
     "metadata": {},
     "output_type": "display_data"
    },
    {
     "data": {
      "image/png": "[encoded data removed]",
      "text/plain": [
       "<matplotlib.figure.Figure at 0x110ef9940>"
      ]
     },
     "metadata": {},
     "output_type": "display_data"
    },
    {
     "data": {
      "image/png": "[encoded data removed]",
      "text/plain": [
       "<matplotlib.figure.Figure at 0x110b18748>"
      ]
     },
     "metadata": {},
     "output_type": "display_data"
    },
    {
     "data": {
      "image/png": "[encoded data removed]",
      "text/plain": [
       "<matplotlib.figure.Figure at 0x110b3f0f0>"
      ]
     },
     "metadata": {},
     "output_type": "display_data"
    },
    {
     "data": {
      "image/png": "[encoded data removed]",
      "text/plain": [
       "<matplotlib.figure.Figure at 0x11094ef28>"
      ]
     },
     "metadata": {},
     "output_type": "display_data"
    },
    {
     "data": {
      "image/png": "[encoded data removed]",
      "text/plain": [
       "<matplotlib.figure.Figure at 0x110946fd0>"
      ]
     },
     "metadata": {},
     "output_type": "display_data"
    },
    {
     "data": {
      "image/png": "[encoded data removed]",
      "text/plain": [
       "<matplotlib.figure.Figure at 0x111768550>"
      ]
     },
     "metadata": {},
     "output_type": "display_data"
    },
    {
     "data": {
      "image/png": "[encoded data removed]",
      "text/plain": [
       "<matplotlib.figure.Figure at 0x11106f470>"
      ]
     },
     "metadata": {},
     "output_type": "display_data"
    },
    {
     "data": {
      "image/png": "[encoded data removed]",
      "text/plain": [
       "<matplotlib.figure.Figure at 0x110aed240>"
      ]
     },
     "metadata": {},
     "output_type": "display_data"
    },
    {
     "data": {
      "image/png": "[encoded data removed]",
      "text/plain": [
       "<matplotlib.figure.Figure at 0x110b3d940>"
      ]
     },
     "metadata": {},
     "output_type": "display_data"
    }
   ],
   "source": [
    "# for i in range(172, 180):\n",
    "for i in range(10):\n",
    "    plt.imshow(images[i])\n",
    "    plt.show()"
   ]
  },
  {
   "cell_type": "code",
   "execution_count": 14,
   "metadata": {
    "collapsed": true
   },
   "outputs": [],
   "source": [
    "# Convert to np.array.\n",
    "images = np.array(images)\n",
    "frequencies_modes_list = np.array(frequencies_modes_list)\n",
    "parameters_list = np.array(parameters_list)\n",
    "\n",
    "with open('dataset/{}-5-parameters.pkl'.format(len(images)), 'wb') as f:\n",
    "    pickle.dump(parameters_list, f)\n",
    "\n",
    "with open('dataset/{}-frequencies_modes.pkl'.format(len(images)), 'wb') as f:\n",
    "    pickle.dump(frequencies_modes_list, f)\n",
    "\n",
    "with open('dataset/{}-62-111-images.pkl'.format(len(images)), 'wb') as f:\n",
    "    pickle.dump(images, f)"
   ]
  }
 ],
 "metadata": {
  "kernelspec": {
   "display_name": "Python 3",
   "language": "python",
   "name": "python3"
  },
  "language_info": {
   "codemirror_mode": {
    "name": "ipython",
    "version": 3
   },
   "file_extension": ".py",
   "mimetype": "text/x-python",
   "name": "python",
   "nbconvert_exporter": "python",
   "pygments_lexer": "ipython3",
   "version": "3.6.4"
  }
 },
 "nbformat": 4,
 "nbformat_minor": 2
}
