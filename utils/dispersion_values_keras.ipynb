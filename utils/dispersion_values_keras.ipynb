{
 "cells": [
  {
   "cell_type": "markdown",
   "metadata": {},
   "source": [
    "**File name**: dispersion_values.ipynb<br>\n",
    "**Authors**: Anton Karazeev &lt;[anton.karazeev@gmail.com](mailto:anton.karazeev@gmail.com)&gt;, Anton Lukashchuk &lt;[academik116@gmail.com](mailto:academik116@gmail.com)&gt;\n",
    "\n",
    "This file is part of REDE project (https://github.com/akarazeev/REDE)\n",
    "\n",
    "**Description**: ..."
   ]
  },
  {
   "cell_type": "code",
   "execution_count": 1,
   "metadata": {},
   "outputs": [],
   "source": [
    "import pandas as pd\n",
    "import numpy as np\n",
    "import matplotlib.pyplot as plt\n",
    "from scipy import interpolate\n",
    "import os\n",
    "import tqdm\n",
    "import pickle\n",
    "import scipy.io as spio"
   ]
  },
  {
   "cell_type": "code",
   "execution_count": 3,
   "metadata": {},
   "outputs": [
    {
     "name": "stdout",
     "output_type": "stream",
     "text": [
      "The autoreload extension is already loaded. To reload it, use:\n",
      "  %reload_ext autoreload\n"
     ]
    }
   ],
   "source": [
    "%load_ext autoreload\n",
    "%autoreload 2\n",
    "\n",
    "from prepare_dataset_keras import preproc"
   ]
  },
  {
   "cell_type": "code",
   "execution_count": 4,
   "metadata": {},
   "outputs": [],
   "source": [
    "def df_by_filepath(filepath):\n",
    "    # Load data.\n",
    "    mat = spio.loadmat(filepath, squeeze_me=True)\n",
    "\n",
    "    struct = mat['str']\n",
    "    header = ['id']\n",
    "    header.extend(struct[0][1].dtype.names)\n",
    "    header\n",
    "\n",
    "    # Create DataFrame.\n",
    "    dataset = []\n",
    "\n",
    "    for i in range(len(struct)):\n",
    "        tmp = [int(struct[i][0])]\n",
    "        tmp.extend([float(struct[i][1][name]) for name in header[1:]])\n",
    "        dataset.append(tmp)\n",
    "\n",
    "    df_data = pd.DataFrame(data=dataset, columns=header)\n",
    "    return df_data, struct"
   ]
  },
  {
   "cell_type": "code",
   "execution_count": 5,
   "metadata": {},
   "outputs": [
    {
     "data": {
      "text/html": [
       "<div>\n",
       "<style scoped>\n",
       "    .dataframe tbody tr th:only-of-type {\n",
       "        vertical-align: middle;\n",
       "    }\n",
       "\n",
       "    .dataframe tbody tr th {\n",
       "        vertical-align: top;\n",
       "    }\n",
       "\n",
       "    .dataframe thead th {\n",
       "        text-align: right;\n",
       "    }\n",
       "</style>\n",
       "<table border=\"1\" class=\"dataframe\">\n",
       "  <thead>\n",
       "    <tr style=\"text-align: right;\">\n",
       "      <th></th>\n",
       "      <th>id</th>\n",
       "      <th>gap</th>\n",
       "      <th>width1</th>\n",
       "      <th>height</th>\n",
       "      <th>radius1</th>\n",
       "      <th>width2</th>\n",
       "    </tr>\n",
       "  </thead>\n",
       "  <tbody>\n",
       "    <tr>\n",
       "      <th>0</th>\n",
       "      <td>1</td>\n",
       "      <td>2.500000e-07</td>\n",
       "      <td>0.000001</td>\n",
       "      <td>7.000000e-07</td>\n",
       "      <td>0.000018</td>\n",
       "      <td>8.000000e-07</td>\n",
       "    </tr>\n",
       "    <tr>\n",
       "      <th>1</th>\n",
       "      <td>2</td>\n",
       "      <td>2.500000e-07</td>\n",
       "      <td>0.000001</td>\n",
       "      <td>7.000000e-07</td>\n",
       "      <td>0.000018</td>\n",
       "      <td>8.400000e-07</td>\n",
       "    </tr>\n",
       "    <tr>\n",
       "      <th>2</th>\n",
       "      <td>3</td>\n",
       "      <td>2.500000e-07</td>\n",
       "      <td>0.000001</td>\n",
       "      <td>7.000000e-07</td>\n",
       "      <td>0.000018</td>\n",
       "      <td>8.800000e-07</td>\n",
       "    </tr>\n",
       "    <tr>\n",
       "      <th>3</th>\n",
       "      <td>4</td>\n",
       "      <td>2.500000e-07</td>\n",
       "      <td>0.000001</td>\n",
       "      <td>7.000000e-07</td>\n",
       "      <td>0.000018</td>\n",
       "      <td>9.200000e-07</td>\n",
       "    </tr>\n",
       "    <tr>\n",
       "      <th>4</th>\n",
       "      <td>5</td>\n",
       "      <td>2.500000e-07</td>\n",
       "      <td>0.000001</td>\n",
       "      <td>7.000000e-07</td>\n",
       "      <td>0.000018</td>\n",
       "      <td>9.600000e-07</td>\n",
       "    </tr>\n",
       "  </tbody>\n",
       "</table>\n",
       "</div>"
      ],
      "text/plain": [
       "   id           gap    width1        height   radius1        width2\n",
       "0   1  2.500000e-07  0.000001  7.000000e-07  0.000018  8.000000e-07\n",
       "1   2  2.500000e-07  0.000001  7.000000e-07  0.000018  8.400000e-07\n",
       "2   3  2.500000e-07  0.000001  7.000000e-07  0.000018  8.800000e-07\n",
       "3   4  2.500000e-07  0.000001  7.000000e-07  0.000018  9.200000e-07\n",
       "4   5  2.500000e-07  0.000001  7.000000e-07  0.000018  9.600000e-07"
      ]
     },
     "execution_count": 5,
     "metadata": {},
     "output_type": "execute_result"
    }
   ],
   "source": [
    "df_data, struct = df_by_filepath('matlab_data/set_1848_elements.mat')\n",
    "df_data.head()"
   ]
  },
  {
   "cell_type": "code",
   "execution_count": 50,
   "metadata": {},
   "outputs": [
    {
     "name": "stderr",
     "output_type": "stream",
     "text": [
      "100%|██████████| 1848/1848 [00:06<00:00, 286.36it/s]\n"
     ]
    }
   ],
   "source": [
    "# Generate dataset.\n",
    "frequencies_modes_list = []\n",
    "parameters_list = []\n",
    "dispersions = []\n",
    "\n",
    "for filepath in ['matlab_data/set_1848_elements.mat']:\n",
    "    df_data, struct = df_by_filepath(filepath)\n",
    "\n",
    "    for i in tqdm.tqdm(range(len(struct))):\n",
    "        # Parameters.\n",
    "        sample_id = int(struct[i][0])\n",
    "        parameters = df_data[df_data['id'] == sample_id].values[0][1:]\n",
    "        parameters_list.append(parameters)\n",
    "\n",
    "        # Frequencies and modes.\n",
    "        freqs, modes = struct[i][2][:, 0].real, struct[i][2][:, 2].real\n",
    "        frequencies_modes_list.append((freqs, modes))\n",
    "\n",
    "        # Dispersions.\n",
    "        omega_total, delta_omega_total, D1_total, D2_total = preproc(freqs, modes)\n",
    "        x = omega_total * 1e-12\n",
    "        y = delta_omega_total * 1e-9\n",
    "        dispersions.append((x, y))"
   ]
  },
  {
   "cell_type": "code",
   "execution_count": 51,
   "metadata": {},
   "outputs": [
    {
     "data": {
      "text/plain": [
       "[18704, 18594, 18442, 18245, 18344, 18371, 16003, 16334, 16609, 16823]"
      ]
     },
     "execution_count": 51,
     "metadata": {},
     "output_type": "execute_result"
    }
   ],
   "source": [
    "[len(x[0]) for x in dispersions[:10]]"
   ]
  },
  {
   "cell_type": "code",
   "execution_count": 52,
   "metadata": {},
   "outputs": [
    {
     "data": {
      "image/png": "[encoded data removed]",
      "text/plain": [
       "<matplotlib.figure.Figure at 0x12d1d6d30>"
      ]
     },
     "metadata": {},
     "output_type": "display_data"
    }
   ],
   "source": [
    "x, y = dispersions[1000]\n",
    "\n",
    "plt.figure(figsize=(10,5))\n",
    "plt.scatter(x[::300], y[::300])  # Plot each 300 data point.\n",
    "plt.xlabel(\"Frequency (THz)\")\n",
    "plt.ylabel(\"Mode deviation (GHz)\")\n",
    "plt.title(\"Modal spectral deviation in SiN resonator\")\n",
    "plt.show()"
   ]
  },
  {
   "cell_type": "code",
   "execution_count": 53,
   "metadata": {},
   "outputs": [
    {
     "data": {
      "text/plain": [
       "array([  4.00000000e-07,   1.55000000e-06,   7.50000000e-07,\n",
       "         2.00000000e-05,   8.80000000e-07])"
      ]
     },
     "execution_count": 53,
     "metadata": {},
     "output_type": "execute_result"
    }
   ],
   "source": [
    "# Parameters for 1000th simulation.\n",
    "parameters_list[1000]"
   ]
  },
  {
   "cell_type": "code",
   "execution_count": 54,
   "metadata": {},
   "outputs": [
    {
     "data": {
      "text/plain": [
       "array([ 170.89033849,  170.90406565,  170.91779258,  170.93151929,\n",
       "        170.94524577,  170.95897204,  170.97269809,  170.98642391,\n",
       "        171.00014952,  171.01387491])"
      ]
     },
     "execution_count": 54,
     "metadata": {},
     "output_type": "execute_result"
    }
   ],
   "source": [
    "x[:10]"
   ]
  },
  {
   "cell_type": "code",
   "execution_count": 55,
   "metadata": {},
   "outputs": [
    {
     "data": {
      "text/plain": [
       "array([-199.94675728, -199.68261969, -199.41870339, -199.15500826,\n",
       "       -198.89153414, -198.6282809 , -198.36524839, -198.10243648,\n",
       "       -197.83984503, -197.57747389])"
      ]
     },
     "execution_count": 55,
     "metadata": {},
     "output_type": "execute_result"
    }
   ],
   "source": [
    "y[:10]"
   ]
  }
 ],
 "metadata": {
  "kernelspec": {
   "display_name": "Python 3",
   "language": "python",
   "name": "python3"
  },
  "language_info": {
   "codemirror_mode": {
    "name": "ipython",
    "version": 3
   },
   "file_extension": ".py",
   "mimetype": "text/x-python",
   "name": "python",
   "nbconvert_exporter": "python",
   "pygments_lexer": "ipython3",
   "version": "3.6.4"
  }
 },
 "nbformat": 4,
 "nbformat_minor": 2
}
