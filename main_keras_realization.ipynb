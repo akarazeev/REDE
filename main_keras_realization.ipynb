{
 "cells": [
  {
   "cell_type": "markdown",
   "metadata": {},
   "source": [
    "**File name**: main_keras_realization.ipynb<br>\n",
    "**Authors**: Anton Lukashchuk &lt;[academik116@gmail.com](mailto:academik116@gmail.com)&gt;, Anton Karazeev &lt;[anton.karazeev@gmail.com](mailto:anton.karazeev@gmail.com)&gt;<br>\n",
    "This file is part of REDE project (https://github.com/akarazeev/REDE)"
   ]
  },
  {
   "cell_type": "code",
   "execution_count": 8,
   "metadata": {},
   "outputs": [],
   "source": [
    "%config InlineBackend.figure_format='retina'\n",
    "%matplotlib inline\n",
    "\n",
    "# Silence warnings\n",
    "import warnings\n",
    "warnings.simplefilter(action=\"ignore\", category=FutureWarning)\n",
    "warnings.simplefilter(action=\"ignore\", category=UserWarning)\n",
    "warnings.simplefilter(action=\"ignore\", category=RuntimeWarning)\n",
    "import pandas as pd\n",
    "import numpy as np\n",
    "import matplotlib.pyplot as plt\n",
    "from scipy import interpolate\n",
    "import os\n",
    "import tqdm\n",
    "import pickle\n",
    "import scipy.io as spio\n",
    "\n",
    "from IPython.display import Image\n",
    "\n",
    "np.random.seed(123)\n",
    "import matplotlib.pyplot as plt\n",
    "#plt.rcParams[\"figure.figsize\"] = (8, 8)\n",
    "plt.rcParams[\"font.size\"] = 14"
   ]
  },
  {
   "cell_type": "code",
   "execution_count": 5,
   "metadata": {},
   "outputs": [],
   "source": [
    "from keras.models import Model\n",
    "from keras.layers import Conv2D\n",
    "from keras.layers import Input, Dense\n",
    "from keras.layers import Activation, Flatten\n",
    "from keras.layers import MaxPool2D, Dropout, BatchNormalization\n",
    "from keras.utils import plot_model\n",
    "from keras import utils\n"
   ]
  },
  {
   "cell_type": "code",
   "execution_count": 63,
   "metadata": {},
   "outputs": [],
   "source": [
    "from sklearn.metrics import mean_squared_error as mse\n",
    "from sklearn.model_selection import cross_val_score\n",
    "from sklearn.model_selection import KFold\n",
    "from sklearn.preprocessing import StandardScaler\n",
    "from sklearn.pipeline import Pipeline\n",
    "from sklearn.model_selection import train_test_split"
   ]
  },
  {
   "cell_type": "code",
   "execution_count": null,
   "metadata": {},
   "outputs": [],
   "source": []
  },
  {
   "cell_type": "code",
   "execution_count": null,
   "metadata": {},
   "outputs": [],
   "source": []
  },
  {
   "cell_type": "code",
   "execution_count": null,
   "metadata": {},
   "outputs": [],
   "source": []
  },
  {
   "cell_type": "code",
   "execution_count": null,
   "metadata": {},
   "outputs": [],
   "source": []
  },
  {
   "cell_type": "code",
   "execution_count": null,
   "metadata": {},
   "outputs": [],
   "source": []
  },
  {
   "cell_type": "code",
   "execution_count": null,
   "metadata": {},
   "outputs": [],
   "source": []
  },
  {
   "cell_type": "code",
   "execution_count": 599,
   "metadata": {},
   "outputs": [],
   "source": [
    "import pickle\n",
    "\n",
    "\n",
    "with open('C:/Users/lukashch/Documents/GitHub/REDE/data/rede/raw/5070-62-111-images.pkl', 'rb') as f:\n",
    "    img = pickle.load(f)\n",
    "    \n",
    "with open('C:/Users/lukashch/Documents/GitHub/REDE/data/rede/raw/5070-frequencies_modes.pkl', 'rb') as f:\n",
    "    Disp = pickle.load(f)    \n",
    "    \n",
    "with open('C:/Users/lukashch/Documents/GitHub/REDE/data/rede/raw/5070-5-parameters.pkl', 'rb') as f:\n",
    "    parameters_list = pickle.load(f)"
   ]
  },
  {
   "cell_type": "code",
   "execution_count": 600,
   "metadata": {},
   "outputs": [
    {
     "data": {
      "text/plain": [
       "(5070, 62, 111)"
      ]
     },
     "execution_count": 600,
     "metadata": {},
     "output_type": "execute_result"
    }
   ],
   "source": [
    "img.shape"
   ]
  },
  {
   "cell_type": "code",
   "execution_count": 601,
   "metadata": {},
   "outputs": [
    {
     "data": {
      "text/plain": [
       "array([3.50e-07, 1.55e-06, 8.00e-07, 2.00e-05, 8.80e-07])"
      ]
     },
     "execution_count": 601,
     "metadata": {},
     "output_type": "execute_result"
    }
   ],
   "source": [
    "parameters_list[3010]"
   ]
  },
  {
   "cell_type": "code",
   "execution_count": 603,
   "metadata": {},
   "outputs": [
    {
     "data": {
      "image/png": "[encoded data removed]",
      "text/plain": [
       "<matplotlib.figure.Figure at 0x18d0235fd30>"
      ]
     },
     "metadata": {
      "image/png": {
       "height": 226,
       "width": 375
      }
     },
     "output_type": "display_data"
    }
   ],
   "source": [
    "# import matplotlib.cm as cm\n",
    "# import matplotlib.pyplot as plt\n",
    "\n",
    "\n",
    "plt.imshow(img[5000])#, cmap=cm.Greys_r)\n",
    "plt.show()"
   ]
  },
  {
   "cell_type": "code",
   "execution_count": 604,
   "metadata": {},
   "outputs": [
    {
     "data": {
      "text/plain": [
       "(5070, 2, 50)"
      ]
     },
     "execution_count": 604,
     "metadata": {},
     "output_type": "execute_result"
    }
   ],
   "source": [
    "Disp.shape"
   ]
  },
  {
   "cell_type": "code",
   "execution_count": 605,
   "metadata": {},
   "outputs": [
    {
     "data": {
      "text/plain": [
       "array([1.50e+14, 1.55e+14, 1.60e+14, 1.65e+14, 1.70e+14, 1.75e+14,\n",
       "       1.80e+14, 1.85e+14, 1.90e+14, 1.95e+14, 2.00e+14, 2.05e+14,\n",
       "       2.10e+14, 2.15e+14, 2.20e+14, 2.25e+14, 2.30e+14, 2.35e+14,\n",
       "       2.40e+14, 2.45e+14, 2.50e+14, 2.55e+14, 2.60e+14, 2.65e+14,\n",
       "       2.70e+14, 2.75e+14, 2.80e+14, 2.85e+14, 2.90e+14, 2.95e+14,\n",
       "       3.00e+14, 3.05e+14, 3.10e+14, 3.15e+14, 3.20e+14, 3.25e+14,\n",
       "       3.30e+14, 3.35e+14, 3.40e+14, 3.45e+14, 3.50e+14, 3.55e+14,\n",
       "       3.60e+14, 3.65e+14, 3.70e+14, 3.75e+14, 3.80e+14, 3.85e+14,\n",
       "       3.90e+14, 3.95e+14])"
      ]
     },
     "execution_count": 605,
     "metadata": {},
     "output_type": "execute_result"
    }
   ],
   "source": [
    "freq_grid = Disp[0,0,:]\n",
    "freq_grid"
   ]
  },
  {
   "cell_type": "code",
   "execution_count": 606,
   "metadata": {},
   "outputs": [
    {
     "data": {
      "text/plain": [
       "(5070, 50)"
      ]
     },
     "execution_count": 606,
     "metadata": {},
     "output_type": "execute_result"
    }
   ],
   "source": [
    "Dint = Disp[:,1,:]\n",
    "Dint.shape"
   ]
  },
  {
   "cell_type": "code",
   "execution_count": null,
   "metadata": {},
   "outputs": [],
   "source": []
  },
  {
   "cell_type": "code",
   "execution_count": 607,
   "metadata": {},
   "outputs": [],
   "source": [
    "X_train, X_test, y_train, y_test = train_test_split(np.array(Dint), np.array(parameters_list)*10**7*[1,1,1,1e-2,1],\n",
    "                                                  test_size=0.2,\n",
    "                                                  random_state=42)"
   ]
  },
  {
   "cell_type": "code",
   "execution_count": 608,
   "metadata": {},
   "outputs": [
    {
     "data": {
      "text/plain": [
       "(4056, 50)"
      ]
     },
     "execution_count": 608,
     "metadata": {},
     "output_type": "execute_result"
    }
   ],
   "source": [
    "X_train.shape"
   ]
  },
  {
   "cell_type": "code",
   "execution_count": 609,
   "metadata": {},
   "outputs": [
    {
     "name": "stderr",
     "output_type": "stream",
     "text": [
      "C:\\Users\\lukashch\\AppData\\Local\\Continuum\\anaconda3\\lib\\site-packages\\sklearn\\preprocessing\\data.py:675: DeprecationWarning: The parameter y on transform() is deprecated since 0.19 and will be removed in 0.21\n",
      "  DeprecationWarning)\n"
     ]
    },
    {
     "data": {
      "text/plain": [
       "array([[-0.90867512, -0.86860248, -0.82651408, ...,  0.46336936,\n",
       "         0.48335698,  0.5020384 ],\n",
       "       [ 0.55700102,  0.61819261,  0.67060301, ...,  1.28108283,\n",
       "         1.21810288,  1.16333774],\n",
       "       [ 0.40467559,  0.44131716,  0.47404122, ...,  0.89987021,\n",
       "         0.88401011,  0.86797456],\n",
       "       ...,\n",
       "       [-0.17308039, -0.19390666, -0.21365399, ..., -0.70282562,\n",
       "        -0.68739114, -0.6719052 ],\n",
       "       [ 1.44915211,  1.39588821,  1.34358009, ..., -0.26849714,\n",
       "        -0.30052332, -0.33099853],\n",
       "       [-0.39775457, -0.43636651, -0.47323738, ...,  0.30557833,\n",
       "         0.34187546,  0.37661035]])"
      ]
     },
     "execution_count": 609,
     "metadata": {},
     "output_type": "execute_result"
    }
   ],
   "source": [
    "sc = StandardScaler()\n",
    "sc.fit_transform(X_train,y_train)\n",
    "sc.transform(X_test, y_test)"
   ]
  },
  {
   "cell_type": "code",
   "execution_count": null,
   "metadata": {},
   "outputs": [],
   "source": []
  },
  {
   "cell_type": "code",
   "execution_count": 612,
   "metadata": {},
   "outputs": [],
   "source": [
    "inputs = Input(shape=(50,))\n",
    "x = BatchNormalization()(inputs)\n",
    "x = Dense(1000,activation='relu')(x)\n",
    "# x = Dense(50,activation='relu')(x)\n",
    "# x = Dropout(0.05, noise_shape=None, seed=None)(x)\n",
    "# x = Dense(22,activation='relu')(inputs)\n",
    "\n",
    "x = BatchNormalization()(x)\n",
    "x = Dense(20,activation='relu')(x)\n",
    "# x = Dropout(0.05, noise_shape=None, seed=None)(x)\n",
    "\n",
    "x = BatchNormalization()(x)\n",
    "out = Dense(5,activation='linear')(x)\n",
    "\n",
    "model = Model(inputs=inputs, outputs=out)"
   ]
  },
  {
   "cell_type": "code",
   "execution_count": 613,
   "metadata": {},
   "outputs": [],
   "source": [
    "model.compile(optimizer='Nadam',\n",
    "                loss='mean_squared_error')"
   ]
  },
  {
   "cell_type": "code",
   "execution_count": 614,
   "metadata": {
    "scrolled": true
   },
   "outputs": [
    {
     "name": "stdout",
     "output_type": "stream",
     "text": [
      "Train on 3244 samples, validate on 812 samples\n",
      "Epoch 1/80\n",
      " - 8s - loss: 66.9275 - val_loss: 50.2269\n",
      "Epoch 2/80\n",
      " - 4s - loss: 29.3780 - val_loss: 13.6793\n",
      "Epoch 3/80\n",
      " - 2s - loss: 5.8865 - val_loss: 2.2129\n",
      "Epoch 4/80\n",
      " - 2s - loss: 1.0133 - val_loss: 0.5081\n",
      "Epoch 5/80\n",
      " - 2s - loss: 0.3464 - val_loss: 0.3396\n",
      "Epoch 6/80\n",
      " - 2s - loss: 0.2843 - val_loss: 0.2748\n",
      "Epoch 7/80\n",
      " - 2s - loss: 0.2723 - val_loss: 0.2665\n",
      "Epoch 8/80\n",
      " - 2s - loss: 0.2728 - val_loss: 0.2845\n",
      "Epoch 9/80\n",
      " - 3s - loss: 0.2737 - val_loss: 0.2789\n",
      "Epoch 10/80\n",
      " - 2s - loss: 0.2688 - val_loss: 0.2694\n",
      "Epoch 11/80\n",
      " - 2s - loss: 0.2668 - val_loss: 0.2657\n",
      "Epoch 12/80\n",
      " - 2s - loss: 0.2687 - val_loss: 0.2789\n",
      "Epoch 13/80\n",
      " - 2s - loss: 0.2661 - val_loss: 0.2704\n",
      "Epoch 14/80\n",
      " - 4s - loss: 0.2631 - val_loss: 0.2806\n",
      "Epoch 15/80\n",
      " - 3s - loss: 0.2638 - val_loss: 0.2725\n",
      "Epoch 16/80\n",
      " - 4s - loss: 0.2625 - val_loss: 0.2809\n",
      "Epoch 17/80\n",
      " - 3s - loss: 0.2633 - val_loss: 0.2755\n",
      "Epoch 18/80\n",
      " - 2s - loss: 0.2619 - val_loss: 0.2604\n",
      "Epoch 19/80\n",
      " - 2s - loss: 0.2625 - val_loss: 0.2790\n",
      "Epoch 20/80\n",
      " - 2s - loss: 0.2607 - val_loss: 0.2751\n",
      "Epoch 21/80\n",
      " - 2s - loss: 0.2597 - val_loss: 0.2675\n",
      "Epoch 22/80\n",
      " - 2s - loss: 0.2603 - val_loss: 0.2631\n",
      "Epoch 23/80\n",
      " - 2s - loss: 0.2600 - val_loss: 0.2659\n",
      "Epoch 24/80\n",
      " - 2s - loss: 0.2600 - val_loss: 0.2617\n",
      "Epoch 25/80\n",
      " - 2s - loss: 0.2584 - val_loss: 0.2668\n",
      "Epoch 26/80\n",
      " - 2s - loss: 0.2576 - val_loss: 0.2606\n",
      "Epoch 27/80\n",
      " - 2s - loss: 0.2574 - val_loss: 0.2644\n",
      "Epoch 28/80\n",
      " - 2s - loss: 0.2569 - val_loss: 0.2735\n",
      "Epoch 29/80\n",
      " - 2s - loss: 0.2570 - val_loss: 0.2698\n",
      "Epoch 30/80\n",
      " - 2s - loss: 0.2568 - val_loss: 0.2829\n",
      "Epoch 31/80\n",
      " - 2s - loss: 0.2568 - val_loss: 0.2610\n",
      "Epoch 32/80\n",
      " - 2s - loss: 0.2569 - val_loss: 0.2669\n",
      "Epoch 33/80\n",
      " - 2s - loss: 0.2590 - val_loss: 0.2598\n",
      "Epoch 34/80\n",
      " - 2s - loss: 0.2558 - val_loss: 0.2589\n",
      "Epoch 35/80\n",
      " - 2s - loss: 0.2549 - val_loss: 0.2577\n",
      "Epoch 36/80\n",
      " - 2s - loss: 0.2569 - val_loss: 0.2612\n",
      "Epoch 37/80\n",
      " - 2s - loss: 0.2552 - val_loss: 0.2582\n",
      "Epoch 38/80\n",
      " - 2s - loss: 0.2564 - val_loss: 0.2630\n",
      "Epoch 39/80\n",
      " - 2s - loss: 0.2554 - val_loss: 0.2608\n",
      "Epoch 40/80\n",
      " - 2s - loss: 0.2543 - val_loss: 0.2660\n",
      "Epoch 41/80\n",
      " - 2s - loss: 0.2548 - val_loss: 0.2645\n",
      "Epoch 42/80\n",
      " - 2s - loss: 0.2548 - val_loss: 0.2551\n",
      "Epoch 43/80\n",
      " - 2s - loss: 0.2544 - val_loss: 0.2707\n",
      "Epoch 44/80\n",
      " - 2s - loss: 0.2546 - val_loss: 0.2615\n",
      "Epoch 45/80\n",
      " - 2s - loss: 0.2540 - val_loss: 0.2686\n",
      "Epoch 46/80\n",
      " - 2s - loss: 0.2543 - val_loss: 0.2697\n",
      "Epoch 47/80\n",
      " - 2s - loss: 0.2539 - val_loss: 0.2579\n",
      "Epoch 48/80\n",
      " - 2s - loss: 0.2550 - val_loss: 0.2637\n",
      "Epoch 49/80\n",
      " - 2s - loss: 0.2535 - val_loss: 0.2578\n",
      "Epoch 50/80\n",
      " - 2s - loss: 0.2532 - val_loss: 0.2626\n",
      "Epoch 51/80\n",
      " - 2s - loss: 0.2545 - val_loss: 0.2622\n",
      "Epoch 52/80\n",
      " - 2s - loss: 0.2532 - val_loss: 0.2595\n",
      "Epoch 53/80\n",
      " - 2s - loss: 0.2530 - val_loss: 0.2569\n",
      "Epoch 54/80\n",
      " - 2s - loss: 0.2528 - val_loss: 0.2609\n",
      "Epoch 55/80\n",
      " - 2s - loss: 0.2538 - val_loss: 0.2577\n",
      "Epoch 56/80\n",
      " - 2s - loss: 0.2530 - val_loss: 0.2607\n",
      "Epoch 57/80\n",
      " - 2s - loss: 0.2525 - val_loss: 0.2566\n",
      "Epoch 58/80\n",
      " - 2s - loss: 0.2538 - val_loss: 0.2600\n",
      "Epoch 59/80\n",
      " - 2s - loss: 0.2522 - val_loss: 0.2592\n",
      "Epoch 60/80\n",
      " - 2s - loss: 0.2528 - val_loss: 0.2581\n",
      "Epoch 61/80\n",
      " - 2s - loss: 0.2534 - val_loss: 0.2782\n",
      "Epoch 62/80\n",
      " - 2s - loss: 0.2525 - val_loss: 0.2615\n",
      "Epoch 63/80\n",
      " - 2s - loss: 0.2527 - val_loss: 0.2613\n",
      "Epoch 64/80\n",
      " - 2s - loss: 0.2522 - val_loss: 0.2603\n",
      "Epoch 65/80\n",
      " - 2s - loss: 0.2518 - val_loss: 0.2719\n",
      "Epoch 66/80\n",
      " - 2s - loss: 0.2524 - val_loss: 0.2605\n",
      "Epoch 67/80\n",
      " - 2s - loss: 0.2536 - val_loss: 0.2559\n",
      "Epoch 68/80\n",
      " - 2s - loss: 0.2517 - val_loss: 0.2624\n",
      "Epoch 69/80\n",
      " - 2s - loss: 0.2520 - val_loss: 0.2574\n",
      "Epoch 70/80\n",
      " - 3s - loss: 0.2502 - val_loss: 0.2631\n",
      "Epoch 71/80\n",
      " - 3s - loss: 0.2516 - val_loss: 0.2624\n",
      "Epoch 72/80\n",
      " - 2s - loss: 0.2521 - val_loss: 0.2643\n",
      "Epoch 73/80\n",
      " - 2s - loss: 0.2518 - val_loss: 0.2635\n",
      "Epoch 74/80\n",
      " - 2s - loss: 0.2511 - val_loss: 0.2545\n",
      "Epoch 75/80\n",
      " - 2s - loss: 0.2516 - val_loss: 0.2526\n",
      "Epoch 76/80\n",
      " - 2s - loss: 0.2511 - val_loss: 0.2621\n",
      "Epoch 77/80\n",
      " - 2s - loss: 0.2510 - val_loss: 0.2551\n",
      "Epoch 78/80\n",
      " - 2s - loss: 0.2518 - val_loss: 0.2571\n",
      "Epoch 79/80\n",
      " - 2s - loss: 0.2502 - val_loss: 0.2620\n",
      "Epoch 80/80\n",
      " - 2s - loss: 0.2497 - val_loss: 0.2550\n"
     ]
    }
   ],
   "source": [
    "history = model.fit(X_train, y_train,\n",
    "                               batch_size=32,\n",
    "                               epochs=80, verbose=2,\n",
    "                               validation_split=.20,\n",
    "                            )#validation_data=(X_test,y_test))"
   ]
  },
  {
   "cell_type": "code",
   "execution_count": 621,
   "metadata": {
    "scrolled": true
   },
   "outputs": [
    {
     "data": {
      "text/plain": [
       "Text(0.5,1,'Adam-opt & MSE')"
      ]
     },
     "execution_count": 621,
     "metadata": {},
     "output_type": "execute_result"
    },
    {
     "data": {
      "image/png": "[encoded data removed]",
      "text/plain": [
       "<matplotlib.figure.Figure at 0x18d0cf8f048>"
      ]
     },
     "metadata": {
      "image/png": {
       "height": 271,
       "width": 389
      }
     },
     "output_type": "display_data"
    }
   ],
   "source": [
    "plt.plot(history.history['val_loss'], label='val_loss')\n",
    "plt.plot(history.history['loss'], label='loss')\n",
    "# plt.plot(history.history['val_acc'], label='val_acc')\n",
    "# plt.plot(history.history['acc'], label='acc')\n",
    "plt.ylim([0.22, 0.35])\n",
    "plt.legend()\n",
    "plt.title('Adam-opt & MSE')"
   ]
  },
  {
   "cell_type": "code",
   "execution_count": 622,
   "metadata": {},
   "outputs": [
    {
     "name": "stdout",
     "output_type": "stream",
     "text": [
      "1014/1014 [==============================] - ETA:  - ETA:  - ETA:  - ETA:  - ETA:  - ETA:  - 0s 345us/step\n"
     ]
    },
    {
     "data": {
      "text/plain": [
       "0.25523141443846964"
      ]
     },
     "execution_count": 622,
     "metadata": {},
     "output_type": "execute_result"
    }
   ],
   "source": [
    "model.evaluate(X_test,y_test)"
   ]
  },
  {
   "cell_type": "code",
   "execution_count": 623,
   "metadata": {},
   "outputs": [
    {
     "name": "stdout",
     "output_type": "stream",
     "text": [
      "mse score  =  0.25523139403093553\n"
     ]
    }
   ],
   "source": [
    "print('mse score  = ', mse(model.predict(X_test),y_test) )"
   ]
  },
  {
   "cell_type": "code",
   "execution_count": 466,
   "metadata": {},
   "outputs": [
    {
     "data": {
      "text/plain": [
       "array([154,  54,  14,  32, 277, 383, 123, 272, 508, 551])"
      ]
     },
     "execution_count": 466,
     "metadata": {},
     "output_type": "execute_result"
    }
   ],
   "source": [
    "a= np.random.randint(1,len(y_test),10)\n",
    "a"
   ]
  },
  {
   "cell_type": "code",
   "execution_count": 468,
   "metadata": {
    "scrolled": true
   },
   "outputs": [
    {
     "data": {
      "text/plain": [
       "array([[ 3.5 , 14.5 ,  7.5 ,  2.4 ,  8.  ],\n",
       "       [ 3.  , 15.5 ,  7.6 ,  1.65,  9.6 ],\n",
       "       [ 2.5 , 15.5 ,  6.4 ,  1.55,  9.6 ],\n",
       "       [ 3.5 , 15.5 ,  8.  ,  2.2 ,  8.  ],\n",
       "       [ 3.  , 15.5 ,  7.2 ,  1.55,  8.4 ],\n",
       "       [ 3.5 , 15.5 ,  6.8 ,  1.55,  9.6 ],\n",
       "       [ 3.  , 15.5 ,  8.5 ,  1.8 , 10.  ],\n",
       "       [ 4.  , 15.  ,  6.  ,  1.75,  7.6 ],\n",
       "       [ 2.5 , 14.5 ,  7.  ,  2.4 ,  8.4 ],\n",
       "       [ 4.  , 14.5 ,  8.5 ,  1.9 , 10.  ]])"
      ]
     },
     "execution_count": 468,
     "metadata": {},
     "output_type": "execute_result"
    }
   ],
   "source": [
    "y_test[a]"
   ]
  },
  {
   "cell_type": "code",
   "execution_count": 467,
   "metadata": {},
   "outputs": [
    {
     "data": {
      "text/plain": [
       "array([[ 3.3143342, 14.9358635,  7.576552 ,  1.9447037,  8.548236 ],\n",
       "       [ 2.9594233, 14.9880295,  7.8288393,  1.9011168,  9.482163 ],\n",
       "       [ 3.1460183, 15.228081 ,  7.058155 ,  1.9260627,  9.692702 ],\n",
       "       [ 3.4182646, 15.498358 ,  7.0852118,  1.9343007,  8.853269 ],\n",
       "       [ 3.3239105, 15.008889 ,  7.32713  ,  1.9090928,  8.689564 ],\n",
       "       [ 3.0878284, 15.083664 ,  7.5174565,  1.9432529,  9.540515 ],\n",
       "       [ 3.3618717, 15.127085 ,  8.252455 ,  1.8655368,  9.490334 ],\n",
       "       [ 3.4425998, 15.472049 ,  7.1377964,  1.9095007,  8.77194  ],\n",
       "       [ 3.243337 , 15.221086 ,  7.312777 ,  2.0029273,  8.727796 ],\n",
       "       [ 2.924205 , 14.94679  ,  8.190481 ,  1.8111858,  9.131056 ]],\n",
       "      dtype=float32)"
      ]
     },
     "execution_count": 467,
     "metadata": {},
     "output_type": "execute_result"
    }
   ],
   "source": [
    "model.predict(X_test)[a]"
   ]
  },
  {
   "cell_type": "code",
   "execution_count": 412,
   "metadata": {},
   "outputs": [
    {
     "data": {
      "text/plain": [
       "array([-0.22842622, -0.24478626, -0.17896032, -5.30073547, -0.02171631])"
      ]
     },
     "execution_count": 412,
     "metadata": {},
     "output_type": "execute_result"
    }
   ],
   "source": [
    "model.predict(X_test)[0]-y_test[0]"
   ]
  },
  {
   "cell_type": "code",
   "execution_count": 597,
   "metadata": {},
   "outputs": [
    {
     "data": {
      "image/png": "[encoded data removed]",
      "text/plain": [
       "<IPython.core.display.Image object>"
      ]
     },
     "execution_count": 597,
     "metadata": {},
     "output_type": "execute_result"
    }
   ],
   "source": [
    "plot_model(model, to_file='basic-net.png')\n",
    "\n",
    "Image(filename=\"basic-net.png\")"
   ]
  },
  {
   "cell_type": "code",
   "execution_count": null,
   "metadata": {},
   "outputs": [],
   "source": []
  },
  {
   "cell_type": "code",
   "execution_count": null,
   "metadata": {},
   "outputs": [],
   "source": []
  },
  {
   "cell_type": "code",
   "execution_count": 615,
   "metadata": {},
   "outputs": [],
   "source": [
    "X_train_im, X_test_im, y_train_im, y_test_im = train_test_split(img, \n",
    "                                                np.array(parameters_list)*10**7*[1,1,1,1e-2,1],\n",
    "                                                test_size=0.2,\n",
    "                                                random_state=42)"
   ]
  },
  {
   "cell_type": "code",
   "execution_count": 616,
   "metadata": {},
   "outputs": [],
   "source": [
    "X_train_im = X_train_im.reshape(X_train.shape[0], 62, 111, 1).astype(np.float64)\n",
    "X_test_im = X_test_im.reshape(X_test.shape[0], 62, 111, 1).astype(np.float64)"
   ]
  },
  {
   "cell_type": "code",
   "execution_count": 617,
   "metadata": {},
   "outputs": [
    {
     "data": {
      "text/plain": [
       "(4056, 62, 111, 1)"
      ]
     },
     "execution_count": 617,
     "metadata": {},
     "output_type": "execute_result"
    }
   ],
   "source": [
    "X_train_im.shape"
   ]
  },
  {
   "cell_type": "code",
   "execution_count": 629,
   "metadata": {},
   "outputs": [],
   "source": [
    "input_image = Input(shape=(62, 111, 1))\n",
    "x = Conv2D(32, 4, strides=1, activation='relu')(input_image)\n",
    "x = MaxPool2D(2, strides=2)(x)\n",
    "x = Conv2D(64, 2, strides=1, activation='relu')(x)\n",
    "x = MaxPool2D(2, strides=2)(x)\n",
    "\n",
    "x = Flatten()(x)\n",
    "\n",
    "x = Dense(100, activation='relu')(x)\n",
    "x = Dense(5, activation='linear')(x)\n",
    "convnet = Model(inputs=input_image, outputs=x)"
   ]
  },
  {
   "cell_type": "code",
   "execution_count": 631,
   "metadata": {},
   "outputs": [],
   "source": [
    "convnet.compile(optimizer='adam',\n",
    "                loss='mean_squared_error'\n",
    "                )"
   ]
  },
  {
   "cell_type": "code",
   "execution_count": 632,
   "metadata": {
    "scrolled": true
   },
   "outputs": [
    {
     "name": "stdout",
     "output_type": "stream",
     "text": [
      "Train on 3244 samples, validate on 812 samples\n",
      "Epoch 1/80\n",
      " - 45s - loss: 138.0183 - val_loss: 0.5525\n",
      "Epoch 2/80\n",
      " - 42s - loss: 0.4493 - val_loss: 0.3825\n",
      "Epoch 3/80\n",
      " - 46s - loss: 0.3519 - val_loss: 0.3593\n",
      "Epoch 4/80\n",
      " - 41s - loss: 0.3422 - val_loss: 0.4006\n",
      "Epoch 5/80\n",
      " - 41s - loss: 0.3545 - val_loss: 0.3683\n",
      "Epoch 6/80\n",
      " - 42s - loss: 0.3132 - val_loss: 0.3349\n",
      "Epoch 7/80\n",
      " - 39s - loss: 0.3147 - val_loss: 0.3391\n",
      "Epoch 8/80\n",
      " - 45s - loss: 0.3131 - val_loss: 0.3598\n",
      "Epoch 9/80\n",
      " - 43s - loss: 0.3156 - val_loss: 0.3448\n",
      "Epoch 10/80\n",
      " - 41s - loss: 0.3123 - val_loss: 0.3618\n",
      "Epoch 11/80\n",
      " - 43s - loss: 0.3103 - val_loss: 0.3483\n",
      "Epoch 12/80\n",
      " - 42s - loss: 0.3082 - val_loss: 0.3591\n",
      "Epoch 13/80\n",
      " - 43s - loss: 0.3094 - val_loss: 0.3627\n",
      "Epoch 14/80\n",
      " - 42s - loss: 0.3152 - val_loss: 0.3497\n",
      "Epoch 15/80\n",
      " - 37s - loss: 0.3787 - val_loss: 0.3626\n",
      "Epoch 16/80\n",
      " - 37s - loss: 0.3329 - val_loss: 0.3609\n",
      "Epoch 17/80\n",
      " - 38s - loss: 0.2990 - val_loss: 0.3306\n",
      "Epoch 18/80\n",
      " - 38s - loss: 0.2919 - val_loss: 0.3342\n",
      "Epoch 19/80\n",
      " - 37s - loss: 0.2715 - val_loss: 0.3950\n",
      "Epoch 20/80\n",
      " - 38s - loss: 0.2834 - val_loss: 0.3443\n",
      "Epoch 21/80\n",
      " - 38s - loss: 0.2796 - val_loss: 0.3500\n",
      "Epoch 22/80\n",
      " - 37s - loss: 0.2733 - val_loss: 0.3329\n",
      "Epoch 23/80\n",
      " - 37s - loss: 0.2631 - val_loss: 0.3369\n",
      "Epoch 24/80\n",
      " - 38s - loss: 0.2644 - val_loss: 0.3518\n",
      "Epoch 25/80\n",
      " - 43s - loss: 0.2709 - val_loss: 0.4156\n",
      "Epoch 26/80\n",
      " - 42s - loss: 0.2879 - val_loss: 0.3500\n",
      "Epoch 27/80\n",
      " - 40s - loss: 0.2835 - val_loss: 0.3823\n",
      "Epoch 28/80\n",
      " - 50s - loss: 0.2748 - val_loss: 0.3595\n",
      "Epoch 29/80\n",
      " - 60s - loss: 0.2661 - val_loss: 0.3398\n",
      "Epoch 30/80\n",
      " - 52s - loss: 0.2691 - val_loss: 0.3419\n",
      "Epoch 31/80\n",
      " - 52s - loss: 0.2774 - val_loss: 0.3489\n",
      "Epoch 32/80\n",
      " - 46s - loss: 0.2679 - val_loss: 0.3331\n",
      "Epoch 33/80\n",
      " - 57s - loss: 0.2615 - val_loss: 0.3637\n",
      "Epoch 34/80\n",
      " - 46s - loss: 0.2597 - val_loss: 0.3451\n",
      "Epoch 35/80\n",
      " - 43s - loss: 0.2663 - val_loss: 0.3429\n",
      "Epoch 36/80\n",
      " - 40s - loss: 0.2792 - val_loss: 0.3580\n",
      "Epoch 37/80\n",
      " - 43s - loss: 0.2632 - val_loss: 0.3476\n",
      "Epoch 38/80\n",
      " - 44s - loss: 0.2624 - val_loss: 0.3569\n",
      "Epoch 39/80\n",
      " - 45s - loss: 0.2583 - val_loss: 0.3418\n",
      "Epoch 40/80\n",
      " - 41s - loss: 0.2685 - val_loss: 0.3566\n",
      "Epoch 41/80\n"
     ]
    },
    {
     "ename": "KeyboardInterrupt",
     "evalue": "",
     "output_type": "error",
     "traceback": [
      "\u001b[1;31m---------------------------------------------------------------------------\u001b[0m",
      "\u001b[1;31mKeyboardInterrupt\u001b[0m                         Traceback (most recent call last)",
      "\u001b[1;32m<ipython-input-632-c9921b32d554>\u001b[0m in \u001b[0;36m<module>\u001b[1;34m()\u001b[0m\n\u001b[0;32m      3\u001b[0m                                \u001b[0mbatch_size\u001b[0m\u001b[1;33m=\u001b[0m\u001b[1;36m32\u001b[0m\u001b[1;33m,\u001b[0m\u001b[1;33m\u001b[0m\u001b[0m\n\u001b[0;32m      4\u001b[0m                                \u001b[0mepochs\u001b[0m\u001b[1;33m=\u001b[0m\u001b[1;36m80\u001b[0m\u001b[1;33m,\u001b[0m \u001b[0mverbose\u001b[0m\u001b[1;33m=\u001b[0m\u001b[1;36m2\u001b[0m\u001b[1;33m,\u001b[0m\u001b[1;33m\u001b[0m\u001b[0m\n\u001b[1;32m----> 5\u001b[1;33m                                validation_split=.2)\n\u001b[0m",
      "\u001b[1;32m~\\AppData\\Local\\Continuum\\anaconda3\\lib\\site-packages\\keras\\engine\\training.py\u001b[0m in \u001b[0;36mfit\u001b[1;34m(self, x, y, batch_size, epochs, verbose, callbacks, validation_split, validation_data, shuffle, class_weight, sample_weight, initial_epoch, steps_per_epoch, validation_steps, **kwargs)\u001b[0m\n\u001b[0;32m   1703\u001b[0m                               \u001b[0minitial_epoch\u001b[0m\u001b[1;33m=\u001b[0m\u001b[0minitial_epoch\u001b[0m\u001b[1;33m,\u001b[0m\u001b[1;33m\u001b[0m\u001b[0m\n\u001b[0;32m   1704\u001b[0m                               \u001b[0msteps_per_epoch\u001b[0m\u001b[1;33m=\u001b[0m\u001b[0msteps_per_epoch\u001b[0m\u001b[1;33m,\u001b[0m\u001b[1;33m\u001b[0m\u001b[0m\n\u001b[1;32m-> 1705\u001b[1;33m                               validation_steps=validation_steps)\n\u001b[0m\u001b[0;32m   1706\u001b[0m \u001b[1;33m\u001b[0m\u001b[0m\n\u001b[0;32m   1707\u001b[0m     def evaluate(self, x=None, y=None,\n",
      "\u001b[1;32m~\\AppData\\Local\\Continuum\\anaconda3\\lib\\site-packages\\keras\\engine\\training.py\u001b[0m in \u001b[0;36m_fit_loop\u001b[1;34m(self, f, ins, out_labels, batch_size, epochs, verbose, callbacks, val_f, val_ins, shuffle, callback_metrics, initial_epoch, steps_per_epoch, validation_steps)\u001b[0m\n\u001b[0;32m   1233\u001b[0m                         \u001b[0mins_batch\u001b[0m\u001b[1;33m[\u001b[0m\u001b[0mi\u001b[0m\u001b[1;33m]\u001b[0m \u001b[1;33m=\u001b[0m \u001b[0mins_batch\u001b[0m\u001b[1;33m[\u001b[0m\u001b[0mi\u001b[0m\u001b[1;33m]\u001b[0m\u001b[1;33m.\u001b[0m\u001b[0mtoarray\u001b[0m\u001b[1;33m(\u001b[0m\u001b[1;33m)\u001b[0m\u001b[1;33m\u001b[0m\u001b[0m\n\u001b[0;32m   1234\u001b[0m \u001b[1;33m\u001b[0m\u001b[0m\n\u001b[1;32m-> 1235\u001b[1;33m                     \u001b[0mouts\u001b[0m \u001b[1;33m=\u001b[0m \u001b[0mf\u001b[0m\u001b[1;33m(\u001b[0m\u001b[0mins_batch\u001b[0m\u001b[1;33m)\u001b[0m\u001b[1;33m\u001b[0m\u001b[0m\n\u001b[0m\u001b[0;32m   1236\u001b[0m                     \u001b[1;32mif\u001b[0m \u001b[1;32mnot\u001b[0m \u001b[0misinstance\u001b[0m\u001b[1;33m(\u001b[0m\u001b[0mouts\u001b[0m\u001b[1;33m,\u001b[0m \u001b[0mlist\u001b[0m\u001b[1;33m)\u001b[0m\u001b[1;33m:\u001b[0m\u001b[1;33m\u001b[0m\u001b[0m\n\u001b[0;32m   1237\u001b[0m                         \u001b[0mouts\u001b[0m \u001b[1;33m=\u001b[0m \u001b[1;33m[\u001b[0m\u001b[0mouts\u001b[0m\u001b[1;33m]\u001b[0m\u001b[1;33m\u001b[0m\u001b[0m\n",
      "\u001b[1;32m~\\AppData\\Local\\Continuum\\anaconda3\\lib\\site-packages\\keras\\backend\\tensorflow_backend.py\u001b[0m in \u001b[0;36m__call__\u001b[1;34m(self, inputs)\u001b[0m\n\u001b[0;32m   2476\u001b[0m         \u001b[0msession\u001b[0m \u001b[1;33m=\u001b[0m \u001b[0mget_session\u001b[0m\u001b[1;33m(\u001b[0m\u001b[1;33m)\u001b[0m\u001b[1;33m\u001b[0m\u001b[0m\n\u001b[0;32m   2477\u001b[0m         updated = session.run(fetches=fetches, feed_dict=feed_dict,\n\u001b[1;32m-> 2478\u001b[1;33m                               **self.session_kwargs)\n\u001b[0m\u001b[0;32m   2479\u001b[0m         \u001b[1;32mreturn\u001b[0m \u001b[0mupdated\u001b[0m\u001b[1;33m[\u001b[0m\u001b[1;33m:\u001b[0m\u001b[0mlen\u001b[0m\u001b[1;33m(\u001b[0m\u001b[0mself\u001b[0m\u001b[1;33m.\u001b[0m\u001b[0moutputs\u001b[0m\u001b[1;33m)\u001b[0m\u001b[1;33m]\u001b[0m\u001b[1;33m\u001b[0m\u001b[0m\n\u001b[0;32m   2480\u001b[0m \u001b[1;33m\u001b[0m\u001b[0m\n",
      "\u001b[1;32m~\\AppData\\Local\\Continuum\\anaconda3\\lib\\site-packages\\tensorflow\\python\\client\\session.py\u001b[0m in \u001b[0;36mrun\u001b[1;34m(self, fetches, feed_dict, options, run_metadata)\u001b[0m\n\u001b[0;32m    903\u001b[0m     \u001b[1;32mtry\u001b[0m\u001b[1;33m:\u001b[0m\u001b[1;33m\u001b[0m\u001b[0m\n\u001b[0;32m    904\u001b[0m       result = self._run(None, fetches, feed_dict, options_ptr,\n\u001b[1;32m--> 905\u001b[1;33m                          run_metadata_ptr)\n\u001b[0m\u001b[0;32m    906\u001b[0m       \u001b[1;32mif\u001b[0m \u001b[0mrun_metadata\u001b[0m\u001b[1;33m:\u001b[0m\u001b[1;33m\u001b[0m\u001b[0m\n\u001b[0;32m    907\u001b[0m         \u001b[0mproto_data\u001b[0m \u001b[1;33m=\u001b[0m \u001b[0mtf_session\u001b[0m\u001b[1;33m.\u001b[0m\u001b[0mTF_GetBuffer\u001b[0m\u001b[1;33m(\u001b[0m\u001b[0mrun_metadata_ptr\u001b[0m\u001b[1;33m)\u001b[0m\u001b[1;33m\u001b[0m\u001b[0m\n",
      "\u001b[1;32m~\\AppData\\Local\\Continuum\\anaconda3\\lib\\site-packages\\tensorflow\\python\\client\\session.py\u001b[0m in \u001b[0;36m_run\u001b[1;34m(self, handle, fetches, feed_dict, options, run_metadata)\u001b[0m\n\u001b[0;32m   1138\u001b[0m     \u001b[1;32mif\u001b[0m \u001b[0mfinal_fetches\u001b[0m \u001b[1;32mor\u001b[0m \u001b[0mfinal_targets\u001b[0m \u001b[1;32mor\u001b[0m \u001b[1;33m(\u001b[0m\u001b[0mhandle\u001b[0m \u001b[1;32mand\u001b[0m \u001b[0mfeed_dict_tensor\u001b[0m\u001b[1;33m)\u001b[0m\u001b[1;33m:\u001b[0m\u001b[1;33m\u001b[0m\u001b[0m\n\u001b[0;32m   1139\u001b[0m       results = self._do_run(handle, final_targets, final_fetches,\n\u001b[1;32m-> 1140\u001b[1;33m                              feed_dict_tensor, options, run_metadata)\n\u001b[0m\u001b[0;32m   1141\u001b[0m     \u001b[1;32melse\u001b[0m\u001b[1;33m:\u001b[0m\u001b[1;33m\u001b[0m\u001b[0m\n\u001b[0;32m   1142\u001b[0m       \u001b[0mresults\u001b[0m \u001b[1;33m=\u001b[0m \u001b[1;33m[\u001b[0m\u001b[1;33m]\u001b[0m\u001b[1;33m\u001b[0m\u001b[0m\n",
      "\u001b[1;32m~\\AppData\\Local\\Continuum\\anaconda3\\lib\\site-packages\\tensorflow\\python\\client\\session.py\u001b[0m in \u001b[0;36m_do_run\u001b[1;34m(self, handle, target_list, fetch_list, feed_dict, options, run_metadata)\u001b[0m\n\u001b[0;32m   1319\u001b[0m     \u001b[1;32mif\u001b[0m \u001b[0mhandle\u001b[0m \u001b[1;32mis\u001b[0m \u001b[1;32mNone\u001b[0m\u001b[1;33m:\u001b[0m\u001b[1;33m\u001b[0m\u001b[0m\n\u001b[0;32m   1320\u001b[0m       return self._do_call(_run_fn, feeds, fetches, targets, options,\n\u001b[1;32m-> 1321\u001b[1;33m                            run_metadata)\n\u001b[0m\u001b[0;32m   1322\u001b[0m     \u001b[1;32melse\u001b[0m\u001b[1;33m:\u001b[0m\u001b[1;33m\u001b[0m\u001b[0m\n\u001b[0;32m   1323\u001b[0m       \u001b[1;32mreturn\u001b[0m \u001b[0mself\u001b[0m\u001b[1;33m.\u001b[0m\u001b[0m_do_call\u001b[0m\u001b[1;33m(\u001b[0m\u001b[0m_prun_fn\u001b[0m\u001b[1;33m,\u001b[0m \u001b[0mhandle\u001b[0m\u001b[1;33m,\u001b[0m \u001b[0mfeeds\u001b[0m\u001b[1;33m,\u001b[0m \u001b[0mfetches\u001b[0m\u001b[1;33m)\u001b[0m\u001b[1;33m\u001b[0m\u001b[0m\n",
      "\u001b[1;32m~\\AppData\\Local\\Continuum\\anaconda3\\lib\\site-packages\\tensorflow\\python\\client\\session.py\u001b[0m in \u001b[0;36m_do_call\u001b[1;34m(self, fn, *args)\u001b[0m\n\u001b[0;32m   1325\u001b[0m   \u001b[1;32mdef\u001b[0m \u001b[0m_do_call\u001b[0m\u001b[1;33m(\u001b[0m\u001b[0mself\u001b[0m\u001b[1;33m,\u001b[0m \u001b[0mfn\u001b[0m\u001b[1;33m,\u001b[0m \u001b[1;33m*\u001b[0m\u001b[0margs\u001b[0m\u001b[1;33m)\u001b[0m\u001b[1;33m:\u001b[0m\u001b[1;33m\u001b[0m\u001b[0m\n\u001b[0;32m   1326\u001b[0m     \u001b[1;32mtry\u001b[0m\u001b[1;33m:\u001b[0m\u001b[1;33m\u001b[0m\u001b[0m\n\u001b[1;32m-> 1327\u001b[1;33m       \u001b[1;32mreturn\u001b[0m \u001b[0mfn\u001b[0m\u001b[1;33m(\u001b[0m\u001b[1;33m*\u001b[0m\u001b[0margs\u001b[0m\u001b[1;33m)\u001b[0m\u001b[1;33m\u001b[0m\u001b[0m\n\u001b[0m\u001b[0;32m   1328\u001b[0m     \u001b[1;32mexcept\u001b[0m \u001b[0merrors\u001b[0m\u001b[1;33m.\u001b[0m\u001b[0mOpError\u001b[0m \u001b[1;32mas\u001b[0m \u001b[0me\u001b[0m\u001b[1;33m:\u001b[0m\u001b[1;33m\u001b[0m\u001b[0m\n\u001b[0;32m   1329\u001b[0m       \u001b[0mmessage\u001b[0m \u001b[1;33m=\u001b[0m \u001b[0mcompat\u001b[0m\u001b[1;33m.\u001b[0m\u001b[0mas_text\u001b[0m\u001b[1;33m(\u001b[0m\u001b[0me\u001b[0m\u001b[1;33m.\u001b[0m\u001b[0mmessage\u001b[0m\u001b[1;33m)\u001b[0m\u001b[1;33m\u001b[0m\u001b[0m\n",
      "\u001b[1;32m~\\AppData\\Local\\Continuum\\anaconda3\\lib\\site-packages\\tensorflow\\python\\client\\session.py\u001b[0m in \u001b[0;36m_run_fn\u001b[1;34m(feed_dict, fetch_list, target_list, options, run_metadata)\u001b[0m\n\u001b[0;32m   1310\u001b[0m       \u001b[0mself\u001b[0m\u001b[1;33m.\u001b[0m\u001b[0m_extend_graph\u001b[0m\u001b[1;33m(\u001b[0m\u001b[1;33m)\u001b[0m\u001b[1;33m\u001b[0m\u001b[0m\n\u001b[0;32m   1311\u001b[0m       return self._call_tf_sessionrun(\n\u001b[1;32m-> 1312\u001b[1;33m           options, feed_dict, fetch_list, target_list, run_metadata)\n\u001b[0m\u001b[0;32m   1313\u001b[0m \u001b[1;33m\u001b[0m\u001b[0m\n\u001b[0;32m   1314\u001b[0m     \u001b[1;32mdef\u001b[0m \u001b[0m_prun_fn\u001b[0m\u001b[1;33m(\u001b[0m\u001b[0mhandle\u001b[0m\u001b[1;33m,\u001b[0m \u001b[0mfeed_dict\u001b[0m\u001b[1;33m,\u001b[0m \u001b[0mfetch_list\u001b[0m\u001b[1;33m)\u001b[0m\u001b[1;33m:\u001b[0m\u001b[1;33m\u001b[0m\u001b[0m\n",
      "\u001b[1;32m~\\AppData\\Local\\Continuum\\anaconda3\\lib\\site-packages\\tensorflow\\python\\client\\session.py\u001b[0m in \u001b[0;36m_call_tf_sessionrun\u001b[1;34m(self, options, feed_dict, fetch_list, target_list, run_metadata)\u001b[0m\n\u001b[0;32m   1418\u001b[0m         return tf_session.TF_Run(\n\u001b[0;32m   1419\u001b[0m             \u001b[0mself\u001b[0m\u001b[1;33m.\u001b[0m\u001b[0m_session\u001b[0m\u001b[1;33m,\u001b[0m \u001b[0moptions\u001b[0m\u001b[1;33m,\u001b[0m \u001b[0mfeed_dict\u001b[0m\u001b[1;33m,\u001b[0m \u001b[0mfetch_list\u001b[0m\u001b[1;33m,\u001b[0m \u001b[0mtarget_list\u001b[0m\u001b[1;33m,\u001b[0m\u001b[1;33m\u001b[0m\u001b[0m\n\u001b[1;32m-> 1420\u001b[1;33m             status, run_metadata)\n\u001b[0m\u001b[0;32m   1421\u001b[0m \u001b[1;33m\u001b[0m\u001b[0m\n\u001b[0;32m   1422\u001b[0m   \u001b[1;32mdef\u001b[0m \u001b[0m_call_tf_sessionprun\u001b[0m\u001b[1;33m(\u001b[0m\u001b[0mself\u001b[0m\u001b[1;33m,\u001b[0m \u001b[0mhandle\u001b[0m\u001b[1;33m,\u001b[0m \u001b[0mfeed_dict\u001b[0m\u001b[1;33m,\u001b[0m \u001b[0mfetch_list\u001b[0m\u001b[1;33m)\u001b[0m\u001b[1;33m:\u001b[0m\u001b[1;33m\u001b[0m\u001b[0m\n",
      "\u001b[1;31mKeyboardInterrupt\u001b[0m: "
     ]
    }
   ],
   "source": [
    "\n",
    "history_callback = convnet.fit(X_train_im, y_train_im,\n",
    "                               batch_size=32,\n",
    "                               epochs=80, verbose=2,\n",
    "                               validation_split=.2)"
   ]
  },
  {
   "cell_type": "code",
   "execution_count": 628,
   "metadata": {},
   "outputs": [
    {
     "data": {
      "text/plain": [
       "Text(0.5,1,'Adam-opt & MSE')"
      ]
     },
     "execution_count": 628,
     "metadata": {},
     "output_type": "execute_result"
    },
    {
     "data": {
      "image/png": "[encoded data removed]",
      "text/plain": [
       "<matplotlib.figure.Figure at 0x18d0d0cde80>"
      ]
     },
     "metadata": {
      "image/png": {
       "height": 271,
       "width": 380
      }
     },
     "output_type": "display_data"
    }
   ],
   "source": [
    "plt.plot(history_callback.history['val_loss'], label='val_loss')\n",
    "plt.plot(history_callback.history['loss'], label='loss')\n",
    "# plt.plot(history.history['val_acc'], label='val_acc')\n",
    "# plt.plot(history.history['acc'], label='acc')\n",
    "plt.ylim([0.22, 0.79])\n",
    "plt.legend()\n",
    "plt.title('Adam-opt & MSE')"
   ]
  },
  {
   "cell_type": "code",
   "execution_count": 625,
   "metadata": {},
   "outputs": [
    {
     "name": "stdout",
     "output_type": "stream",
     "text": [
      "1014/1014 [==============================] - ETA:  - ETA:  - ETA:  - ETA:  - ETA:  - ETA:  - ETA:  - ETA:  - ETA:  - ETA:  - ETA:  - ETA:  - ETA:  - ETA:  - ETA:  - ETA:  - ETA:  - 1s 1ms/step\n"
     ]
    },
    {
     "data": {
      "text/plain": [
       "0.30836221170143263"
      ]
     },
     "execution_count": 625,
     "metadata": {},
     "output_type": "execute_result"
    }
   ],
   "source": [
    "convnet.evaluate(X_test_im,y_test_im)"
   ]
  },
  {
   "cell_type": "code",
   "execution_count": 626,
   "metadata": {},
   "outputs": [
    {
     "name": "stdout",
     "output_type": "stream",
     "text": [
      "mse score  =  0.30836219374642665\n"
     ]
    }
   ],
   "source": [
    "print('mse score  = ', mse(convnet.predict(X_test_im),y_test_im) )"
   ]
  },
  {
   "cell_type": "code",
   "execution_count": 598,
   "metadata": {},
   "outputs": [
    {
     "data": {
      "image/png": "[encoded data removed]",
      "text/plain": [
       "<IPython.core.display.Image object>"
      ]
     },
     "execution_count": 598,
     "metadata": {},
     "output_type": "execute_result"
    }
   ],
   "source": [
    "plot_model(convnet, to_file='conv-net.png')\n",
    "\n",
    "Image(filename=\"conv-net.png\")"
   ]
  },
  {
   "cell_type": "code",
   "execution_count": null,
   "metadata": {},
   "outputs": [],
   "source": []
  },
  {
   "cell_type": "code",
   "execution_count": null,
   "metadata": {},
   "outputs": [],
   "source": []
  },
  {
   "cell_type": "markdown",
   "metadata": {},
   "source": [
    "## Let's try to combine both types of NN. One with vector input and convolutional with image input."
   ]
  },
  {
   "cell_type": "code",
   "execution_count": 634,
   "metadata": {},
   "outputs": [],
   "source": [
    "from keras.layers.merge import concatenate"
   ]
  },
  {
   "cell_type": "code",
   "execution_count": 636,
   "metadata": {},
   "outputs": [],
   "source": [
    "inputs1 = Input(shape=(50,))\n",
    "x = BatchNormalization()(inputs1)\n",
    "x = Dense(500,activation='relu')(x)\n",
    "# x = Dense(50,activation='relu')(x)\n",
    "# x = Dropout(0.05, noise_shape=None, seed=None)(x)\n",
    "# x = Dense(22,activation='relu')(inputs)\n",
    "\n",
    "x = BatchNormalization()(x)\n",
    "x = Dense(20,activation='relu')(x)\n",
    "# x = Dropout(0.05, noise_shape=None, seed=None)(x)\n",
    "\n",
    "x = BatchNormalization()(x)\n",
    "out1 = Dense(5,activation='linear')(x)\n",
    "\n",
    "inputs2 = Input(shape=(62, 111, 1))\n",
    "x = Conv2D(32, 4, strides=2, activation='relu')(inputs2)\n",
    "x = MaxPool2D(2, strides=2)(x)\n",
    "x = Conv2D(64, 2, strides=1, activation='relu')(x)\n",
    "x = MaxPool2D(2, strides=2)(x)\n",
    "\n",
    "out2 = Flatten()(x)\n",
    "\n",
    "# merge input models\n",
    "merge = concatenate([out1, out2])\n",
    "# interpretation model\n",
    "x = Dense(10, activation='relu')(merge)\n",
    "x = Dense(10, activation='relu')(x)\n",
    "output = Dense(5, activation='linear')(x)\n",
    "combined = Model(inputs=[inputs1, inputs2], outputs=output)"
   ]
  },
  {
   "cell_type": "code",
   "execution_count": null,
   "metadata": {},
   "outputs": [],
   "source": []
  },
  {
   "cell_type": "code",
   "execution_count": 669,
   "metadata": {},
   "outputs": [],
   "source": [
    "combined.compile(optimizer='adam',\n",
    "                loss='mean_squared_error'\n",
    "                )"
   ]
  },
  {
   "cell_type": "code",
   "execution_count": 680,
   "metadata": {
    "scrolled": true
   },
   "outputs": [
    {
     "ename": "ValueError",
     "evalue": "Error when checking model input: the list of Numpy arrays that you are passing to your model is not the size the model expected. Expected to see 2 array(s), but instead got the following list of 1 arrays: [array([[array([-2.16766121e+12, -1.81288407e+12, -1.49843944e+12, -1.22281169e+12,\n       -9.84475739e+11, -7.81816721e+11, -6.12858344e+11, -4.74534979e+11,\n       -3.63058879e+11, -2.74448104e+11, ...",
     "output_type": "error",
     "traceback": [
      "\u001b[1;31m---------------------------------------------------------------------------\u001b[0m",
      "\u001b[1;31mValueError\u001b[0m                                Traceback (most recent call last)",
      "\u001b[1;32m<ipython-input-680-a61816981354>\u001b[0m in \u001b[0;36m<module>\u001b[1;34m()\u001b[0m\n\u001b[0;32m      2\u001b[0m                                \u001b[0mbatch_size\u001b[0m\u001b[1;33m=\u001b[0m\u001b[1;36m32\u001b[0m\u001b[1;33m,\u001b[0m\u001b[1;33m\u001b[0m\u001b[0m\n\u001b[0;32m      3\u001b[0m                                \u001b[0mepochs\u001b[0m\u001b[1;33m=\u001b[0m\u001b[1;36m2\u001b[0m\u001b[1;33m,\u001b[0m \u001b[0mverbose\u001b[0m\u001b[1;33m=\u001b[0m\u001b[1;36m2\u001b[0m\u001b[1;33m,\u001b[0m\u001b[1;33m\u001b[0m\u001b[0m\n\u001b[1;32m----> 4\u001b[1;33m                                validation_data=(np.array(X_test_double), y_test_im))\n\u001b[0m",
      "\u001b[1;32m~\\AppData\\Local\\Continuum\\anaconda3\\lib\\site-packages\\keras\\engine\\training.py\u001b[0m in \u001b[0;36mfit\u001b[1;34m(self, x, y, batch_size, epochs, verbose, callbacks, validation_split, validation_data, shuffle, class_weight, sample_weight, initial_epoch, steps_per_epoch, validation_steps, **kwargs)\u001b[0m\n\u001b[0;32m   1648\u001b[0m                 \u001b[0mval_x\u001b[0m\u001b[1;33m,\u001b[0m \u001b[0mval_y\u001b[0m\u001b[1;33m,\u001b[0m\u001b[1;33m\u001b[0m\u001b[0m\n\u001b[0;32m   1649\u001b[0m                 \u001b[0msample_weight\u001b[0m\u001b[1;33m=\u001b[0m\u001b[0mval_sample_weight\u001b[0m\u001b[1;33m,\u001b[0m\u001b[1;33m\u001b[0m\u001b[0m\n\u001b[1;32m-> 1650\u001b[1;33m                 batch_size=batch_size)\n\u001b[0m\u001b[0;32m   1651\u001b[0m             \u001b[1;32mif\u001b[0m \u001b[0mself\u001b[0m\u001b[1;33m.\u001b[0m\u001b[0muses_learning_phase\u001b[0m \u001b[1;32mand\u001b[0m \u001b[1;32mnot\u001b[0m \u001b[0misinstance\u001b[0m\u001b[1;33m(\u001b[0m\u001b[0mK\u001b[0m\u001b[1;33m.\u001b[0m\u001b[0mlearning_phase\u001b[0m\u001b[1;33m(\u001b[0m\u001b[1;33m)\u001b[0m\u001b[1;33m,\u001b[0m \u001b[0mint\u001b[0m\u001b[1;33m)\u001b[0m\u001b[1;33m:\u001b[0m\u001b[1;33m\u001b[0m\u001b[0m\n\u001b[0;32m   1652\u001b[0m                 \u001b[0mval_ins\u001b[0m \u001b[1;33m=\u001b[0m \u001b[0mval_x\u001b[0m \u001b[1;33m+\u001b[0m \u001b[0mval_y\u001b[0m \u001b[1;33m+\u001b[0m \u001b[0mval_sample_weights\u001b[0m \u001b[1;33m+\u001b[0m \u001b[1;33m[\u001b[0m\u001b[1;36m0.\u001b[0m\u001b[1;33m]\u001b[0m\u001b[1;33m\u001b[0m\u001b[0m\n",
      "\u001b[1;32m~\\AppData\\Local\\Continuum\\anaconda3\\lib\\site-packages\\keras\\engine\\training.py\u001b[0m in \u001b[0;36m_standardize_user_data\u001b[1;34m(self, x, y, sample_weight, class_weight, check_array_lengths, batch_size)\u001b[0m\n\u001b[0;32m   1474\u001b[0m                                     \u001b[0mself\u001b[0m\u001b[1;33m.\u001b[0m\u001b[0m_feed_input_shapes\u001b[0m\u001b[1;33m,\u001b[0m\u001b[1;33m\u001b[0m\u001b[0m\n\u001b[0;32m   1475\u001b[0m                                     \u001b[0mcheck_batch_axis\u001b[0m\u001b[1;33m=\u001b[0m\u001b[1;32mFalse\u001b[0m\u001b[1;33m,\u001b[0m\u001b[1;33m\u001b[0m\u001b[0m\n\u001b[1;32m-> 1476\u001b[1;33m                                     exception_prefix='input')\n\u001b[0m\u001b[0;32m   1477\u001b[0m         y = _standardize_input_data(y, self._feed_output_names,\n\u001b[0;32m   1478\u001b[0m                                     \u001b[0moutput_shapes\u001b[0m\u001b[1;33m,\u001b[0m\u001b[1;33m\u001b[0m\u001b[0m\n",
      "\u001b[1;32m~\\AppData\\Local\\Continuum\\anaconda3\\lib\\site-packages\\keras\\engine\\training.py\u001b[0m in \u001b[0;36m_standardize_input_data\u001b[1;34m(data, names, shapes, check_batch_axis, exception_prefix)\u001b[0m\n\u001b[0;32m     84\u001b[0m                 \u001b[1;34m'Expected to see '\u001b[0m \u001b[1;33m+\u001b[0m \u001b[0mstr\u001b[0m\u001b[1;33m(\u001b[0m\u001b[0mlen\u001b[0m\u001b[1;33m(\u001b[0m\u001b[0mnames\u001b[0m\u001b[1;33m)\u001b[0m\u001b[1;33m)\u001b[0m \u001b[1;33m+\u001b[0m \u001b[1;34m' array(s), '\u001b[0m\u001b[1;33m\u001b[0m\u001b[0m\n\u001b[0;32m     85\u001b[0m                 \u001b[1;34m'but instead got the following list of '\u001b[0m \u001b[1;33m+\u001b[0m\u001b[1;33m\u001b[0m\u001b[0m\n\u001b[1;32m---> 86\u001b[1;33m                 str(len(data)) + ' arrays: ' + str(data)[:200] + '...')\n\u001b[0m\u001b[0;32m     87\u001b[0m         \u001b[1;32melif\u001b[0m \u001b[0mlen\u001b[0m\u001b[1;33m(\u001b[0m\u001b[0mnames\u001b[0m\u001b[1;33m)\u001b[0m \u001b[1;33m>\u001b[0m \u001b[1;36m1\u001b[0m\u001b[1;33m:\u001b[0m\u001b[1;33m\u001b[0m\u001b[0m\n\u001b[0;32m     88\u001b[0m             raise ValueError(\n",
      "\u001b[1;31mValueError\u001b[0m: Error when checking model input: the list of Numpy arrays that you are passing to your model is not the size the model expected. Expected to see 2 array(s), but instead got the following list of 1 arrays: [array([[array([-2.16766121e+12, -1.81288407e+12, -1.49843944e+12, -1.22281169e+12,\n       -9.84475739e+11, -7.81816721e+11, -6.12858344e+11, -4.74534979e+11,\n       -3.63058879e+11, -2.74448104e+11, ..."
     ]
    }
   ],
   "source": [
    "history_combined = combined.fit( [X_train, X_train_im], y_train_im,\n",
    "                               batch_size=32,\n",
    "                               epochs=2, verbose=2,\n",
    "                               validation_data=(np.array(X_test_double), y_test_im))"
   ]
  },
  {
   "cell_type": "code",
   "execution_count": 646,
   "metadata": {},
   "outputs": [
    {
     "data": {
      "text/plain": [
       "(4056, 50)"
      ]
     },
     "execution_count": 646,
     "metadata": {},
     "output_type": "execute_result"
    }
   ],
   "source": [
    "X_train.shape"
   ]
  },
  {
   "cell_type": "code",
   "execution_count": 647,
   "metadata": {},
   "outputs": [
    {
     "data": {
      "text/plain": [
       "(4056, 62, 111, 1)"
      ]
     },
     "execution_count": 647,
     "metadata": {},
     "output_type": "execute_result"
    }
   ],
   "source": [
    "X_train_im.shape"
   ]
  },
  {
   "cell_type": "code",
   "execution_count": 675,
   "metadata": {},
   "outputs": [
    {
     "ename": "ValueError",
     "evalue": "could not broadcast input array from shape (4056,50) into shape (4056)",
     "output_type": "error",
     "traceback": [
      "\u001b[1;31m---------------------------------------------------------------------------\u001b[0m",
      "\u001b[1;31mValueError\u001b[0m                                Traceback (most recent call last)",
      "\u001b[1;32m<ipython-input-675-39b959f3bcbc>\u001b[0m in \u001b[0;36m<module>\u001b[1;34m()\u001b[0m\n\u001b[1;32m----> 1\u001b[1;33m \u001b[0mnp\u001b[0m\u001b[1;33m.\u001b[0m\u001b[0marray\u001b[0m\u001b[1;33m(\u001b[0m\u001b[1;33m[\u001b[0m\u001b[0mX_train\u001b[0m\u001b[1;33m,\u001b[0m\u001b[0mX_train_im\u001b[0m\u001b[1;33m]\u001b[0m\u001b[1;33m)\u001b[0m\u001b[1;33m\u001b[0m\u001b[0m\n\u001b[0m",
      "\u001b[1;31mValueError\u001b[0m: could not broadcast input array from shape (4056,50) into shape (4056)"
     ]
    }
   ],
   "source": []
  },
  {
   "cell_type": "code",
   "execution_count": 653,
   "metadata": {
    "scrolled": false
   },
   "outputs": [
    {
     "data": {
      "text/plain": [
       "(62, 111, 1)"
      ]
     },
     "execution_count": 653,
     "metadata": {},
     "output_type": "execute_result"
    }
   ],
   "source": [
    "X_train_im[2].shape"
   ]
  },
  {
   "cell_type": "code",
   "execution_count": 662,
   "metadata": {},
   "outputs": [],
   "source": [
    "X_train_double = []\n",
    "for i in range(4056):\n",
    "    X_train_double.append([X_train[i],X_train_im[i]])"
   ]
  },
  {
   "cell_type": "code",
   "execution_count": 678,
   "metadata": {},
   "outputs": [
    {
     "data": {
      "text/plain": [
       "(4056, 2)"
      ]
     },
     "execution_count": 678,
     "metadata": {},
     "output_type": "execute_result"
    }
   ],
   "source": [
    "np.array(X_train_double).shape"
   ]
  },
  {
   "cell_type": "code",
   "execution_count": 664,
   "metadata": {},
   "outputs": [],
   "source": [
    "X_test_double = []\n",
    "for i in range(len(X_test)):\n",
    "    X_test_double.append([X_test[i],X_test_im[i]])"
   ]
  },
  {
   "cell_type": "code",
   "execution_count": null,
   "metadata": {},
   "outputs": [],
   "source": []
  }
 ],
 "metadata": {
  "kernelspec": {
   "display_name": "Python 3",
   "language": "python",
   "name": "python3"
  },
  "language_info": {
   "codemirror_mode": {
    "name": "ipython",
    "version": 3
   },
   "file_extension": ".py",
   "mimetype": "text/x-python",
   "name": "python",
   "nbconvert_exporter": "python",
   "pygments_lexer": "ipython3",
   "version": "3.6.4"
  }
 },
 "nbformat": 4,
 "nbformat_minor": 2
}
